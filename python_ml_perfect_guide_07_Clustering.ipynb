{
  "nbformat": 4,
  "nbformat_minor": 0,
  "metadata": {
    "colab": {
      "provenance": [],
      "collapsed_sections": [],
      "toc_visible": true,
      "authorship_tag": "ABX9TyNE1i1jH68SOyJdI6OlujG2",
      "include_colab_link": true
    },
    "kernelspec": {
      "name": "python3",
      "display_name": "Python 3"
    },
    "language_info": {
      "name": "python"
    }
  },
  "cells": [
    {
      "cell_type": "markdown",
      "metadata": {
        "id": "view-in-github",
        "colab_type": "text"
      },
      "source": [
        "<a href=\"https://colab.research.google.com/github/johyunkang/python-ml-guide/blob/main/python_ml_perfect_guide_07_Clustering.ipynb\" target=\"_parent\"><img src=\"https://colab.research.google.com/assets/colab-badge.svg\" alt=\"Open In Colab\"/></a>"
      ]
    },
    {
      "cell_type": "markdown",
      "metadata": {
        "id": "dkipCUL8TTc6"
      },
      "source": [
        "## 07 군집화\n"
      ]
    },
    {
      "cell_type": "markdown",
      "metadata": {
        "id": "pZCd16PiTdJt"
      },
      "source": [
        "### 01 K-평균 알고리즘 이해\n",
        "K-평균 군집 중심점(Centroid)이라는 특정한 임의의 지점을 선택해 해당 중심에 가장 가까운 포인트들을 선택하는 군집화 기법"
      ]
    },
    {
      "cell_type": "markdown",
      "metadata": {
        "id": "50e46IeSUL_C"
      },
      "source": [
        "![k-mean-clustering](https://user-images.githubusercontent.com/291782/142011995-c697fbde-af31-4f40-8c27-994fc3addb18.png)"
      ]
    },
    {
      "cell_type": "markdown",
      "metadata": {
        "id": "92j6wqULUNYK"
      },
      "source": [
        "K-평균의 장점\n",
        "- 일반적인 군집화에서 가장 많이 활용되는 알고리즘\n",
        "- 알고리즘이 쉽고 간결  \n",
        "\n",
        "&nbsp;  \n",
        "K-평균의 단점\n",
        "- 거리기반 알고리즘으로 속성의 개수가 매무 많을 경우 군집화 정확도가 떨어짐. (이를 위해 PCA로 차원감소 필요 할 수도 있음)\n",
        "- 반복을 수행하는데, 반복 횟수가 많을 경우 수행 시간이 매우 느려짐\n",
        "- 몇 개의 군집(cluster)을 선택해야 할지 가이드하기가 어려움"
      ]
    },
    {
      "cell_type": "markdown",
      "metadata": {
        "id": "a3dBLF3bBzXo"
      },
      "source": [
        "##### 사이킷런 Kmeans 클래스 소개"
      ]
    },
    {
      "cell_type": "code",
      "metadata": {
        "id": "SaLI1cmITOru",
        "colab": {
          "base_uri": "https://localhost:8080/",
          "height": 136
        },
        "outputId": "7f7d8701-7b0c-4fb0-d797-1ae96b01dc95"
      },
      "source": [
        "class sklearn.cluster.KMeans(n_cluster=8, init='k-means++', n_init=10, max_iter=300, tol=0.0001,\n",
        "                             precompute_distances='auto', verbose=0, random_state=None,\n",
        "                             copy_x=True, n_jobs=1, algorithm='auto')"
      ],
      "execution_count": null,
      "outputs": [
        {
          "output_type": "error",
          "ename": "SyntaxError",
          "evalue": "ignored",
          "traceback": [
            "\u001b[0;36m  File \u001b[0;32m\"<ipython-input-4-cbcc60cc0c42>\"\u001b[0;36m, line \u001b[0;32m1\u001b[0m\n\u001b[0;31m    class sklearn.cluster.KMeans(n_cluster=8, init='k-means++', n_init=10, max_iter=300, tol=0.0001,\u001b[0m\n\u001b[0m                 ^\u001b[0m\n\u001b[0;31mSyntaxError\u001b[0m\u001b[0;31m:\u001b[0m invalid syntax\n"
          ]
        }
      ]
    },
    {
      "cell_type": "markdown",
      "metadata": {
        "id": "CB5bgUwpCKdA"
      },
      "source": [
        "이 중 중요한 파라미터는 아래와 같음.  \n",
        "- KMeans 초기화 파라미터 중 가장 중요한 파라미터는 n_clusters이며, 이는 군집화할 개수, 즉 군집 중심점의 개수를 의미함.\n",
        "- init는 초기에 군집 중심점의 좌표를 설정할 방식을 말하며 보통은 임의로 중심을 설정하지 않고 일반적으로 k-means++ 방식으로 최초 설정함.\n",
        "- max_iter는 최대 반복 횟수이며, 이 횟수 이전에 모든 데이터의 중심점 이동이 없으면 종료합니다.\n",
        "\n",
        "&nbsp;  \n",
        "\n",
        "KMeans 는 fit(데이터세트) 또는 fit_transform(데이터세트) 메서드를 이용해 수행하면 됨.  \n",
        "다음은 주요 속성 정보\n",
        "- labels_ : 각 데이터 포인트가 속한 군집 중심점 레이블\n",
        "- cluster_centers_ : 각 군집 중심점 좌표 (shape는 [군집 개수, 피처 개수]). 이를 이용하면 군집 중심점 좌표가 어디인지 시각화 할 수 있음.\n"
      ]
    },
    {
      "cell_type": "markdown",
      "metadata": {
        "id": "6QQLDeunDPDD"
      },
      "source": [
        "##### K-평균을 이용한 붓꽃 데이터 세트 군집화"
      ]
    },
    {
      "cell_type": "code",
      "metadata": {
        "colab": {
          "base_uri": "https://localhost:8080/",
          "height": 405
        },
        "id": "aK5XhsFTDW8v",
        "outputId": "3e14f131-f722-4cc2-ba30-8dc6385fe23b"
      },
      "source": [
        "from sklearn.preprocessing import scale\n",
        "from sklearn.datasets import load_iris\n",
        "from sklearn.cluster import KMeans\n",
        "from matplotlib import pyplot as plt\n",
        "import numpy as np\n",
        "import pandas as pd\n",
        "%matplotlib inline\n",
        "\n",
        "iris = load_iris()\n",
        "print(type(iris))\n",
        "print(iris.data[:10])\n",
        "# 더 편리한 데이터 핸들링을 위해 DF로 변환\n",
        "irisdf = pd.DataFrame(data=iris.data, columns=['sepal_length', 'sepal_width', 'petal_length', 'petal_width'])\n",
        "irisdf.head()"
      ],
      "execution_count": 1,
      "outputs": [
        {
          "output_type": "stream",
          "name": "stdout",
          "text": [
            "<class 'sklearn.utils.Bunch'>\n",
            "[[5.1 3.5 1.4 0.2]\n",
            " [4.9 3.  1.4 0.2]\n",
            " [4.7 3.2 1.3 0.2]\n",
            " [4.6 3.1 1.5 0.2]\n",
            " [5.  3.6 1.4 0.2]\n",
            " [5.4 3.9 1.7 0.4]\n",
            " [4.6 3.4 1.4 0.3]\n",
            " [5.  3.4 1.5 0.2]\n",
            " [4.4 2.9 1.4 0.2]\n",
            " [4.9 3.1 1.5 0.1]]\n"
          ]
        },
        {
          "output_type": "execute_result",
          "data": {
            "text/plain": [
              "   sepal_length  sepal_width  petal_length  petal_width\n",
              "0           5.1          3.5           1.4          0.2\n",
              "1           4.9          3.0           1.4          0.2\n",
              "2           4.7          3.2           1.3          0.2\n",
              "3           4.6          3.1           1.5          0.2\n",
              "4           5.0          3.6           1.4          0.2"
            ],
            "text/html": [
              "\n",
              "  <div id=\"df-8a1600f2-2b44-4823-8d05-4eea6afb1a1d\">\n",
              "    <div class=\"colab-df-container\">\n",
              "      <div>\n",
              "<style scoped>\n",
              "    .dataframe tbody tr th:only-of-type {\n",
              "        vertical-align: middle;\n",
              "    }\n",
              "\n",
              "    .dataframe tbody tr th {\n",
              "        vertical-align: top;\n",
              "    }\n",
              "\n",
              "    .dataframe thead th {\n",
              "        text-align: right;\n",
              "    }\n",
              "</style>\n",
              "<table border=\"1\" class=\"dataframe\">\n",
              "  <thead>\n",
              "    <tr style=\"text-align: right;\">\n",
              "      <th></th>\n",
              "      <th>sepal_length</th>\n",
              "      <th>sepal_width</th>\n",
              "      <th>petal_length</th>\n",
              "      <th>petal_width</th>\n",
              "    </tr>\n",
              "  </thead>\n",
              "  <tbody>\n",
              "    <tr>\n",
              "      <th>0</th>\n",
              "      <td>5.1</td>\n",
              "      <td>3.5</td>\n",
              "      <td>1.4</td>\n",
              "      <td>0.2</td>\n",
              "    </tr>\n",
              "    <tr>\n",
              "      <th>1</th>\n",
              "      <td>4.9</td>\n",
              "      <td>3.0</td>\n",
              "      <td>1.4</td>\n",
              "      <td>0.2</td>\n",
              "    </tr>\n",
              "    <tr>\n",
              "      <th>2</th>\n",
              "      <td>4.7</td>\n",
              "      <td>3.2</td>\n",
              "      <td>1.3</td>\n",
              "      <td>0.2</td>\n",
              "    </tr>\n",
              "    <tr>\n",
              "      <th>3</th>\n",
              "      <td>4.6</td>\n",
              "      <td>3.1</td>\n",
              "      <td>1.5</td>\n",
              "      <td>0.2</td>\n",
              "    </tr>\n",
              "    <tr>\n",
              "      <th>4</th>\n",
              "      <td>5.0</td>\n",
              "      <td>3.6</td>\n",
              "      <td>1.4</td>\n",
              "      <td>0.2</td>\n",
              "    </tr>\n",
              "  </tbody>\n",
              "</table>\n",
              "</div>\n",
              "      <button class=\"colab-df-convert\" onclick=\"convertToInteractive('df-8a1600f2-2b44-4823-8d05-4eea6afb1a1d')\"\n",
              "              title=\"Convert this dataframe to an interactive table.\"\n",
              "              style=\"display:none;\">\n",
              "        \n",
              "  <svg xmlns=\"http://www.w3.org/2000/svg\" height=\"24px\"viewBox=\"0 0 24 24\"\n",
              "       width=\"24px\">\n",
              "    <path d=\"M0 0h24v24H0V0z\" fill=\"none\"/>\n",
              "    <path d=\"M18.56 5.44l.94 2.06.94-2.06 2.06-.94-2.06-.94-.94-2.06-.94 2.06-2.06.94zm-11 1L8.5 8.5l.94-2.06 2.06-.94-2.06-.94L8.5 2.5l-.94 2.06-2.06.94zm10 10l.94 2.06.94-2.06 2.06-.94-2.06-.94-.94-2.06-.94 2.06-2.06.94z\"/><path d=\"M17.41 7.96l-1.37-1.37c-.4-.4-.92-.59-1.43-.59-.52 0-1.04.2-1.43.59L10.3 9.45l-7.72 7.72c-.78.78-.78 2.05 0 2.83L4 21.41c.39.39.9.59 1.41.59.51 0 1.02-.2 1.41-.59l7.78-7.78 2.81-2.81c.8-.78.8-2.07 0-2.86zM5.41 20L4 18.59l7.72-7.72 1.47 1.35L5.41 20z\"/>\n",
              "  </svg>\n",
              "      </button>\n",
              "      \n",
              "  <style>\n",
              "    .colab-df-container {\n",
              "      display:flex;\n",
              "      flex-wrap:wrap;\n",
              "      gap: 12px;\n",
              "    }\n",
              "\n",
              "    .colab-df-convert {\n",
              "      background-color: #E8F0FE;\n",
              "      border: none;\n",
              "      border-radius: 50%;\n",
              "      cursor: pointer;\n",
              "      display: none;\n",
              "      fill: #1967D2;\n",
              "      height: 32px;\n",
              "      padding: 0 0 0 0;\n",
              "      width: 32px;\n",
              "    }\n",
              "\n",
              "    .colab-df-convert:hover {\n",
              "      background-color: #E2EBFA;\n",
              "      box-shadow: 0px 1px 2px rgba(60, 64, 67, 0.3), 0px 1px 3px 1px rgba(60, 64, 67, 0.15);\n",
              "      fill: #174EA6;\n",
              "    }\n",
              "\n",
              "    [theme=dark] .colab-df-convert {\n",
              "      background-color: #3B4455;\n",
              "      fill: #D2E3FC;\n",
              "    }\n",
              "\n",
              "    [theme=dark] .colab-df-convert:hover {\n",
              "      background-color: #434B5C;\n",
              "      box-shadow: 0px 1px 3px 1px rgba(0, 0, 0, 0.15);\n",
              "      filter: drop-shadow(0px 1px 2px rgba(0, 0, 0, 0.3));\n",
              "      fill: #FFFFFF;\n",
              "    }\n",
              "  </style>\n",
              "\n",
              "      <script>\n",
              "        const buttonEl =\n",
              "          document.querySelector('#df-8a1600f2-2b44-4823-8d05-4eea6afb1a1d button.colab-df-convert');\n",
              "        buttonEl.style.display =\n",
              "          google.colab.kernel.accessAllowed ? 'block' : 'none';\n",
              "\n",
              "        async function convertToInteractive(key) {\n",
              "          const element = document.querySelector('#df-8a1600f2-2b44-4823-8d05-4eea6afb1a1d');\n",
              "          const dataTable =\n",
              "            await google.colab.kernel.invokeFunction('convertToInteractive',\n",
              "                                                     [key], {});\n",
              "          if (!dataTable) return;\n",
              "\n",
              "          const docLinkHtml = 'Like what you see? Visit the ' +\n",
              "            '<a target=\"_blank\" href=https://colab.research.google.com/notebooks/data_table.ipynb>data table notebook</a>'\n",
              "            + ' to learn more about interactive tables.';\n",
              "          element.innerHTML = '';\n",
              "          dataTable['output_type'] = 'display_data';\n",
              "          await google.colab.output.renderOutput(dataTable, element);\n",
              "          const docLink = document.createElement('div');\n",
              "          docLink.innerHTML = docLinkHtml;\n",
              "          element.appendChild(docLink);\n",
              "        }\n",
              "      </script>\n",
              "    </div>\n",
              "  </div>\n",
              "  "
            ]
          },
          "metadata": {},
          "execution_count": 1
        }
      ]
    },
    {
      "cell_type": "code",
      "metadata": {
        "colab": {
          "base_uri": "https://localhost:8080/"
        },
        "id": "nmOgF4wEEXnR",
        "outputId": "7794aee0-cfa7-4ab4-9efe-e3b61cad4763"
      },
      "source": [
        "# 붓꽃 데이터 세트를 3 그룹(n_cluster=3)으로 군집화\n",
        "kmeans = KMeans(n_clusters=3, init='k-means++', max_iter=300, random_state=0)\n",
        "kmeans.fit(irisdf)\n",
        "print(kmeans.labels_)"
      ],
      "execution_count": 2,
      "outputs": [
        {
          "output_type": "stream",
          "name": "stdout",
          "text": [
            "[1 1 1 1 1 1 1 1 1 1 1 1 1 1 1 1 1 1 1 1 1 1 1 1 1 1 1 1 1 1 1 1 1 1 1 1 1\n",
            " 1 1 1 1 1 1 1 1 1 1 1 1 1 0 0 2 0 0 0 0 0 0 0 0 0 0 0 0 0 0 0 0 0 0 0 0 0\n",
            " 0 0 0 2 0 0 0 0 0 0 0 0 0 0 0 0 0 0 0 0 0 0 0 0 0 0 2 0 2 2 2 2 0 2 2 2 2\n",
            " 2 2 0 0 2 2 2 2 0 2 0 2 0 2 2 0 0 2 2 2 2 2 0 2 2 2 2 0 2 2 2 0 2 2 2 0 2\n",
            " 2 0]\n"
          ]
        }
      ]
    },
    {
      "cell_type": "markdown",
      "metadata": {
        "id": "d4KQgLIsEvsJ"
      },
      "source": [
        "labels_ 의 값이 0,1, 2로 되어 있으며 이는 각 레코드가 첫 번째 군집, 두번째 군집, 세번째 군집에 속함을 의미"
      ]
    },
    {
      "cell_type": "code",
      "metadata": {
        "colab": {
          "base_uri": "https://localhost:8080/"
        },
        "id": "uwOZ8f2fFDNt",
        "outputId": "720cd29a-bb33-4800-f4d7-093b6312c59a"
      },
      "source": [
        "# 실제 붓꽃 품종 분류 값과 얼마나 차이가 나는지로 군집화가 효과적으로 됐는지 확인하겠음\n",
        "irisdf['target'] = iris.target\n",
        "irisdf['cluster'] = kmeans.labels_\n",
        "iris_result = irisdf.groupby(['target', 'cluster'])['sepal_length'].count()\n",
        "print(iris_result)"
      ],
      "execution_count": 3,
      "outputs": [
        {
          "output_type": "stream",
          "name": "stdout",
          "text": [
            "target  cluster\n",
            "0       1          50\n",
            "1       0          48\n",
            "        2           2\n",
            "2       0          14\n",
            "        2          36\n",
            "Name: sepal_length, dtype: int64\n"
          ]
        }
      ]
    },
    {
      "cell_type": "markdown",
      "metadata": {
        "id": "ZtuE-3VQFcuQ"
      },
      "source": [
        "- 분류 타겟 0 값인 데이터는 1번 군집으로 모두 잘 그룹핑 됨\n",
        "- 분류 타겟 1 값인 데이터는 2개만 2번 군집, 나머지 48개는 모두 0번 군집으로 그룹핑 되었음.\n",
        "- 하지만 분류 타겟이 2 값인 데이터는 0번 군집으로 14개, 2번 군집으로 36개가 분산되어 그룹핑 됨."
      ]
    },
    {
      "cell_type": "code",
      "metadata": {
        "colab": {
          "base_uri": "https://localhost:8080/",
          "height": 206
        },
        "id": "XSy16DgNF5Cm",
        "outputId": "a3e9e09b-70ca-4df8-a328-6314cc70670c"
      },
      "source": [
        "# 군집화 시각화\n",
        "from sklearn.decomposition import PCA\n",
        "\n",
        "pca = PCA(n_components=2)\n",
        "pca_transformed = pca.fit_transform(iris.data)\n",
        "\n",
        "irisdf['pca_x'] = pca_transformed[:, 0]\n",
        "irisdf['pca_y'] = pca_transformed[:, 1]\n",
        "irisdf.head()"
      ],
      "execution_count": 4,
      "outputs": [
        {
          "output_type": "execute_result",
          "data": {
            "text/plain": [
              "   sepal_length  sepal_width  petal_length  petal_width  target  cluster  \\\n",
              "0           5.1          3.5           1.4          0.2       0        1   \n",
              "1           4.9          3.0           1.4          0.2       0        1   \n",
              "2           4.7          3.2           1.3          0.2       0        1   \n",
              "3           4.6          3.1           1.5          0.2       0        1   \n",
              "4           5.0          3.6           1.4          0.2       0        1   \n",
              "\n",
              "      pca_x     pca_y  \n",
              "0 -2.684126  0.319397  \n",
              "1 -2.714142 -0.177001  \n",
              "2 -2.888991 -0.144949  \n",
              "3 -2.745343 -0.318299  \n",
              "4 -2.728717  0.326755  "
            ],
            "text/html": [
              "\n",
              "  <div id=\"df-f168c0e9-2b38-4b54-8b03-297acb063714\">\n",
              "    <div class=\"colab-df-container\">\n",
              "      <div>\n",
              "<style scoped>\n",
              "    .dataframe tbody tr th:only-of-type {\n",
              "        vertical-align: middle;\n",
              "    }\n",
              "\n",
              "    .dataframe tbody tr th {\n",
              "        vertical-align: top;\n",
              "    }\n",
              "\n",
              "    .dataframe thead th {\n",
              "        text-align: right;\n",
              "    }\n",
              "</style>\n",
              "<table border=\"1\" class=\"dataframe\">\n",
              "  <thead>\n",
              "    <tr style=\"text-align: right;\">\n",
              "      <th></th>\n",
              "      <th>sepal_length</th>\n",
              "      <th>sepal_width</th>\n",
              "      <th>petal_length</th>\n",
              "      <th>petal_width</th>\n",
              "      <th>target</th>\n",
              "      <th>cluster</th>\n",
              "      <th>pca_x</th>\n",
              "      <th>pca_y</th>\n",
              "    </tr>\n",
              "  </thead>\n",
              "  <tbody>\n",
              "    <tr>\n",
              "      <th>0</th>\n",
              "      <td>5.1</td>\n",
              "      <td>3.5</td>\n",
              "      <td>1.4</td>\n",
              "      <td>0.2</td>\n",
              "      <td>0</td>\n",
              "      <td>1</td>\n",
              "      <td>-2.684126</td>\n",
              "      <td>0.319397</td>\n",
              "    </tr>\n",
              "    <tr>\n",
              "      <th>1</th>\n",
              "      <td>4.9</td>\n",
              "      <td>3.0</td>\n",
              "      <td>1.4</td>\n",
              "      <td>0.2</td>\n",
              "      <td>0</td>\n",
              "      <td>1</td>\n",
              "      <td>-2.714142</td>\n",
              "      <td>-0.177001</td>\n",
              "    </tr>\n",
              "    <tr>\n",
              "      <th>2</th>\n",
              "      <td>4.7</td>\n",
              "      <td>3.2</td>\n",
              "      <td>1.3</td>\n",
              "      <td>0.2</td>\n",
              "      <td>0</td>\n",
              "      <td>1</td>\n",
              "      <td>-2.888991</td>\n",
              "      <td>-0.144949</td>\n",
              "    </tr>\n",
              "    <tr>\n",
              "      <th>3</th>\n",
              "      <td>4.6</td>\n",
              "      <td>3.1</td>\n",
              "      <td>1.5</td>\n",
              "      <td>0.2</td>\n",
              "      <td>0</td>\n",
              "      <td>1</td>\n",
              "      <td>-2.745343</td>\n",
              "      <td>-0.318299</td>\n",
              "    </tr>\n",
              "    <tr>\n",
              "      <th>4</th>\n",
              "      <td>5.0</td>\n",
              "      <td>3.6</td>\n",
              "      <td>1.4</td>\n",
              "      <td>0.2</td>\n",
              "      <td>0</td>\n",
              "      <td>1</td>\n",
              "      <td>-2.728717</td>\n",
              "      <td>0.326755</td>\n",
              "    </tr>\n",
              "  </tbody>\n",
              "</table>\n",
              "</div>\n",
              "      <button class=\"colab-df-convert\" onclick=\"convertToInteractive('df-f168c0e9-2b38-4b54-8b03-297acb063714')\"\n",
              "              title=\"Convert this dataframe to an interactive table.\"\n",
              "              style=\"display:none;\">\n",
              "        \n",
              "  <svg xmlns=\"http://www.w3.org/2000/svg\" height=\"24px\"viewBox=\"0 0 24 24\"\n",
              "       width=\"24px\">\n",
              "    <path d=\"M0 0h24v24H0V0z\" fill=\"none\"/>\n",
              "    <path d=\"M18.56 5.44l.94 2.06.94-2.06 2.06-.94-2.06-.94-.94-2.06-.94 2.06-2.06.94zm-11 1L8.5 8.5l.94-2.06 2.06-.94-2.06-.94L8.5 2.5l-.94 2.06-2.06.94zm10 10l.94 2.06.94-2.06 2.06-.94-2.06-.94-.94-2.06-.94 2.06-2.06.94z\"/><path d=\"M17.41 7.96l-1.37-1.37c-.4-.4-.92-.59-1.43-.59-.52 0-1.04.2-1.43.59L10.3 9.45l-7.72 7.72c-.78.78-.78 2.05 0 2.83L4 21.41c.39.39.9.59 1.41.59.51 0 1.02-.2 1.41-.59l7.78-7.78 2.81-2.81c.8-.78.8-2.07 0-2.86zM5.41 20L4 18.59l7.72-7.72 1.47 1.35L5.41 20z\"/>\n",
              "  </svg>\n",
              "      </button>\n",
              "      \n",
              "  <style>\n",
              "    .colab-df-container {\n",
              "      display:flex;\n",
              "      flex-wrap:wrap;\n",
              "      gap: 12px;\n",
              "    }\n",
              "\n",
              "    .colab-df-convert {\n",
              "      background-color: #E8F0FE;\n",
              "      border: none;\n",
              "      border-radius: 50%;\n",
              "      cursor: pointer;\n",
              "      display: none;\n",
              "      fill: #1967D2;\n",
              "      height: 32px;\n",
              "      padding: 0 0 0 0;\n",
              "      width: 32px;\n",
              "    }\n",
              "\n",
              "    .colab-df-convert:hover {\n",
              "      background-color: #E2EBFA;\n",
              "      box-shadow: 0px 1px 2px rgba(60, 64, 67, 0.3), 0px 1px 3px 1px rgba(60, 64, 67, 0.15);\n",
              "      fill: #174EA6;\n",
              "    }\n",
              "\n",
              "    [theme=dark] .colab-df-convert {\n",
              "      background-color: #3B4455;\n",
              "      fill: #D2E3FC;\n",
              "    }\n",
              "\n",
              "    [theme=dark] .colab-df-convert:hover {\n",
              "      background-color: #434B5C;\n",
              "      box-shadow: 0px 1px 3px 1px rgba(0, 0, 0, 0.15);\n",
              "      filter: drop-shadow(0px 1px 2px rgba(0, 0, 0, 0.3));\n",
              "      fill: #FFFFFF;\n",
              "    }\n",
              "  </style>\n",
              "\n",
              "      <script>\n",
              "        const buttonEl =\n",
              "          document.querySelector('#df-f168c0e9-2b38-4b54-8b03-297acb063714 button.colab-df-convert');\n",
              "        buttonEl.style.display =\n",
              "          google.colab.kernel.accessAllowed ? 'block' : 'none';\n",
              "\n",
              "        async function convertToInteractive(key) {\n",
              "          const element = document.querySelector('#df-f168c0e9-2b38-4b54-8b03-297acb063714');\n",
              "          const dataTable =\n",
              "            await google.colab.kernel.invokeFunction('convertToInteractive',\n",
              "                                                     [key], {});\n",
              "          if (!dataTable) return;\n",
              "\n",
              "          const docLinkHtml = 'Like what you see? Visit the ' +\n",
              "            '<a target=\"_blank\" href=https://colab.research.google.com/notebooks/data_table.ipynb>data table notebook</a>'\n",
              "            + ' to learn more about interactive tables.';\n",
              "          element.innerHTML = '';\n",
              "          dataTable['output_type'] = 'display_data';\n",
              "          await google.colab.output.renderOutput(dataTable, element);\n",
              "          const docLink = document.createElement('div');\n",
              "          docLink.innerHTML = docLinkHtml;\n",
              "          element.appendChild(docLink);\n",
              "        }\n",
              "      </script>\n",
              "    </div>\n",
              "  </div>\n",
              "  "
            ]
          },
          "metadata": {},
          "execution_count": 4
        }
      ]
    },
    {
      "cell_type": "code",
      "metadata": {
        "colab": {
          "base_uri": "https://localhost:8080/",
          "height": 295
        },
        "id": "GpMBrn8uGWYk",
        "outputId": "106bd1e5-21c1-49bf-bcbe-f20aa5df0e70"
      },
      "source": [
        "# 군집 값이 0, 1, 2인 경우마다 별도의 인덱스로 추출\n",
        "marker0_ind = irisdf[irisdf['cluster'] == 0].index\n",
        "marker1_ind = irisdf[irisdf['cluster'] == 1].index\n",
        "marker2_ind = irisdf[irisdf['cluster'] == 2].index\n",
        "\n",
        "# 군집 값이 0, 1, 2에 해당하는 인덱스로 각 군집 레벨의 pca_x, pca_y 값 추출. o, s, ^로 마커표시\n",
        "plt.scatter(x=irisdf.loc[marker0_ind, 'pca_x'], y=irisdf.loc[marker0_ind, 'pca_y'], marker='o')\n",
        "plt.scatter(x=irisdf.loc[marker1_ind, 'pca_x'], y=irisdf.loc[marker1_ind, 'pca_y'], marker='s')\n",
        "plt.scatter(x=irisdf.loc[marker2_ind, 'pca_x'], y=irisdf.loc[marker2_ind, 'pca_y'], marker='^')\n",
        "\n",
        "plt.xlabel('PCA 1')\n",
        "plt.ylabel('PCA 2')\n",
        "plt.title('3 Cluster Visualization by 2 PCA Components')\n",
        "plt.show()"
      ],
      "execution_count": 5,
      "outputs": [
        {
          "output_type": "display_data",
          "data": {
            "text/plain": [
              "<Figure size 432x288 with 1 Axes>"
            ],
            "image/png": "[encoded data removed]"
          },
          "metadata": {
            "needs_background": "light"
          }
        }
      ]
    },
    {
      "cell_type": "markdown",
      "metadata": {
        "id": "Ej6JLbvsHKaK"
      },
      "source": [
        "- Cluster 1을 나타내는 네모(square, s)는 명확히 다른 군집과 잘 분리돼 있음\n",
        "- Cluster 0을 나타내는 동그라미('o')와 Cluster 2를 나타내는 세모('^')는 상당수준 분리되어 있지만, 네모만큼 명확하지는 않음."
      ]
    },
    {
      "cell_type": "markdown",
      "metadata": {
        "id": "in-na7X4gn0A"
      },
      "source": [
        "##### 군집화 알고리즘 테스트를 위한 데이터 생성\n",
        "\n",
        "make_blobs() 의 간략한 사용법을 알아보자.  \n",
        "make_blobs()를 호출하면 피처 데이터 세트와 타깃 데이터 세트가 튜플(Tuple)로 반환 됨.  \n",
        "make_blobs() 의 호출 파라미터는 다음과 같음  \n",
        "- n_samples : 생성할 총 데이터 개수. 디폴트는 100개.\n",
        "- n_features : 데이터의 피처 개수. 시각화를 목표로 할 경우 2개로 설정 해 보통 첫 번째는 X 좌표, 두 번째 피처는 Y 좌표상에 표현\n",
        "- centers : int 값. 예를 들어 3으로 설정하면 군집의 개수를 나타냄. 그렇지 않고 ndarray 형태로 표현할 경우 개별 군집 중심점의 좌표를 의미\n",
        "- cluster_std : 생성될 군집 데이터의 표준 편차를 의미함. 만일 float 값 0.8로 지정하면 군집 내에서 데이터가 표준편차 0.8을 가진 값으로 만들어짐. [0.8, 1.2, 0.6] 과 같은 형태로 표현하면 첫번째 군집 내 데이터의 표준편차는 0.8, 두번째는 1.2 표준편차 데이터 형태로 만들어짐. 군집별로 서로 다른 표준 편차를 가진 데이터 세트를 만들 때 사용."
      ]
    },
    {
      "cell_type": "markdown",
      "metadata": {
        "id": "OIGackQ6yynD"
      },
      "source": [
        "X, y = make_blobs(n_samples=200, n_features=2, centers=3, random_state=0)을 호출하면 총 200개의 레코드와 2개의 피처가 3개의 군집화 기반 분포도를 가진 피처 데이터 세트 X와, 동시에 3개의 군집화 값을 가진 타깃 데이터 세트 y가 반환 됨."
      ]
    },
    {
      "cell_type": "code",
      "metadata": {
        "id": "O1Vdv_NagrF5",
        "colab": {
          "base_uri": "https://localhost:8080/"
        },
        "outputId": "1aa5d461-c799-46ff-b3ad-9e3da8b236fb"
      },
      "source": [
        "import numpy as np\n",
        "from matplotlib import pyplot as plt\n",
        "from sklearn.cluster import KMeans\n",
        "from sklearn.datasets import make_blobs\n",
        "%matplotlib inline\n",
        "\n",
        "X, y = make_blobs(n_samples=200, n_features=2, centers=3, cluster_std=0.8, random_state=0)\n",
        "print(X.shape, y.shape)\n",
        "\n",
        "# y target 값의 분포를 확인\n",
        "unique, counts = np.unique(y, return_counts=True)\n",
        "print(unique, counts)"
      ],
      "execution_count": 6,
      "outputs": [
        {
          "output_type": "stream",
          "name": "stdout",
          "text": [
            "(200, 2) (200,)\n",
            "[0 1 2] [67 67 66]\n"
          ]
        }
      ]
    },
    {
      "cell_type": "markdown",
      "metadata": {
        "id": "fxB4PyzuzugV"
      },
      "source": [
        "좀 더 데이터 가공을 편히라게 하기 위해 위 데이터 세트를 DF로 변경하겠음.  \n",
        "피처 이름은 ftr1, ftr2"
      ]
    },
    {
      "cell_type": "code",
      "metadata": {
        "colab": {
          "base_uri": "https://localhost:8080/",
          "height": 143
        },
        "id": "L_ROl0Wzz11C",
        "outputId": "49ee1ab8-39a3-4f20-a65e-b4cb0bfea174"
      },
      "source": [
        "import pandas as pd\n",
        "\n",
        "clusterDF = pd.DataFrame(data=X, columns=['ftr1', 'ftr2'])\n",
        "clusterDF['target'] = y\n",
        "clusterDF.head(3)"
      ],
      "execution_count": 7,
      "outputs": [
        {
          "output_type": "execute_result",
          "data": {
            "text/plain": [
              "       ftr1      ftr2  target\n",
              "0 -1.692427  3.622025       2\n",
              "1  0.697940  4.428867       0\n",
              "2  1.100228  4.606317       0"
            ],
            "text/html": [
              "\n",
              "  <div id=\"df-2801024c-4e8e-4ecb-8744-1bc504080ef4\">\n",
              "    <div class=\"colab-df-container\">\n",
              "      <div>\n",
              "<style scoped>\n",
              "    .dataframe tbody tr th:only-of-type {\n",
              "        vertical-align: middle;\n",
              "    }\n",
              "\n",
              "    .dataframe tbody tr th {\n",
              "        vertical-align: top;\n",
              "    }\n",
              "\n",
              "    .dataframe thead th {\n",
              "        text-align: right;\n",
              "    }\n",
              "</style>\n",
              "<table border=\"1\" class=\"dataframe\">\n",
              "  <thead>\n",
              "    <tr style=\"text-align: right;\">\n",
              "      <th></th>\n",
              "      <th>ftr1</th>\n",
              "      <th>ftr2</th>\n",
              "      <th>target</th>\n",
              "    </tr>\n",
              "  </thead>\n",
              "  <tbody>\n",
              "    <tr>\n",
              "      <th>0</th>\n",
              "      <td>-1.692427</td>\n",
              "      <td>3.622025</td>\n",
              "      <td>2</td>\n",
              "    </tr>\n",
              "    <tr>\n",
              "      <th>1</th>\n",
              "      <td>0.697940</td>\n",
              "      <td>4.428867</td>\n",
              "      <td>0</td>\n",
              "    </tr>\n",
              "    <tr>\n",
              "      <th>2</th>\n",
              "      <td>1.100228</td>\n",
              "      <td>4.606317</td>\n",
              "      <td>0</td>\n",
              "    </tr>\n",
              "  </tbody>\n",
              "</table>\n",
              "</div>\n",
              "      <button class=\"colab-df-convert\" onclick=\"convertToInteractive('df-2801024c-4e8e-4ecb-8744-1bc504080ef4')\"\n",
              "              title=\"Convert this dataframe to an interactive table.\"\n",
              "              style=\"display:none;\">\n",
              "        \n",
              "  <svg xmlns=\"http://www.w3.org/2000/svg\" height=\"24px\"viewBox=\"0 0 24 24\"\n",
              "       width=\"24px\">\n",
              "    <path d=\"M0 0h24v24H0V0z\" fill=\"none\"/>\n",
              "    <path d=\"M18.56 5.44l.94 2.06.94-2.06 2.06-.94-2.06-.94-.94-2.06-.94 2.06-2.06.94zm-11 1L8.5 8.5l.94-2.06 2.06-.94-2.06-.94L8.5 2.5l-.94 2.06-2.06.94zm10 10l.94 2.06.94-2.06 2.06-.94-2.06-.94-.94-2.06-.94 2.06-2.06.94z\"/><path d=\"M17.41 7.96l-1.37-1.37c-.4-.4-.92-.59-1.43-.59-.52 0-1.04.2-1.43.59L10.3 9.45l-7.72 7.72c-.78.78-.78 2.05 0 2.83L4 21.41c.39.39.9.59 1.41.59.51 0 1.02-.2 1.41-.59l7.78-7.78 2.81-2.81c.8-.78.8-2.07 0-2.86zM5.41 20L4 18.59l7.72-7.72 1.47 1.35L5.41 20z\"/>\n",
              "  </svg>\n",
              "      </button>\n",
              "      \n",
              "  <style>\n",
              "    .colab-df-container {\n",
              "      display:flex;\n",
              "      flex-wrap:wrap;\n",
              "      gap: 12px;\n",
              "    }\n",
              "\n",
              "    .colab-df-convert {\n",
              "      background-color: #E8F0FE;\n",
              "      border: none;\n",
              "      border-radius: 50%;\n",
              "      cursor: pointer;\n",
              "      display: none;\n",
              "      fill: #1967D2;\n",
              "      height: 32px;\n",
              "      padding: 0 0 0 0;\n",
              "      width: 32px;\n",
              "    }\n",
              "\n",
              "    .colab-df-convert:hover {\n",
              "      background-color: #E2EBFA;\n",
              "      box-shadow: 0px 1px 2px rgba(60, 64, 67, 0.3), 0px 1px 3px 1px rgba(60, 64, 67, 0.15);\n",
              "      fill: #174EA6;\n",
              "    }\n",
              "\n",
              "    [theme=dark] .colab-df-convert {\n",
              "      background-color: #3B4455;\n",
              "      fill: #D2E3FC;\n",
              "    }\n",
              "\n",
              "    [theme=dark] .colab-df-convert:hover {\n",
              "      background-color: #434B5C;\n",
              "      box-shadow: 0px 1px 3px 1px rgba(0, 0, 0, 0.15);\n",
              "      filter: drop-shadow(0px 1px 2px rgba(0, 0, 0, 0.3));\n",
              "      fill: #FFFFFF;\n",
              "    }\n",
              "  </style>\n",
              "\n",
              "      <script>\n",
              "        const buttonEl =\n",
              "          document.querySelector('#df-2801024c-4e8e-4ecb-8744-1bc504080ef4 button.colab-df-convert');\n",
              "        buttonEl.style.display =\n",
              "          google.colab.kernel.accessAllowed ? 'block' : 'none';\n",
              "\n",
              "        async function convertToInteractive(key) {\n",
              "          const element = document.querySelector('#df-2801024c-4e8e-4ecb-8744-1bc504080ef4');\n",
              "          const dataTable =\n",
              "            await google.colab.kernel.invokeFunction('convertToInteractive',\n",
              "                                                     [key], {});\n",
              "          if (!dataTable) return;\n",
              "\n",
              "          const docLinkHtml = 'Like what you see? Visit the ' +\n",
              "            '<a target=\"_blank\" href=https://colab.research.google.com/notebooks/data_table.ipynb>data table notebook</a>'\n",
              "            + ' to learn more about interactive tables.';\n",
              "          element.innerHTML = '';\n",
              "          dataTable['output_type'] = 'display_data';\n",
              "          await google.colab.output.renderOutput(dataTable, element);\n",
              "          const docLink = document.createElement('div');\n",
              "          docLink.innerHTML = docLinkHtml;\n",
              "          element.appendChild(docLink);\n",
              "        }\n",
              "      </script>\n",
              "    </div>\n",
              "  </div>\n",
              "  "
            ]
          },
          "metadata": {},
          "execution_count": 7
        }
      ]
    },
    {
      "cell_type": "code",
      "metadata": {
        "colab": {
          "base_uri": "https://localhost:8080/",
          "height": 265
        },
        "id": "WltLcqgS0F1k",
        "outputId": "8b5aa8f5-ee14-46e7-cddf-163a555a0898"
      },
      "source": [
        "target_list = np.unique(y)\n",
        "\n",
        "# 각 타깃별 산점도의 마커 값\n",
        "markers = ['o', 's', '^', 'P', 'D', 'H', 'x']\n",
        "\n",
        "# 3개의 군집 영역으로 구분한 데이터 세트를 생성했으므로 target_list는 [0, 1, 2]\n",
        "# target=0, target=1, target=2 로 scatter plot을 marker 별로 생성\n",
        "for target in target_list:\n",
        "    target_cluster = clusterDF[clusterDF['target'] == target]\n",
        "    plt.scatter(x=target_cluster['ftr1'], y=target_cluster['ftr2'], edgecolor='k', marker=markers[target])\n",
        "\n",
        "plt.show()"
      ],
      "execution_count": 8,
      "outputs": [
        {
          "output_type": "display_data",
          "data": {
            "text/plain": [
              "<Figure size 432x288 with 1 Axes>"
            ],
            "image/png": "[encoded data removed]"
          },
          "metadata": {
            "needs_background": "light"
          }
        }
      ]
    },
    {
      "cell_type": "code",
      "metadata": {
        "id": "f4-9URlX02h9",
        "colab": {
          "base_uri": "https://localhost:8080/",
          "height": 392
        },
        "outputId": "d2d8a049-4560-411e-be35-0e92763e4ab0"
      },
      "source": [
        "# KMeans 객체를 이용해 X 데이터를 Kmeans 클러스터링 수행\n",
        "kmeans = KMeans(n_clusters=3, init='k-means++', max_iter=200, random_state=0)\n",
        "cluster_labels = kmeans.fit_predict(X)\n",
        "clusterDF['kmeans_label'] = cluster_labels\n",
        "# kmeans_label : 군집번호를 의미\n",
        "\n",
        "# cluster_centers_ 는 개별 클러스터의 중심 위치 좌표 시각화를 위해 추출\n",
        "centers = kmeans.cluster_centers_\n",
        "unique_labels = np.unique(cluster_labels)\n",
        "markers = ['o', 's', '^', 'P', 'D', 'H', 'x']\n",
        "\n",
        "# 군집된 label 유형별로 iteration 하면서 marker 별로 scatter plot 수행\n",
        "for label in unique_labels:\n",
        "    label_cluster = clusterDF[clusterDF['kmeans_label'] == label]\n",
        "    center_x_y = centers[label]\n",
        "    plt.scatter(x=label_cluster['ftr1'], y=label_cluster['ftr2']\n",
        "                , edgecolor='k', marker=markers[label])\n",
        "    \n",
        "    # 군집별 중심 위치 좌표 시각화\n",
        "    plt.scatter(x=center_x_y[0], y=center_x_y[1], s=200, color='white',\n",
        "                alpha=0.9, edgecolor='k', marker=markers[label])\n",
        "    plt.scatter(x=center_x_y[0], y=center_x_y[1], s=70, color='k',\n",
        "                edgecolor='k', marker='$%d$' % label)\n",
        "    \n",
        "plt.show()\n",
        "\n",
        "print(clusterDF.groupby('target')['kmeans_label'].value_counts())"
      ],
      "execution_count": 9,
      "outputs": [
        {
          "output_type": "display_data",
          "data": {
            "text/plain": [
              "<Figure size 432x288 with 1 Axes>"
            ],
            "image/png": "[encoded data removed]"
          },
          "metadata": {
            "needs_background": "light"
          }
        },
        {
          "output_type": "stream",
          "name": "stdout",
          "text": [
            "target  kmeans_label\n",
            "0       0               66\n",
            "        1                1\n",
            "1       2               67\n",
            "2       1               65\n",
            "        2                1\n",
            "Name: kmeans_label, dtype: int64\n"
          ]
        }
      ]
    },
    {
      "cell_type": "markdown",
      "source": [
        "### 02 군집평가 (Cluster Evaluation)\n",
        "\n"
      ],
      "metadata": {
        "id": "AQEEHnhfICBv"
      }
    },
    {
      "cell_type": "markdown",
      "source": [
        "##### 실루엣분석의 개요 (silhouette analysis)\n",
        "\n",
        "실루엣 분석은 실루엣 계수 (silhoutte coefficient)를 기반으로 함\n",
        "실루엣 계수는 개별 데이터가 가지는 군집화 지표\n",
        "효율적으로 잘 분리됐다는 것은 다른 군집과의 거리는 떨어져 있고 동일 군집끼리의 데이터는 서로 가깝게 잘 뭉쳐 있다는 의미.\n",
        "*이탤릭체 텍스트*\n",
        "실루엣 계수값 s(i) = $ \\dfrac {(b(i) - a(i))} {max(a(i), b(i))} , \\quad -1 \\le s(i) \\le 1$\n",
        "\n",
        "실루엣 계수는 1로 가까워질수록 근처의 군집과 더 멀리 떨어져 있다는 것이고, 0에 가까울수록 근처 군집과 가까워진다는 것임\n",
        "\n",
        "\n",
        "마이너스(-) 값은 아예 다른 군집에 데이터 포인트가 할당됐음을 뜻함."
      ],
      "metadata": {
        "id": "Zxlhrti5I_3X"
      }
    },
    {
      "cell_type": "markdown",
      "source": [
        "##### 좋은 군집화의 기준\n",
        "1. 전체 실루엣 계수의 평균값, 즉 사이킷런의 silhoutte_score() 값은 0 ~ 1 상이의 값을 가지며, 1에 가까울수록 좋습니다.\n",
        "\n",
        "2. 하지만 전체 실루엣 계수의 평균값과 더불어 개별 군집의 평균값의 편차가 크지 않아야 함. 즉, 개별군집의 실루엣 계수 평균값이 \n",
        "전체 실루엣 계수의 평균값에서 크게 벗어나지 않는 것이 중요함. 만약 전체 실루엣 계수의 평균값은 높지만, 특정 군집의 실루엣 계수 평균값만\n",
        "유난히 높고 다른 군집들의 계수 평균값은 낮으면 좋은 군집화 조건이 아님"
      ],
      "metadata": {
        "id": "Md3ye4kIBBtc"
      }
    },
    {
      "cell_type": "markdown",
      "source": [
        "##### 붓꽃 데이터 세트를 이용한 군집평가"
      ],
      "metadata": {
        "id": "BfdwVO5LBrs0"
      }
    },
    {
      "cell_type": "code",
      "source": [
        "from sklearn.preprocessing import scale\n",
        "from sklearn.datasets import load_iris\n",
        "from sklearn.cluster import KMeans\n",
        "\n",
        "# 실루엣 분석 평가 지표 값을 구하기 위한 API 추가\n",
        "from sklearn.metrics import silhouette_samples, silhouette_score\n",
        "import matplotlib.pyplot as plt\n",
        "import numpy as np\n",
        "import pandas as pd\n",
        "\n",
        "%matplotlib inline\n",
        "\n",
        "iris = load_iris()\n",
        "feature_names = ['sepal_length', 'sepal_width', 'petal_length', 'petal_width']\n",
        "isisdf = pd.DataFrame(data=iris.data, columns=feature_names)\n",
        "kmeans = KMeans(n_clusters=3, init='k-means++', max_iter=300, random_state=0).fit(irisdf)\n",
        "irisdf['cluster'] = kmeans.labels_\n",
        "\n",
        "\n",
        "# iris의 모든 개별 데이터에 실루엣 계수 값을 구함\n",
        "score_samples = silhouette_samples(iris.data, irisdf['cluster'])\n",
        "print('silhouette_samples() return 값의 shape ', score_samples.shape)\n",
        "\n",
        "# irisdf 실루엣 계수 컬럼 추가\n",
        "irisdf['silhouette_coeff'] = score_samples\n",
        "# print(score_samples)\n",
        "\n",
        "# 모든 데이터의 평균 실루엣 계수 값을 구함\n",
        "average_score = silhouette_score(iris.data, irisdf['cluster'])\n",
        "print('붓꽃 데이터 세트 Silhouette Analysis score:{0:.3f}'.format(average_score))\n",
        "\n",
        "irisdf.groupby('cluster')['silhouette_coeff'].mean()\n",
        "\n",
        "# p.423 부터"
      ],
      "metadata": {
        "colab": {
          "base_uri": "https://localhost:8080/"
        },
        "id": "ukKphT_cBu22",
        "outputId": "10044adc-9ec1-4fbb-ff5d-8ea08e6671a6"
      },
      "execution_count": 10,
      "outputs": [
        {
          "output_type": "stream",
          "name": "stdout",
          "text": [
            "silhouette_samples() return 값의 shape  (150,)\n",
            "붓꽃 데이터 세트 Silhouette Analysis score:0.553\n"
          ]
        },
        {
          "output_type": "execute_result",
          "data": {
            "text/plain": [
              "cluster\n",
              "0    0.798140\n",
              "1    0.417320\n",
              "2    0.451105\n",
              "Name: silhouette_coeff, dtype: float64"
            ]
          },
          "metadata": {},
          "execution_count": 10
        }
      ]
    },
    {
      "cell_type": "markdown",
      "source": [
        "##### visualize_silhouette()\n",
        "- 부록 소스코드\n",
        "- 출처 : https://github.com/wikibook/pymldg-rev/blob/master/7%EC%9E%A5/7-2_Cluster%20evaluation.ipynb\n",
        "- 사용법\n",
        " ```python\n",
        " # 피처 데이터 세트 X_features에 대해 군집이 2, 3, 4, 5,개일 때 군집별 평균 실루엣 계수 값을 알고 싶을 때\n",
        " visualize_silhouette([2, 3, 4, 5], X_features)\n",
        " ```\n"
      ],
      "metadata": {
        "id": "HPUuOI0Fddc8"
      }
    },
    {
      "cell_type": "code",
      "source": [
        "### 여러개의 클러스터링 갯수를 List로 입력 받아 각각의 실루엣 계수를 면적으로 시각화한 함수 작성\n",
        "def visualize_silhouette(cluster_lists, X_features): \n",
        "    \n",
        "    from sklearn.datasets import make_blobs\n",
        "    from sklearn.cluster import KMeans\n",
        "    from sklearn.metrics import silhouette_samples, silhouette_score\n",
        "\n",
        "    import matplotlib.pyplot as plt\n",
        "    import matplotlib.cm as cm\n",
        "    import math\n",
        "    \n",
        "    # 입력값으로 클러스터링 갯수들을 리스트로 받아서, 각 갯수별로 클러스터링을 적용하고 실루엣 개수를 구함\n",
        "    n_cols = len(cluster_lists)\n",
        "    \n",
        "    # plt.subplots()으로 리스트에 기재된 클러스터링 수만큼의 sub figures를 가지는 axs 생성 \n",
        "    fig, axs = plt.subplots(figsize=(4*n_cols, 4), nrows=1, ncols=n_cols)\n",
        "    \n",
        "    # 리스트에 기재된 클러스터링 갯수들을 차례로 iteration 수행하면서 실루엣 개수 시각화\n",
        "    for ind, n_cluster in enumerate(cluster_lists):\n",
        "        \n",
        "        # KMeans 클러스터링 수행하고, 실루엣 스코어와 개별 데이터의 실루엣 값 계산. \n",
        "        clusterer = KMeans(n_clusters = n_cluster, max_iter=500, random_state=0)\n",
        "        cluster_labels = clusterer.fit_predict(X_features)\n",
        "        \n",
        "        sil_avg = silhouette_score(X_features, cluster_labels)\n",
        "        sil_values = silhouette_samples(X_features, cluster_labels)\n",
        "        \n",
        "        y_lower = 10\n",
        "        axs[ind].set_title('Number of Cluster : '+ str(n_cluster)+'\\n' \\\n",
        "                          'Silhouette Score :' + str(round(sil_avg,3)) )\n",
        "        axs[ind].set_xlabel(\"The silhouette coefficient values\")\n",
        "        axs[ind].set_ylabel(\"Cluster label\")\n",
        "        axs[ind].set_xlim([-0.1, 1])\n",
        "        axs[ind].set_ylim([0, len(X_features) + (n_cluster + 1) * 10])\n",
        "        axs[ind].set_yticks([])  # Clear the yaxis labels / ticks\n",
        "        axs[ind].set_xticks([0, 0.2, 0.4, 0.6, 0.8, 1])\n",
        "        \n",
        "        # 클러스터링 갯수별로 fill_betweenx( )형태의 막대 그래프 표현. \n",
        "        for i in range(n_cluster):\n",
        "            ith_cluster_sil_values = sil_values[cluster_labels==i]\n",
        "            ith_cluster_sil_values.sort()\n",
        "            \n",
        "            size_cluster_i = ith_cluster_sil_values.shape[0]\n",
        "            y_upper = y_lower + size_cluster_i\n",
        "            \n",
        "            color = cm.nipy_spectral(float(i) / n_cluster)\n",
        "            axs[ind].fill_betweenx(np.arange(y_lower, y_upper), 0, ith_cluster_sil_values, \\\n",
        "                                facecolor=color, edgecolor=color, alpha=0.7)\n",
        "            axs[ind].text(-0.05, y_lower + 0.5 * size_cluster_i, str(i))\n",
        "            y_lower = y_upper + 10\n",
        "            \n",
        "        axs[ind].axvline(x=sil_avg, color=\"red\", linestyle=\"--\")"
      ],
      "metadata": {
        "id": "d68qIojudcfU"
      },
      "execution_count": 11,
      "outputs": []
    },
    {
      "cell_type": "code",
      "source": [
        "# make_blobs를 통해 군집화를 위한 4개의 군집 중심의 500개 2차원 데이터 세트 생성\n",
        "from sklearn.datasets import make_blobs\n",
        "\n",
        "x, y = make_blobs(n_samples=500, n_features=2, centers=4, cluster_std=1,\n",
        "                  center_box=(-10.0, 10.0), shuffle=True, random_state=1)\n",
        "\n",
        "# 군집 개수가 2,3, 4, 5개일 때의 군집별 실루엣 계수 평균값을 시각화\n",
        "visualize_silhouette([2, 3, 4, 5], x)"
      ],
      "metadata": {
        "colab": {
          "base_uri": "https://localhost:8080/",
          "height": 310
        },
        "id": "2oGiUT7td_g9",
        "outputId": "4919d41a-0070-4bc3-c5bb-a653afe1b408"
      },
      "execution_count": 12,
      "outputs": [
        {
          "output_type": "display_data",
          "data": {
            "text/plain": [
              "<Figure size 1152x288 with 4 Axes>"
            ],
            "image/png": "[encoded data removed]"
          },
          "metadata": {
            "needs_background": "light"
          }
        }
      ]
    },
    {
      "cell_type": "code",
      "source": [
        "from sklearn.datasets import load_iris\n",
        "iris = load_iris()\n",
        "\n",
        "visualize_silhouette([2, 3, 4, 5], iris.data)"
      ],
      "metadata": {
        "colab": {
          "base_uri": "https://localhost:8080/",
          "height": 310
        },
        "id": "jieYU7Y8fp2W",
        "outputId": "45b79d1d-7c04-4c13-c913-2e342cfe68f0"
      },
      "execution_count": 13,
      "outputs": [
        {
          "output_type": "display_data",
          "data": {
            "text/plain": [
              "<Figure size 1152x288 with 4 Axes>"
            ],
            "image/png": "[encoded data removed]"
          },
          "metadata": {
            "needs_background": "light"
          }
        }
      ]
    },
    {
      "cell_type": "markdown",
      "source": [
        "### 03 평균 이동 (Mean Shift)"
      ],
      "metadata": {
        "id": "XmWJRBhmh8QN"
      }
    },
    {
      "cell_type": "markdown",
      "source": [
        "- 확률밀도함수 (probability density function)\n",
        "- KDE (Kernel Density Estimation)"
      ],
      "metadata": {
        "id": "pWivCdAaiHzH"
      }
    },
    {
      "cell_type": "code",
      "source": [
        "import numpy as np\n",
        "from sklearn.datasets import make_blobs\n",
        "from sklearn.cluster import MeanShift\n",
        "\n",
        "x, y = make_blobs(n_samples=200, n_features=2, centers=3, cluster_std=0.7, random_state=0)\n",
        "\n",
        "meanshift = MeanShift(bandwidth=0.8)\n",
        "cluster_labels = meanshift.fit_predict(x)\n",
        "print('cluster labels 유형:', np.unique(cluster_labels))"
      ],
      "metadata": {
        "colab": {
          "base_uri": "https://localhost:8080/"
        },
        "id": "orTz4sgniSW2",
        "outputId": "3e96ea5b-1502-43d8-8a20-d52788dbb4be"
      },
      "execution_count": 14,
      "outputs": [
        {
          "output_type": "stream",
          "name": "stdout",
          "text": [
            "cluster labels 유형: [0 1 2 3 4 5]\n"
          ]
        }
      ]
    },
    {
      "cell_type": "markdown",
      "source": [
        "위 코드 실행 결과 군집이 0 ~ 5까지 6개로 분류. 지나치게 세분화되어 군집화되었음\n",
        "\n",
        "일반적으로 bandwidth 값을 작게 할수록 군집 개수가 많아짐.\n",
        "\n",
        "이번에는 bandwidth를 살짝 높인 1.0 으로 해서 MeanShift를 수행해 보겠음"
      ],
      "metadata": {
        "id": "5lTM6O4ujNHQ"
      }
    },
    {
      "cell_type": "code",
      "source": [
        "meanshift = MeanShift(bandwidth=1.0)\n",
        "cluster_labels = meanshift.fit_predict(x)\n",
        "print('cluster labels 유형:', np.unique(cluster_labels))"
      ],
      "metadata": {
        "colab": {
          "base_uri": "https://localhost:8080/"
        },
        "id": "5Gz2DH2ljeEx",
        "outputId": "0496618f-b308-4b36-c602-2ee646747d59"
      },
      "execution_count": 15,
      "outputs": [
        {
          "output_type": "stream",
          "name": "stdout",
          "text": [
            "cluster labels 유형: [0 1 2]\n"
          ]
        }
      ]
    },
    {
      "cell_type": "markdown",
      "source": [
        "3개의 군집으로 잘 군집화 되었음\n",
        "\n",
        "MeanShift에서는 bandwidth를 최적화값으로 설정하는 것이 매우 중요.\n",
        "\n",
        "사이킷런은 최적화된 bandwidth 값을 찾기 위해 **estimate_bandwidth()** 함수 제공"
      ],
      "metadata": {
        "id": "r2b0qkHaju4O"
      }
    },
    {
      "cell_type": "code",
      "source": [
        "from sklearn.cluster import estimate_bandwidth\n",
        "\n",
        "# estimate_bandwidth(): 최적화된 bandwidth 값 반환\n",
        "bandwidth = estimate_bandwidth(x)\n",
        "print('최적 bandwidth 값:', round(bandwidth, 3))"
      ],
      "metadata": {
        "colab": {
          "base_uri": "https://localhost:8080/"
        },
        "id": "jQgP2MtSkIG2",
        "outputId": "4390eb2b-ff13-4219-e831-c33a7b2b3f9b"
      },
      "execution_count": 16,
      "outputs": [
        {
          "output_type": "stream",
          "name": "stdout",
          "text": [
            "최적 bandwidth 값: 1.816\n"
          ]
        }
      ]
    },
    {
      "cell_type": "code",
      "source": [
        "import pandas as pd\n",
        "\n",
        "clusterDF = pd.DataFrame(data=x, columns=['ftr1', 'ftr2'])\n",
        "clusterDF['target'] = y\n",
        "\n",
        "# estimate_bandwidth()로 최적의 bandwidth 계산\n",
        "best_bandwidth = estimate_bandwidth(x)\n",
        "\n",
        "meanshift = MeanShift(bandwidth=best_bandwidth)\n",
        "cluster_labels = meanshift.fit_predict(x)\n",
        "print('cluster labels 유형:', np.unique(cluster_labels))"
      ],
      "metadata": {
        "colab": {
          "base_uri": "https://localhost:8080/"
        },
        "id": "GEVUYnNQkiih",
        "outputId": "29bca7e9-2bc7-4b25-b912-1cf1a20fc13d"
      },
      "execution_count": 17,
      "outputs": [
        {
          "output_type": "stream",
          "name": "stdout",
          "text": [
            "cluster labels 유형: [0 1 2]\n"
          ]
        }
      ]
    },
    {
      "cell_type": "code",
      "source": [
        "import matplotlib.pyplot as plt\n",
        "%matplotlib inline\n",
        "\n",
        "clusterDF['meanshift_label'] = cluster_labels\n",
        "centers = meanshift.cluster_centers_\n",
        "unique_labels = np.unique(cluster_labels)\n",
        "markers = ['o', 's', '^', 'x', '*']\n",
        "\n",
        "for label in unique_labels :\n",
        "    label_cluster = clusterDF[clusterDF['meanshift_label'] == label]\n",
        "    center_x_y = centers[label]\n",
        "\n",
        "    # 군집별로 다른 마커로 산점도 적용\n",
        "    plt.scatter(x=label_cluster['ftr1'], y=label_cluster['ftr2'], edgecolor='k', marker=markers[label])\n",
        "\n",
        "    # 군집별 중심 표현\n",
        "    plt.scatter(x = center_x_y[0], y = center_x_y[1], s=200, color='gray', alpha=0.9,\n",
        "                marker=markers[label])\n",
        "    plt.scatter(x=center_x_y[0], y=center_x_y[1], s=70, color='k', edgecolor='red', marker='$%d$' % label)\n",
        "    \n",
        "plt.show()"
      ],
      "metadata": {
        "colab": {
          "base_uri": "https://localhost:8080/",
          "height": 269
        },
        "id": "KXNUBVQMlA8I",
        "outputId": "567c59d3-81ec-45e6-c3be-37e094c05e8b"
      },
      "execution_count": 18,
      "outputs": [
        {
          "output_type": "display_data",
          "data": {
            "text/plain": [
              "<Figure size 432x288 with 1 Axes>"
            ],
            "image/png": "[encoded data removed]"
          },
          "metadata": {
            "needs_background": "light"
          }
        }
      ]
    },
    {
      "cell_type": "code",
      "source": [
        "print(clusterDF.groupby('target')['meanshift_label'].value_counts())"
      ],
      "metadata": {
        "colab": {
          "base_uri": "https://localhost:8080/"
        },
        "id": "hDqFIKnxnD2i",
        "outputId": "aef1cc3c-5ce4-40c4-b0a9-d3e9036d78e2"
      },
      "execution_count": 19,
      "outputs": [
        {
          "output_type": "stream",
          "name": "stdout",
          "text": [
            "target  meanshift_label\n",
            "0       0                  67\n",
            "1       1                  67\n",
            "2       2                  66\n",
            "Name: meanshift_label, dtype: int64\n"
          ]
        }
      ]
    },
    {
      "cell_type": "markdown",
      "source": [
        "평균 이동의 장점은 데이터 세트의 형태를 특정 형태로 가정한다든가, 특정 분포도 기반의 모델로 가정하지 않기 때문에 좀 더 유연한 군집화가 가능한 것임.\n",
        "\n",
        "또한 이상치의 영향력도 크지 않고, 미리 군집의 개수를 정할 필요도 없음\n",
        "\n",
        "하지만 알고리즘의 수행 시간이 오래 걸리고 무엇보다도 bandwidth 의 크기에 따른 군집화 영향도가 매우 큼"
      ],
      "metadata": {
        "id": "_DcpSBOLnMFG"
      }
    },
    {
      "cell_type": "markdown",
      "source": [
        "### GMM (Gaussian Mixture Model)"
      ],
      "metadata": {
        "id": "jVUWudPgn6FY"
      }
    },
    {
      "cell_type": "markdown",
      "source": [
        "- GMM 은 데이터 여러 개의 가우시안 분포가 섞인 것으로 간주\n",
        "- GMM의 모수 추정은 아래 2가지를 추정하는 것\n",
        "    - 개별 정규 분포의 평균과 분산\n",
        "    - 각 데이터가 어떤 정규 분포에 해당하는지의 확률\n",
        "\n",
        "\n",
        "- 모수 추정을 위해 GMM은 EM (Expectation and Maximization) 방법을 적용"
      ],
      "metadata": {
        "id": "dMz3bx9zn9mL"
      }
    },
    {
      "cell_type": "markdown",
      "source": [
        "GMM을 이용한 붓꽃 데이터 세트 군집화"
      ],
      "metadata": {
        "id": "Dq801D-ou4XY"
      }
    },
    {
      "cell_type": "code",
      "source": [
        "from sklearn.datasets import load_iris\n",
        "from sklearn.cluster import KMeans\n",
        "\n",
        "import matplotlib.pyplot as plt\n",
        "import numpy as np\n",
        "import pandas as pd\n",
        "%matplotlib inline\n",
        "\n",
        "iris = load_iris()\n",
        "feature_names = ['sepal_length', 'sepal_width', 'petal_length', 'petal_width']\n",
        "\n",
        "# 좀 더 편리한 데이터 Handling을 위해 DF로 변환\n",
        "irisdf = pd.DataFrame(data=iris.data, columns=feature_names)\n",
        "irisdf['target'] = iris.target"
      ],
      "metadata": {
        "id": "UvnO90deu7Rt"
      },
      "execution_count": 20,
      "outputs": []
    },
    {
      "cell_type": "markdown",
      "source": [
        "- GaussianMixture 객체의 가장 중요한 초기화 파라미터는 n_components\n",
        "> n_components 는 gaussian mixture의 모델의 총 개수\n",
        "\n"
      ],
      "metadata": {
        "id": "OugXTqXzwFm-"
      }
    },
    {
      "cell_type": "code",
      "source": [
        "from sklearn.mixture import GaussianMixture\n",
        "\n",
        "gmm = GaussianMixture(n_components=3, random_state=0).fit(iris.data)\n",
        "gmm_cluster_labels = gmm.predict(iris.data)\n",
        "\n",
        "# 군집화 결과를 irisdf 의 'gmm_clustr' 컬럼 명으로 저장\n",
        "irisdf['gmm_cluster'] = gmm_cluster_labels\n",
        "irisdf['target'] = iris.target\n",
        "\n",
        "# target 값에 따라 gmm_cluster 값이 어떻게 매핑됐는지 확인\n",
        "iris_result = irisdf.groupby(['target'])['gmm_cluster'].value_counts()\n",
        "print(iris_result)"
      ],
      "metadata": {
        "colab": {
          "base_uri": "https://localhost:8080/"
        },
        "id": "M6BKOEklwXCM",
        "outputId": "fd51f127-7a29-4235-a75d-e6c5c1a292a1"
      },
      "execution_count": 21,
      "outputs": [
        {
          "output_type": "stream",
          "name": "stdout",
          "text": [
            "target  gmm_cluster\n",
            "0       0              50\n",
            "1       2              45\n",
            "        1               5\n",
            "2       1              50\n",
            "Name: gmm_cluster, dtype: int64\n"
          ]
        }
      ]
    },
    {
      "cell_type": "markdown",
      "source": [
        "- 결과 해석\n",
        "``` python\n",
        "target  gmm_cluster\n",
        "0       0              50\n",
        "1       2              45\n",
        "          1               5\n",
        "2       1              50\n",
        "```\n",
        "\n",
        "\n",
        "- target 0은 cluster 0으로, target 2는 cluster 1로 모두 잘 매핑됨\n",
        "- target 1만 cluster 2로 45개 (90%), cluster 1로 5개 (10%) 매핑됨\n",
        "- 앞 절의 K-평균 군집화 결과보다 더 효과적인 분류 결과가 도출 됨\n",
        "- 이는 어떤 알고리즘이 더 뛰어나다는 것이 아니라 붓꽃 데이터 세트가 GMM 군집화에 더 효과적이라는 의미"
      ],
      "metadata": {
        "id": "O7WvjqmYxy-1"
      }
    },
    {
      "cell_type": "markdown",
      "source": [
        "#### GMM과 K-평균의 비교"
      ],
      "metadata": {
        "id": "g_S-k38ryjVH"
      }
    },
    {
      "cell_type": "markdown",
      "source": [
        "- 앞으로도 군집을 자주 시각화 하므로 이를 위한 별도의 함수를 만들어 사용\n",
        "- visualize_cluster_plot(clusterobj, dataframe, label_name, iscenter=True)\n",
        "    - clusterobj : 사이킷런의 군집 수행 객체. KMeans 나 GausianMixture의 fit() 와 predict()로 군집화를 완료한 객체. 만약 군집의 결과 시각화가 아니고 make_blobs()로 생성한 데이터의 시각화일 경우 None 입력\n",
        "    - dataframe : 피처 데이터 세트와 label 값을 가진 DF\n",
        "    - label_name : 군집화 결과 시각화일 경우 DF 내의 군집화 label 컬럼명. make_blobs() 결과 시각화일 경우는 DF 내의 target 컬럼명\n",
        "    - iscenter : 사이킷런 cluster 객체가 군집 중심 좌표를 제공하면 True, 아니면 False\n",
        "- 출처 : https://github.com/wikibook/pymldg-rev/blob/master/7%EC%9E%A5/7-4_Gaussian_Mixture_Model.ipynb"
      ],
      "metadata": {
        "id": "1a0YcEY4zJOv"
      }
    },
    {
      "cell_type": "code",
      "source": [
        "### 클러스터 결과를 담은 DataFrame과 사이킷런의 Cluster 객체등을 인자로 받아 클러스터링 결과를 시각화하는 함수  \n",
        "def visualize_cluster_plot(clusterobj, dataframe, label_name, iscenter=True):\n",
        "    if iscenter :\n",
        "        centers = clusterobj.cluster_centers_\n",
        "        \n",
        "    unique_labels = np.unique(dataframe[label_name].values)\n",
        "    markers=['o', 's', '^', 'x', '*']\n",
        "    isNoise=False\n",
        "\n",
        "    for label in unique_labels:\n",
        "        label_cluster = dataframe[dataframe[label_name]==label]\n",
        "        if label == -1:\n",
        "            cluster_legend = 'Noise'\n",
        "            isNoise=True\n",
        "        else :\n",
        "            cluster_legend = 'Cluster '+str(label)\n",
        "        \n",
        "        plt.scatter(x=label_cluster['ftr1'], y=label_cluster['ftr2'], s=70,\\\n",
        "                    edgecolor='k', marker=markers[label], label=cluster_legend)\n",
        "        \n",
        "        if iscenter:\n",
        "            center_x_y = centers[label]\n",
        "            plt.scatter(x=center_x_y[0], y=center_x_y[1], s=250, color='white',\n",
        "                        alpha=0.9, edgecolor='k', marker=markers[label])\n",
        "            plt.scatter(x=center_x_y[0], y=center_x_y[1], s=70, color='k',\\\n",
        "                        edgecolor='k', marker='$%d$' % label)\n",
        "    if isNoise:\n",
        "        legend_loc='upper center'\n",
        "    else: legend_loc='upper right'\n",
        "    \n",
        "    plt.legend(loc=legend_loc)\n",
        "    plt.show()"
      ],
      "metadata": {
        "id": "E0WcJvc5zWy-"
      },
      "execution_count": 22,
      "outputs": []
    },
    {
      "cell_type": "code",
      "source": [
        "from sklearn.datasets import make_blobs\n",
        "\n",
        "# make_blobs()로 300개의 데이터 세트, 3개의 군집 세트, cluster_std=0.5를 만듦\n",
        "x, y = make_blobs(n_samples=300, n_features=2, centers=3, cluster_std=0.5, random_state=0)\n",
        "\n",
        "# 길게 늘어난 타원형의 데이터 세트를 생성하기 위해 변환함\n",
        "transformation = [[0.60834549, -0.63667341], [-0.40887718, 0.85253229]]\n",
        "x_aniso = np.dot(x, transformation)\n",
        "\n",
        "# feature 데이터 세트와 make_blobs()의 y 결과값을 DF 로 저장\n",
        "clusterdf = pd.DataFrame(data=x_aniso, columns=['ftr1', 'ftr2'])\n",
        "clusterdf['target'] = y\n",
        "\n",
        "# 생성된 데이터 세트를 target 별로 다른 마커로 표시해 시각화\n",
        "visualize_cluster_plot(None, clusterdf, 'target', iscenter=False)"
      ],
      "metadata": {
        "colab": {
          "base_uri": "https://localhost:8080/",
          "height": 265
        },
        "id": "dUd2TRyU0Xuu",
        "outputId": "c22c3799-1ef3-42d8-fe58-5e58de9fd41e"
      },
      "execution_count": 23,
      "outputs": [
        {
          "output_type": "display_data",
          "data": {
            "text/plain": [
              "<Figure size 432x288 with 1 Axes>"
            ],
            "image/png": "[encoded data removed]"
          },
          "metadata": {
            "needs_background": "light"
          }
        }
      ]
    },
    {
      "cell_type": "markdown",
      "source": [
        "- 위와 같이 타원형으로 만들어진 데이터 세트에서는 KMeans의 군집화 정확성이 떨어지게 됨\n",
        "- KMeans 가 어떻게 군집화 하는지 확인해 보겠음"
      ],
      "metadata": {
        "id": "NqwO1cMW1mKG"
      }
    },
    {
      "cell_type": "code",
      "source": [
        "# 3개의 군집 기반 KMeans를 x_aniso 데이터 세트에 적용\n",
        "kmeans = KMeans(3, random_state=0)\n",
        "kmeans_label = kmeans.fit_predict(x_aniso)\n",
        "clusterdf['kmeans_label'] = kmeans_label\n",
        "\n",
        "visualize_cluster_plot(kmeans, clusterdf, 'kmeans_label', iscenter=True)"
      ],
      "metadata": {
        "colab": {
          "base_uri": "https://localhost:8080/",
          "height": 265
        },
        "id": "pIJLMERm1w3Y",
        "outputId": "1b8fbb47-b8fc-4deb-c115-8dc8eb83d551"
      },
      "execution_count": 24,
      "outputs": [
        {
          "output_type": "display_data",
          "data": {
            "text/plain": [
              "<Figure size 432x288 with 1 Axes>"
            ],
            "image/png": "[encoded data removed]"
          },
          "metadata": {
            "needs_background": "light"
          }
        }
      ]
    },
    {
      "cell_type": "markdown",
      "source": [
        "- KMeans 는 원형 영역 위치로 개별 군집화가 되면서 원하는 방향으로 구성되지 않음을 알 수 있음\n",
        "\n",
        "- 이번에는 GMM 군집화 수행"
      ],
      "metadata": {
        "id": "11TZLVgm2I0r"
      }
    },
    {
      "cell_type": "code",
      "source": [
        "# 3개의 n_components 기반 GMM을 x_aniso 데이터 세트에 적용\n",
        "gmm = GaussianMixture(n_components=3, random_state=0)\n",
        "gmm_label = gmm.fit(x_aniso).predict(x_aniso)\n",
        "clusterdf['gmm_label'] = gmm_label\n",
        "\n",
        "# GaussianMixture는 cluster_centers_ 속성이 없으므로 iscenter를 False로 설정\n",
        "visualize_cluster_plot(gmm, clusterdf, 'gmm_label', iscenter=False)"
      ],
      "metadata": {
        "colab": {
          "base_uri": "https://localhost:8080/",
          "height": 265
        },
        "id": "s2G54WDQ2TZm",
        "outputId": "4be5db5c-8dce-4b18-f088-3f894b410b2a"
      },
      "execution_count": 25,
      "outputs": [
        {
          "output_type": "display_data",
          "data": {
            "text/plain": [
              "<Figure size 432x288 with 1 Axes>"
            ],
            "image/png": "[encoded data removed]"
          },
          "metadata": {
            "needs_background": "light"
          }
        }
      ]
    },
    {
      "cell_type": "markdown",
      "source": [
        "- 데이터가 분포된 방향에 따라 정확하게 군집화되었음을 알 수 있음\n",
        "- KMeans, GMM 군집 값을 비교해 얼마만큼의 효율 차이가 발생하는지 확인해 보겠음"
      ],
      "metadata": {
        "id": "x3xwn2eG2y-3"
      }
    },
    {
      "cell_type": "code",
      "source": [
        "print('### KMeans Clustering ###')\n",
        "print(clusterdf.groupby('target')['kmeans_label'].value_counts())\n",
        "print('\\n### Gaussian Mixture Clustering ###')\n",
        "print(clusterdf.groupby('target')['gmm_label'].value_counts())"
      ],
      "metadata": {
        "colab": {
          "base_uri": "https://localhost:8080/"
        },
        "id": "DWp9dzJY3DXO",
        "outputId": "78f0c350-d14a-463c-c06c-b6b4633c2be5"
      },
      "execution_count": 26,
      "outputs": [
        {
          "output_type": "stream",
          "name": "stdout",
          "text": [
            "### KMeans Clustering ###\n",
            "target  kmeans_label\n",
            "0       2                73\n",
            "        0                27\n",
            "1       1               100\n",
            "2       0                86\n",
            "        2                14\n",
            "Name: kmeans_label, dtype: int64\n",
            "\n",
            "### Gaussian Mixture Clustering ###\n",
            "target  gmm_label\n",
            "0       2            100\n",
            "1       1            100\n",
            "2       0            100\n",
            "Name: gmm_label, dtype: int64\n"
          ]
        }
      ]
    },
    {
      "cell_type": "markdown",
      "source": [
        "- KMeans 는 1번만 정확히 매핑, GMMM은 군집과 target이 잘 매핑됨"
      ],
      "metadata": {
        "id": "tRIAheia3ZdR"
      }
    },
    {
      "cell_type": "markdown",
      "source": [
        "### 05 DBSCAN"
      ],
      "metadata": {
        "id": "1a_p2AJ43fk2"
      }
    },
    {
      "cell_type": "markdown",
      "source": [
        "**DBSCAN**의 가장 중요한 두 가지 파라미터는 **입실론(epsilon)**으로 표기하는 주변 영역과 이 입실론 주변 영역에 포함되는 최소 데이터의 개수 **min points** 임\n",
        "\n",
        "- 입실론 주변 영역(epsilon) : 개별 데이터를 중심으로 입실론 반경을 가지는 원형의 영역\n",
        "- 최소 데이터 개수 (min points) : 개별 데이터의 입실론 주변 영역에 포함되는 타 데이터의 개수\n",
        "\n",
        "\n",
        "입실론 주변 영역 내에 포함되는 최소 데이터 개수를 충족시키는가 아닌가에 따라 데이터 포인트를 다음과 같이 정의\n",
        "- 핵심 포인트 (core point) : 주변 영역 내에 최소 데이터 개수 이상의 타 데이터를 가지고 있을 경우 해당 데이터를 핵심 포인트라고 함\n",
        "- 이웃 포인트 (Neighbor Point) : 주변 영역 내에 위치한 타 데이터를 이웃 포인트라고 함\n",
        "- 경계 포인트 (Border Point) : 주변 영역 내에 최소 데이터 개수 이상의 이웃 포인트를 가지고 있지 않지만, 핵심 포인트를 이웃 포인트로 가지고 있는 데이터를 경계 포인트라고 함\n",
        "- 잡음 포인트 (Noise Point) : 최소 데이터 개수 이상의 이웃 포인트를 가지고 있지 않으며, 핵심 포인트도 이웃 포인트로 가지고 있지 않는 데이터를 잡음 포인트라고 함"
      ],
      "metadata": {
        "id": "-ccyIzpJ3iNl"
      }
    },
    {
      "cell_type": "markdown",
      "source": [
        "#### DBSCAN 적용하기 - 붓꽃 데이터 세트"
      ],
      "metadata": {
        "id": "xAjPSPi7AzPY"
      }
    },
    {
      "cell_type": "code",
      "source": [
        "from sklearn.cluster import DBSCAN\n",
        "\n",
        "dbscan = DBSCAN(eps=0.6, min_samples=8, metric='euclidean')\n",
        "dbscan_labels = dbscan.fit_predict(iris.data)\n",
        "\n",
        "irisdf['dbscan_cluster'] = dbscan_labels\n",
        "irisdf['target'] = iris.target\n",
        "\n",
        "iris_result = irisdf.groupby(['target'])['dbscan_cluster'].value_counts()\n",
        "print(iris_result)"
      ],
      "metadata": {
        "colab": {
          "base_uri": "https://localhost:8080/"
        },
        "id": "hS0J7VHDA37S",
        "outputId": "8a47e42b-e3aa-4f31-c3c1-533ba467163b"
      },
      "execution_count": 27,
      "outputs": [
        {
          "output_type": "stream",
          "name": "stdout",
          "text": [
            "target  dbscan_cluster\n",
            "0        0                49\n",
            "        -1                 1\n",
            "1        1                46\n",
            "        -1                 4\n",
            "2        1                42\n",
            "        -1                 8\n",
            "Name: dbscan_cluster, dtype: int64\n"
          ]
        }
      ]
    },
    {
      "cell_type": "markdown",
      "source": [
        "- 위 결과에서 군집 레이블이 -1인 것은 노이즈에 속하는 군집을 의미\n",
        "- 따라서 위 DBSCAN에서 **0과 1 두 개의 군집**으로 군집화됐음\n",
        "- Target 값의 유형이 3가지 인데, 군집이 2개가 됐다고 군집화 효율이 떨어진다는 의미는 아님"
      ],
      "metadata": {
        "id": "GVoKI__tBgeQ"
      }
    },
    {
      "cell_type": "markdown",
      "source": [
        "- PCA를 이용해 2개의 피처로 압축 변환한 뒤, 앞 예제에서 사용한 visualize_cluster_plot() 함수를 이용해 시각화 해 보겠음"
      ],
      "metadata": {
        "id": "mR189sqmCALg"
      }
    },
    {
      "cell_type": "code",
      "source": [
        "from sklearn.decomposition import PCA\n",
        "\n",
        "# 2차원으로 시각화하기 위해 PCA n_components=2 로 피처 데이터 세트 변환\n",
        "pca = PCA(n_components=2, random_state=0)\n",
        "pca_transformed = pca.fit_transform(iris.data)\n",
        "\n",
        "# visualize_cluster_2d() 함수는 ftr1, ftr2 컬럼을 좌표에 표현하므로 PCA 변환값을 해당 컬럼으로 생성\n",
        "irisdf['ftr1'] = pca_transformed[:, 0]\n",
        "irisdf['ftr2'] = pca_transformed[:, 1]\n",
        "\n",
        "visualize_cluster_plot(dbscan, irisdf, 'dbscan_cluster', iscenter=False)"
      ],
      "metadata": {
        "colab": {
          "base_uri": "https://localhost:8080/",
          "height": 269
        },
        "id": "0kBS7_zeCK-f",
        "outputId": "334f5efa-00ff-442e-934b-8b0c69129220"
      },
      "execution_count": 28,
      "outputs": [
        {
          "output_type": "display_data",
          "data": {
            "text/plain": [
              "<Figure size 432x288 with 1 Axes>"
            ],
            "image/png": "[encoded data removed]"
          },
          "metadata": {
            "needs_background": "light"
          }
        }
      ]
    },
    {
      "cell_type": "markdown",
      "source": [
        "- 별표로 표현된 값은 모두 노이즈\n",
        "\n",
        "\n",
        "\n",
        "\n",
        "- eps를 기존의 0.6 에서 0.8로 증가시키면 노이즈 데이터 수가 줄어듬"
      ],
      "metadata": {
        "id": "X6wSxjJqCuOo"
      }
    },
    {
      "cell_type": "code",
      "source": [
        "from sklearn.cluster import DBSCAN\n",
        "\n",
        "dbscan = DBSCAN(eps=0.8, min_samples=8, metric='euclidean')\n",
        "dbscan_labels = dbscan.fit_predict(iris.data)\n",
        "\n",
        "irisdf['dbscan_cluster'] = dbscan_labels\n",
        "irisdf['target'] = iris.target\n",
        "\n",
        "iris_result = irisdf.groupby(['target'])['dbscan_cluster'].value_counts()\n",
        "print(iris_result)\n",
        "\n",
        "# 아래 함수 공식 레포에서 받아서 정의해라. p.447\n",
        "visualize_cluster_2d"
      ],
      "metadata": {
        "id": "V9bycbHLC_ox",
        "colab": {
          "base_uri": "https://localhost:8080/",
          "height": 317
        },
        "outputId": "e5c96225-3cdd-4dcb-883b-7b1147576455"
      },
      "execution_count": 29,
      "outputs": [
        {
          "output_type": "stream",
          "name": "stdout",
          "text": [
            "target  dbscan_cluster\n",
            "0        0                50\n",
            "1        1                50\n",
            "2        1                47\n",
            "        -1                 3\n",
            "Name: dbscan_cluster, dtype: int64\n"
          ]
        },
        {
          "output_type": "error",
          "ename": "NameError",
          "evalue": "ignored",
          "traceback": [
            "\u001b[0;31m---------------------------------------------------------------------------\u001b[0m",
            "\u001b[0;31mNameError\u001b[0m                                 Traceback (most recent call last)",
            "\u001b[0;32m<ipython-input-29-d70158a79060>\u001b[0m in \u001b[0;36m<module>\u001b[0;34m\u001b[0m\n\u001b[1;32m     11\u001b[0m \u001b[0;34m\u001b[0m\u001b[0m\n\u001b[1;32m     12\u001b[0m \u001b[0;31m# 아래 함수 공식 레포에서 받아서 정의해라. p.447\u001b[0m\u001b[0;34m\u001b[0m\u001b[0;34m\u001b[0m\u001b[0;34m\u001b[0m\u001b[0m\n\u001b[0;32m---> 13\u001b[0;31m \u001b[0mvisualize_cluster_2d\u001b[0m\u001b[0;34m\u001b[0m\u001b[0;34m\u001b[0m\u001b[0m\n\u001b[0m",
            "\u001b[0;31mNameError\u001b[0m: name 'visualize_cluster_2d' is not defined"
          ]
        }
      ]
    }
  ]
}