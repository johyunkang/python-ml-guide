{
  "nbformat": 4,
  "nbformat_minor": 0,
  "metadata": {
    "colab": {
      "provenance": [],
      "collapsed_sections": [],
      "mount_file_id": "1cP4e5sHyy82v_TelpYNt_SIy52HN35yW",
      "authorship_tag": "ABX9TyMgUqTpFGWSTOP0A9CmM79V",
      "include_colab_link": true
    },
    "kernelspec": {
      "name": "python3",
      "display_name": "Python 3"
    },
    "language_info": {
      "name": "python"
    }
  },
  "cells": [
    {
      "cell_type": "markdown",
      "metadata": {
        "id": "view-in-github",
        "colab_type": "text"
      },
      "source": [
        "<a href=\"https://colab.research.google.com/github/johyunkang/python-ml-guide/blob/main/python_ml_perfect_guide_08_TextAnal_08%EB%AC%B8%EC%84%9C%EC%9C%A0%EC%82%AC%EB%8F%84.ipynb\" target=\"_parent\"><img src=\"https://colab.research.google.com/assets/colab-badge.svg\" alt=\"Open In Colab\"/></a>"
      ]
    },
    {
      "cell_type": "markdown",
      "source": [
        "### 08 문서 유사도\n",
        "#### 문서 유사도 측정 방법 - 코사인 유사도"
      ],
      "metadata": {
        "id": "gYc3d1LVKgh_"
      }
    },
    {
      "cell_type": "markdown",
      "source": [
        "#### 두 벡터 사잇각\n",
        "![vector-cosine](https://user-images.githubusercontent.com/291782/192300647-c052217e-8234-43d5-aab7-d46f6def1c32.png)\n",
        "\n",
        "\n",
        "$A * B = || A || || B || cos\\theta$\n",
        "\n",
        "\n",
        "![cosine-similarity](https://user-images.githubusercontent.com/291782/192301158-ee7d73fa-4191-4681-9da7-a1152885a224.png)\n",
        "\n",
        "\n",
        "- 코사인 유사도가 문서의 유사도 비교에 가장 많이 사용되는 이유가 있음\n",
        "    - 문서를 피처 벡터화 변환하면 차원이 매우 많은 희소 행렬이 되기 쉬움\n",
        "    - 이러한 희소 행렬 기반에서 문서와 문서 벡터간의 크기에 기반한 유사도 지표(예를 들어 유클리드 거리 기반 지표)는 정확도가 떨어지기 쉬움\n",
        "    - 또한 문서가 매우 긴 경우 단어의 빈도수가 더 많을 것이기 때문에 이러한 빈도수에만 기반해서는 공정한 비교를 할 수 없음\n",
        "\n",
        "\n",
        "\n",
        "\n",
        "\n",
        "- 간단한 문서에 대해서 서로 간의 문서 유사도를 코사인 유사도 기반으로 구해 보겠음"
      ],
      "metadata": {
        "id": "H--hxrSqK8VQ"
      }
    },
    {
      "cell_type": "code",
      "source": [
        "import numpy as np\n",
        "\n",
        "def cos_similarity(v1, v2) :\n",
        "    dot_product = np.dot(v1, v2)\n",
        "    l2_norm = (np.sqrt(sum(np.square(v1))) * np.sqrt(sum(np.square(v2))))\n",
        "    similarity = dot_product / l2_norm\n",
        "\n",
        "    return similarity"
      ],
      "metadata": {
        "id": "m6JMRp6PK78A"
      },
      "execution_count": 1,
      "outputs": []
    },
    {
      "cell_type": "markdown",
      "source": [
        "- doc_list 로 정의된 3개의 간단한 문서의  유사도를 비교하기 위해 TF-IDF 벡터화된 행렬로 변환"
      ],
      "metadata": {
        "id": "1R2WeYk_MbS2"
      }
    },
    {
      "cell_type": "code",
      "execution_count": 6,
      "metadata": {
        "colab": {
          "base_uri": "https://localhost:8080/"
        },
        "id": "ahI23OJAKdAT",
        "outputId": "c0207a89-624f-4cca-db20-bc989c1dbc0f"
      },
      "outputs": [
        {
          "output_type": "stream",
          "name": "stdout",
          "text": [
            "shape: (3, 18)\n",
            "  (0, 2)\t0.41556360057939173\n",
            "  (0, 13)\t0.41556360057939173\n",
            "  (0, 8)\t0.24543855687841593\n",
            "  (0, 0)\t0.41556360057939173\n",
            "  (0, 15)\t0.49087711375683185\n",
            "  (0, 14)\t0.24543855687841593\n",
            "  (0, 17)\t0.24543855687841593\n",
            "  (0, 6)\t0.24543855687841593\n",
            "  (1, 16)\t0.39624495215024286\n",
            "  (1, 7)\t0.39624495215024286\n",
            "  (1, 12)\t0.39624495215024286\n",
            "  (1, 10)\t0.3013544995034864\n",
            "  (1, 8)\t0.2340286519091622\n",
            "  (1, 15)\t0.2340286519091622\n",
            "  (1, 14)\t0.2340286519091622\n",
            "  (1, 17)\t0.4680573038183244\n",
            "  (1, 6)\t0.2340286519091622\n",
            "  (2, 3)\t0.3267028704877472\n",
            "  (2, 4)\t0.3267028704877472\n",
            "  (2, 9)\t0.3267028704877472\n",
            "  (2, 1)\t0.3267028704877472\n",
            "  (2, 5)\t0.3267028704877472\n",
            "  (2, 11)\t0.3267028704877472\n",
            "  (2, 10)\t0.24846595392048593\n",
            "  (2, 8)\t0.1929559782154924\n",
            "  (2, 15)\t0.1929559782154924\n",
            "  (2, 14)\t0.1929559782154924\n",
            "  (2, 17)\t0.3859119564309848\n",
            "  (2, 6)\t0.1929559782154924\n"
          ]
        }
      ],
      "source": [
        "from sklearn.feature_extraction.text import TfidfVectorizer\n",
        "\n",
        "doc_list = ['if you take the blue pill, the story ends',\n",
        "            'if you take the red pill, you stay in Wonderland',\n",
        "            'if you take red pill, I show you how deep the rabbit hole goes']\n",
        "\n",
        "tfidf_vect_simple = TfidfVectorizer()\n",
        "feature_vect_simple = tfidf_vect_simple.fit_transform(doc_list)\n",
        "print('shape:', feature_vect_simple.shape)\n",
        "print(feature_vect_simple)"
      ]
    },
    {
      "cell_type": "markdown",
      "source": [
        "- feature_vect_dense[0] 은 doc_list 첫 번째 문서의 피처 벡터화\n",
        "- cos_similarity() 함수를 이용해 두 개 문서의 유사도를 측정해 보겠음"
      ],
      "metadata": {
        "id": "VC5cqNz5NFrh"
      }
    },
    {
      "cell_type": "code",
      "source": [
        "# TfidfVectorizer로 transform() 한 결과는 희소 행렬이므로 밀집 행렬로 변환\n",
        "feature_vect_dense = feature_vect_simple.todense()\n",
        "\n",
        "# 첫 번째 문장과 두 번째 문장의 피처 벡터 추출\n",
        "print('shape:', feature_vect_dense.shape)\n",
        "print(feature_vect_dense)\n",
        "vect1 = np.array(feature_vect_dense[0]).reshape(-1, )\n",
        "vect2 = np.array(feature_vect_dense[1]).reshape(-1, )\n",
        "\n",
        "print('vect1\\n')\n",
        "print(vect1)\n",
        "\n",
        "# 첫 번째 문장과 두 번째 문장의 피처 벡터로 두 개 문장의 코사인 유사도 추출\n",
        "similarity_simple = cos_similarity(vect1, vect2)\n",
        "print('문장1, 문장2 Cosine 유사도 : {0:.3f}'.format(similarity_simple))"
      ],
      "metadata": {
        "colab": {
          "base_uri": "https://localhost:8080/"
        },
        "id": "wYSnRFI5fs_n",
        "outputId": "0d0a3dd7-a358-43d5-bfc1-a46433434451"
      },
      "execution_count": 8,
      "outputs": [
        {
          "output_type": "stream",
          "name": "stdout",
          "text": [
            "shape: (3, 18)\n",
            "[[0.4155636  0.         0.4155636  0.         0.         0.\n",
            "  0.24543856 0.         0.24543856 0.         0.         0.\n",
            "  0.         0.4155636  0.24543856 0.49087711 0.         0.24543856]\n",
            " [0.         0.         0.         0.         0.         0.\n",
            "  0.23402865 0.39624495 0.23402865 0.         0.3013545  0.\n",
            "  0.39624495 0.         0.23402865 0.23402865 0.39624495 0.4680573 ]\n",
            " [0.         0.32670287 0.         0.32670287 0.32670287 0.32670287\n",
            "  0.19295598 0.         0.19295598 0.32670287 0.24846595 0.32670287\n",
            "  0.         0.         0.19295598 0.19295598 0.         0.38591196]]\n",
            "vect1\n",
            "\n",
            "[0.4155636  0.         0.4155636  0.         0.         0.\n",
            " 0.24543856 0.         0.24543856 0.         0.         0.\n",
            " 0.         0.4155636  0.24543856 0.49087711 0.         0.24543856]\n",
            "문장1, 문장2 Cosine 유사도 : 0.402\n"
          ]
        }
      ]
    },
    {
      "cell_type": "markdown",
      "source": [
        "- 문장1, 문장2의 코사인 유사도는 0.402\n",
        "- 문장1과 문장3, 문장2와 문장3의 코사인 유사도 측정하겠음"
      ],
      "metadata": {
        "id": "Z1oeOqd4hGFt"
      }
    },
    {
      "cell_type": "code",
      "source": [
        "vect1 = np.array(feature_vect_dense[0]).reshape(-1, )\n",
        "vect3 = np.array(feature_vect_dense[2]).reshape(-1, )\n",
        "similarity_simple = cos_similarity(vect1, vect3)\n",
        "print('문장1, 문장3 Cosine 유사도: {0:.3f}\\n\\n'.format(similarity_simple))\n",
        "\n",
        "\n",
        "vect2 = np.array(feature_vect_dense[1]).reshape(-1, )\n",
        "vect3 = np.array(feature_vect_dense[2]).reshape(-1, )\n",
        "similarity_simple = cos_similarity(vect2, vect3)\n",
        "print('문장2, 문장3 Cosine 유사도: {0:.3f}'.format(similarity_simple))"
      ],
      "metadata": {
        "colab": {
          "base_uri": "https://localhost:8080/"
        },
        "id": "fYqmu1vuhOTg",
        "outputId": "061acb98-b839-47c8-eddc-48d8ef535ccc"
      },
      "execution_count": 11,
      "outputs": [
        {
          "output_type": "stream",
          "name": "stdout",
          "text": [
            "문장1, 문장3 Cosine 유사도: 0.332\n",
            "\n",
            "\n",
            "문장2, 문장3 Cosine 유사도: 0.436\n"
          ]
        }
      ]
    },
    {
      "cell_type": "markdown",
      "source": [
        "- 사이킷런은 코사인 유사도 측정을 위해 sklearn.metrics.pairwise.cosine_similarity API를 제공\n",
        "- cosine_similarity()의 입력 파라미터는 2개\n",
        "    - 첫 번째 파라미터는 기준이되는 문서의 피처 행렬\n",
        "    - 두 번째 파라미터는 비교되는 문서의 피처 행렬\n",
        "    - 희소 행렬, 밀집 행렬 모두 가능\n",
        "    - 행렬 또는 배열 모두 가능"
      ],
      "metadata": {
        "id": "naPyV4NjiDrt"
      }
    },
    {
      "cell_type": "code",
      "source": [
        "from sklearn.metrics.pairwise import cosine_similarity\n",
        "\n",
        "similarity_simple_pari = cosine_similarity(feature_vect_simple[0], feature_vect_simple)\n",
        "print(similarity_simple_pari)"
      ],
      "metadata": {
        "colab": {
          "base_uri": "https://localhost:8080/"
        },
        "id": "omHqod5eifB9",
        "outputId": "e832aa52-1f50-46eb-b89d-a731d0381a8c"
      },
      "execution_count": 13,
      "outputs": [
        {
          "output_type": "stream",
          "name": "stdout",
          "text": [
            "[[1.         0.40207758 0.33151186]]\n"
          ]
        }
      ]
    },
    {
      "cell_type": "markdown",
      "source": [
        "- 첫 번째 유사도 값이 1인 이유는 자기 자신에 대한 유사도 측정 때문\n",
        "- 두 번째 유사도 0.4020 은 첫 번째 문서와 두 번째 문서의 유사도\n",
        "- 세 번째 유사도 0.3315 는 첫 번째 문서와 세 번째 문서의 유사도\n",
        "- 만약 1이 거슬리면 비교 대상에서 feature_vect[1:]을 이용하면 됨"
      ],
      "metadata": {
        "id": "nvhdssaxiwK-"
      }
    },
    {
      "cell_type": "code",
      "source": [
        "from sklearn.metrics.pairwise import cosine_similarity\n",
        "\n",
        "similarity_simple_pari = cosine_similarity(feature_vect_simple[0], feature_vect_simple[1:])\n",
        "print(similarity_simple_pari)"
      ],
      "metadata": {
        "colab": {
          "base_uri": "https://localhost:8080/"
        },
        "id": "COWxmk0yjE0C",
        "outputId": "3ee35911-7ad9-45e4-94db-261cbab52499"
      },
      "execution_count": 14,
      "outputs": [
        {
          "output_type": "stream",
          "name": "stdout",
          "text": [
            "[[0.40207758 0.33151186]]\n"
          ]
        }
      ]
    },
    {
      "cell_type": "markdown",
      "source": [
        "- 모든 문서에 대한 코사인 유사도를 측정해 보겠음\n",
        "    - 첫 번째 문서와 2, 3번째 문서\n",
        "    - 두 번째 문서와 1, 3번째 문서\n",
        "    - 세 번째 문서와 1, 2번째 문서"
      ],
      "metadata": {
        "id": "3PRK0WCPjV6q"
      }
    },
    {
      "cell_type": "code",
      "source": [
        "similarity_simple_pair = cosine_similarity(feature_vect_simple, feature_vect_simple)\n",
        "print(similarity_simple_pair)\n",
        "print('shape:', similarity_simple_pair.shape)"
      ],
      "metadata": {
        "colab": {
          "base_uri": "https://localhost:8080/"
        },
        "id": "b2TKO0qKjfnZ",
        "outputId": "7b1d5505-2789-4c89-e76b-dee0ad08838e"
      },
      "execution_count": 16,
      "outputs": [
        {
          "output_type": "stream",
          "name": "stdout",
          "text": [
            "[[1.         0.40207758 0.33151186]\n",
            " [0.40207758 1.         0.43613415]\n",
            " [0.33151186 0.43613415 1.        ]]\n",
            "shape: (3, 3)\n"
          ]
        }
      ]
    },
    {
      "cell_type": "markdown",
      "source": [
        "#### Opinion Review 데이터 세트를 이용한 문서 유사도 측정"
      ],
      "metadata": {
        "id": "SyLEtNLgjy5A"
      }
    },
    {
      "cell_type": "markdown",
      "source": [
        "- 데이터 세트를 새롭게 DataFrame 으로 로드하고 문서 군집화를 적용해 보겠음"
      ],
      "metadata": {
        "id": "RkOtDrOJj474"
      }
    },
    {
      "cell_type": "code",
      "source": [
        "from nltk.stem import WordNetLemmatizer\n",
        "import nltk\n",
        "import string\n",
        "\n",
        "remove_punct_dict = dict((ord(punct), None) for punct in string.punctuation)\n",
        "lemmar = WordNetLemmatizer()\n",
        "\n",
        "def LemTokens(tokens):\n",
        "    return [lemmar.lemmatize(token) for token in tokens]\n",
        "\n",
        "def LemNormalize(text):\n",
        "    return LemTokens(nltk.word_tokenize(text.lower().translate(remove_punct_dict)))"
      ],
      "metadata": {
        "id": "24lQngFlmPjh"
      },
      "execution_count": 20,
      "outputs": []
    },
    {
      "cell_type": "code",
      "source": [
        "import pandas as pd\n",
        "import glob, os\n",
        "from sklearn.feature_extraction.text import TfidfVectorizer\n",
        "from sklearn.cluster import KMeans\n",
        "\n",
        "path = r'/content/drive/MyDrive/Colab Notebooks/data/text-anal/topics'\n",
        "all_files = glob.glob(os.path.join(path, \"*.data\"))\n",
        "filename_list = []\n",
        "opinion_text = []\n",
        "\n",
        "for file_ in all_files :\n",
        "    df = pd.read_table(file_, index_col=None, header=0, encoding='latin1')\n",
        "    # print(\"file:\", file_)\n",
        "    filename_ = file_.split('/')[-1]\n",
        "    filename = filename_.split('.')[0]\n",
        "    filename_list.append(filename)\n",
        "    opinion_text.append(df.to_string())\n",
        "\n",
        "document_df = pd.DataFrame({'filename':filename_list, 'opinion_text':opinion_text})\n",
        "tfidf_vect = TfidfVectorizer(tokenizer=LemNormalize, stop_words='english',\n",
        "                             ngram_range=(1, 2), min_df=0.05, max_df=0.85)\n",
        "\n",
        "feature_vect = tfidf_vect.fit_transform(document_df['opinion_text'])\n",
        "\n",
        "km_cluster = KMeans(n_clusters=3, max_iter=10000, random_state=0)\n",
        "km_cluster.fit(feature_vect)\n",
        "\n",
        "cluster_label = km_cluster.labels_\n",
        "cluster_centers = km_cluster.cluster_centers_\n",
        "document_df['cluster_label'] = cluster_label\n",
        "document_df.head()"
      ],
      "metadata": {
        "colab": {
          "base_uri": "https://localhost:8080/",
          "height": 263
        },
        "id": "0AO4xgZcj9t2",
        "outputId": "1c95fc4e-f824-434c-c646-186753110bea"
      },
      "execution_count": 23,
      "outputs": [
        {
          "output_type": "stream",
          "name": "stderr",
          "text": [
            "/usr/local/lib/python3.7/dist-packages/sklearn/feature_extraction/text.py:401: UserWarning: Your stop_words may be inconsistent with your preprocessing. Tokenizing the stop words generated tokens ['ha', 'le', 'u', 'wa'] not in stop_words.\n",
            "  % sorted(inconsistent)\n"
          ]
        },
        {
          "output_type": "execute_result",
          "data": {
            "text/plain": [
              "                          filename  \\\n",
              "0       battery-life_ipod_nano_8gb   \n",
              "1              video_ipod_nano_8gb   \n",
              "2  directions_garmin_nuvi_255W_gps   \n",
              "3              sound_ipod_nano_8gb   \n",
              "4             screen_ipod_nano_8gb   \n",
              "\n",
              "                                        opinion_text  cluster_label  \n",
              "0                                                ...              2  \n",
              "1                                                ...              2  \n",
              "2                                                ...              2  \n",
              "3      headphone jack i got a clear case for it a...              2  \n",
              "4                                                ...              2  "
            ],
            "text/html": [
              "\n",
              "  <div id=\"df-97fc3c43-12ff-4e70-9609-08c07c3e8a57\">\n",
              "    <div class=\"colab-df-container\">\n",
              "      <div>\n",
              "<style scoped>\n",
              "    .dataframe tbody tr th:only-of-type {\n",
              "        vertical-align: middle;\n",
              "    }\n",
              "\n",
              "    .dataframe tbody tr th {\n",
              "        vertical-align: top;\n",
              "    }\n",
              "\n",
              "    .dataframe thead th {\n",
              "        text-align: right;\n",
              "    }\n",
              "</style>\n",
              "<table border=\"1\" class=\"dataframe\">\n",
              "  <thead>\n",
              "    <tr style=\"text-align: right;\">\n",
              "      <th></th>\n",
              "      <th>filename</th>\n",
              "      <th>opinion_text</th>\n",
              "      <th>cluster_label</th>\n",
              "    </tr>\n",
              "  </thead>\n",
              "  <tbody>\n",
              "    <tr>\n",
              "      <th>0</th>\n",
              "      <td>battery-life_ipod_nano_8gb</td>\n",
              "      <td>...</td>\n",
              "      <td>2</td>\n",
              "    </tr>\n",
              "    <tr>\n",
              "      <th>1</th>\n",
              "      <td>video_ipod_nano_8gb</td>\n",
              "      <td>...</td>\n",
              "      <td>2</td>\n",
              "    </tr>\n",
              "    <tr>\n",
              "      <th>2</th>\n",
              "      <td>directions_garmin_nuvi_255W_gps</td>\n",
              "      <td>...</td>\n",
              "      <td>2</td>\n",
              "    </tr>\n",
              "    <tr>\n",
              "      <th>3</th>\n",
              "      <td>sound_ipod_nano_8gb</td>\n",
              "      <td>headphone jack i got a clear case for it a...</td>\n",
              "      <td>2</td>\n",
              "    </tr>\n",
              "    <tr>\n",
              "      <th>4</th>\n",
              "      <td>screen_ipod_nano_8gb</td>\n",
              "      <td>...</td>\n",
              "      <td>2</td>\n",
              "    </tr>\n",
              "  </tbody>\n",
              "</table>\n",
              "</div>\n",
              "      <button class=\"colab-df-convert\" onclick=\"convertToInteractive('df-97fc3c43-12ff-4e70-9609-08c07c3e8a57')\"\n",
              "              title=\"Convert this dataframe to an interactive table.\"\n",
              "              style=\"display:none;\">\n",
              "        \n",
              "  <svg xmlns=\"http://www.w3.org/2000/svg\" height=\"24px\"viewBox=\"0 0 24 24\"\n",
              "       width=\"24px\">\n",
              "    <path d=\"M0 0h24v24H0V0z\" fill=\"none\"/>\n",
              "    <path d=\"M18.56 5.44l.94 2.06.94-2.06 2.06-.94-2.06-.94-.94-2.06-.94 2.06-2.06.94zm-11 1L8.5 8.5l.94-2.06 2.06-.94-2.06-.94L8.5 2.5l-.94 2.06-2.06.94zm10 10l.94 2.06.94-2.06 2.06-.94-2.06-.94-.94-2.06-.94 2.06-2.06.94z\"/><path d=\"M17.41 7.96l-1.37-1.37c-.4-.4-.92-.59-1.43-.59-.52 0-1.04.2-1.43.59L10.3 9.45l-7.72 7.72c-.78.78-.78 2.05 0 2.83L4 21.41c.39.39.9.59 1.41.59.51 0 1.02-.2 1.41-.59l7.78-7.78 2.81-2.81c.8-.78.8-2.07 0-2.86zM5.41 20L4 18.59l7.72-7.72 1.47 1.35L5.41 20z\"/>\n",
              "  </svg>\n",
              "      </button>\n",
              "      \n",
              "  <style>\n",
              "    .colab-df-container {\n",
              "      display:flex;\n",
              "      flex-wrap:wrap;\n",
              "      gap: 12px;\n",
              "    }\n",
              "\n",
              "    .colab-df-convert {\n",
              "      background-color: #E8F0FE;\n",
              "      border: none;\n",
              "      border-radius: 50%;\n",
              "      cursor: pointer;\n",
              "      display: none;\n",
              "      fill: #1967D2;\n",
              "      height: 32px;\n",
              "      padding: 0 0 0 0;\n",
              "      width: 32px;\n",
              "    }\n",
              "\n",
              "    .colab-df-convert:hover {\n",
              "      background-color: #E2EBFA;\n",
              "      box-shadow: 0px 1px 2px rgba(60, 64, 67, 0.3), 0px 1px 3px 1px rgba(60, 64, 67, 0.15);\n",
              "      fill: #174EA6;\n",
              "    }\n",
              "\n",
              "    [theme=dark] .colab-df-convert {\n",
              "      background-color: #3B4455;\n",
              "      fill: #D2E3FC;\n",
              "    }\n",
              "\n",
              "    [theme=dark] .colab-df-convert:hover {\n",
              "      background-color: #434B5C;\n",
              "      box-shadow: 0px 1px 3px 1px rgba(0, 0, 0, 0.15);\n",
              "      filter: drop-shadow(0px 1px 2px rgba(0, 0, 0, 0.3));\n",
              "      fill: #FFFFFF;\n",
              "    }\n",
              "  </style>\n",
              "\n",
              "      <script>\n",
              "        const buttonEl =\n",
              "          document.querySelector('#df-97fc3c43-12ff-4e70-9609-08c07c3e8a57 button.colab-df-convert');\n",
              "        buttonEl.style.display =\n",
              "          google.colab.kernel.accessAllowed ? 'block' : 'none';\n",
              "\n",
              "        async function convertToInteractive(key) {\n",
              "          const element = document.querySelector('#df-97fc3c43-12ff-4e70-9609-08c07c3e8a57');\n",
              "          const dataTable =\n",
              "            await google.colab.kernel.invokeFunction('convertToInteractive',\n",
              "                                                     [key], {});\n",
              "          if (!dataTable) return;\n",
              "\n",
              "          const docLinkHtml = 'Like what you see? Visit the ' +\n",
              "            '<a target=\"_blank\" href=https://colab.research.google.com/notebooks/data_table.ipynb>data table notebook</a>'\n",
              "            + ' to learn more about interactive tables.';\n",
              "          element.innerHTML = '';\n",
              "          dataTable['output_type'] = 'display_data';\n",
              "          await google.colab.output.renderOutput(dataTable, element);\n",
              "          const docLink = document.createElement('div');\n",
              "          docLink.innerHTML = docLinkHtml;\n",
              "          element.appendChild(docLink);\n",
              "        }\n",
              "      </script>\n",
              "    </div>\n",
              "  </div>\n",
              "  "
            ]
          },
          "metadata": {},
          "execution_count": 23
        }
      ]
    },
    {
      "cell_type": "markdown",
      "source": [
        "- 이전 절에서 해당 문서의 군집화는 전자제품, 호텔, 자동차를 주제로 군집화 했음\n",
        "- 이 중 호텔을 주제로 군집화된 문서를 이용해 특정 문서와 다른 문서 간의 유사도를 알아보겠음\n",
        "\n",
        "\n",
        "- 호텔을 주제로 군집화된 데이터를 먼저 추출\n",
        "- 데이터에 해당하는 TfidfVectorizer 데이터 추출\n",
        "- document_df 에서 호텔로 군집화된 문서의 인덱스 추출"
      ],
      "metadata": {
        "id": "sZZU54tHnNLW"
      }
    },
    {
      "cell_type": "code",
      "source": [
        "from sklearn.metrics.pairwise import cosine_similarity\n",
        "\n",
        "# cluster_label=1 인 데이터는 호텔로 군집화된 데이터임. DF 에서 해당 인덱스 추출\n",
        "hotel_indexes = document_df[document_df['cluster_label'] == 1].index\n",
        "tmp_df =  document_df[document_df['cluster_label'] == 1]\n",
        "print('type:', type(tmp_df))\n",
        "print(' 호텔로 군집화 된 문서들의 DF Index:', hotel_indexes)\n",
        "\n",
        "# 호텔로 군집화 된 데이터 중 첫 번째 문서를 추출해 파일명 표시\n",
        "comparison_docname = document_df.iloc[hotel_indexes[0]]['filename']\n",
        "print('\\n\\n ### 비교 기준 문서명 ', comparison_docname, ' 와 타 문서 유사도 ###')\n",
        "\n",
        "''' \n",
        " document_df 에서 추출한 Index 객체를 feature_vect 로 입력해 호텔 군집화된 feature_vect 추출\n",
        " 이를 이용해 호텔로 군집화된 문서 중 첫 번째 문서와 다른 문서 간의 코사인 유사도 측정\n",
        "'''\n",
        "\n",
        "similarity_pair = cosine_similarity(feature_vect[hotel_indexes[0]], feature_vect[hotel_indexes])\n",
        "print('코사인 유사도:', similarity_pair)\n"
      ],
      "metadata": {
        "colab": {
          "base_uri": "https://localhost:8080/"
        },
        "id": "kyCgVBbknuHO",
        "outputId": "db50de5c-f08d-42f3-e0f6-f9e99b8fee6c"
      },
      "execution_count": 28,
      "outputs": [
        {
          "output_type": "stream",
          "name": "stdout",
          "text": [
            "type: <class 'pandas.core.frame.DataFrame'>\n",
            " 호텔로 군집화 된 문서들의 DF Index: Int64Index([21, 26, 31, 37, 39, 40, 41, 43, 48, 49], dtype='int64')\n",
            "\n",
            "\n",
            " ### 비교 기준 문서명  interior_toyota_camry_2007  와 타 문서 유사도 ###\n",
            "코사인 유사도: [[1.         0.0879083  0.27804647 0.11474644 0.92932107 0.20474749\n",
            "  0.06118389 0.25981841 0.03617786 0.13971015]]\n"
          ]
        }
      ]
    },
    {
      "cell_type": "markdown",
      "source": [
        "- 단순히 숫자로만 표시해 직곽전으로 문서가 어느 정도 유사도를 가지는지 이해하기 어려움\n",
        "- 첫 번째 문서와 다른 문서간의 유사도가 높은 순으로 이를 정렬하고 시각화 해 보겠음\n",
        "- cosine_similarity() 는 쌍 형태이므로 ndarray를 반환하므로 이를 판다스 인덱스로 이용하기 위해 reahpe(-1)로 차원을 변경함"
      ],
      "metadata": {
        "id": "wrQsFHywpX0l"
      }
    },
    {
      "cell_type": "code",
      "source": [
        "import seaborn as sns\n",
        "import numpy as np\n",
        "import matplotlib.pyplot as plt\n",
        "%matplotlib inline\n",
        "\n",
        "# 첫 번째 문서와 타 문서간 유사도가 큰 순으로 정렬한 인덱스를 추출하되 자기 자신은 제외\n",
        "print('type:', type(similarity_pair))\n",
        "sorted_index = similarity_pair.argsort()[:, ::-1] # ::-1 의 의미는 인덱스 거꾸로 정렬. (기존 오름차순이면 내림차순, 내림차순이면 오름차순으로 정렬됨)\n",
        "sorted_index = sorted_index[:, 1:]\n",
        "\n",
        "# 유사도가 큰 순으로 hotel_indexes를 추출해 재정렬\n",
        "hotel_sorted_indexes = hotel_indexes[sorted_index.reshape(-1)]\n",
        "\n",
        "# 유사도가 큰 순으로 유사도 값을 재정렬하되 자기 자신은 제외\n",
        "hotel_1_sim_value = np.sort(similarity_pair.reshape(-1))[::-1]\n",
        "hotel_1_sim_value = hotel_1_sim_value[1:]\n",
        "\n",
        "# 유사도가 큰 순으로 정렬된 인덱스와 유사도 값을 이용해 파일명과 유사도 값을 막대 그래프로 시각화\n",
        "hotel_1_sim_df = pd.DataFrame()\n",
        "hotel_1_sim_df['filename'] = document_df.iloc[hotel_sorted_indexes]['filename']\n",
        "hotel_1_sim_df['similarity'] = hotel_1_sim_value\n",
        "\n",
        "sns.barplot(x='similarity', y='filename', data=hotel_1_sim_df)\n",
        "plt.title(comparison_docname)"
      ],
      "metadata": {
        "colab": {
          "base_uri": "https://localhost:8080/",
          "height": 332
        },
        "id": "fG_zVH8yppxL",
        "outputId": "b2febb6a-55de-4fd5-86fc-e3bf96b33d59"
      },
      "execution_count": 31,
      "outputs": [
        {
          "output_type": "stream",
          "name": "stdout",
          "text": [
            "type: <class 'numpy.ndarray'>\n"
          ]
        },
        {
          "output_type": "execute_result",
          "data": {
            "text/plain": [
              "Text(0.5, 1.0, 'interior_toyota_camry_2007')"
            ]
          },
          "metadata": {},
          "execution_count": 31
        },
        {
          "output_type": "display_data",
          "data": {
            "text/plain": [
              "<Figure size 432x288 with 1 Axes>"
            ],
            "image/png": "[encoded data removed]"
          },
          "metadata": {
            "needs_background": "light"
          }
        }
      ]
    }
  ]
}