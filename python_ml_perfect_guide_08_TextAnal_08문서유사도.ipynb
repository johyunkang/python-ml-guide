{
  "nbformat": 4,
  "nbformat_minor": 0,
  "metadata": {
    "colab": {
      "provenance": [],
      "collapsed_sections": [],
      "authorship_tag": "ABX9TyMyst+DcWoCEEhaJCbVTDwv",
      "include_colab_link": true
    },
    "kernelspec": {
      "name": "python3",
      "display_name": "Python 3"
    },
    "language_info": {
      "name": "python"
    }
  },
  "cells": [
    {
      "cell_type": "markdown",
      "metadata": {
        "id": "view-in-github",
        "colab_type": "text"
      },
      "source": [
        "<a href=\"https://colab.research.google.com/github/johyunkang/python-ml-guide/blob/main/python_ml_perfect_guide_08_TextAnal_08%EB%AC%B8%EC%84%9C%EC%9C%A0%EC%82%AC%EB%8F%84.ipynb\" target=\"_parent\"><img src=\"https://colab.research.google.com/assets/colab-badge.svg\" alt=\"Open In Colab\"/></a>"
      ]
    },
    {
      "cell_type": "markdown",
      "source": [
        "### 08 문서 유사도\n",
        "#### 문서 유사도 측정 방법 - 코사인 유사도"
      ],
      "metadata": {
        "id": "gYc3d1LVKgh_"
      }
    },
    {
      "cell_type": "markdown",
      "source": [
        "#### 두 벡터 사잇각\n",
        "![vector-cosine](https://user-images.githubusercontent.com/291782/192300647-c052217e-8234-43d5-aab7-d46f6def1c32.png)\n",
        "\n",
        "\n",
        "$A * B = || A || || B || cos\\theta$\n",
        "\n",
        "\n",
        "![cosine-similarity](https://user-images.githubusercontent.com/291782/192301158-ee7d73fa-4191-4681-9da7-a1152885a224.png)\n",
        "\n",
        "\n",
        "- 코사인 유사도가 문서의 유사도 비교에 가장 많이 사용되는 이유가 있음\n",
        "    - 문서를 피처 벡터화 변환하면 차원이 매우 많은 희소 행렬이 되기 쉬움\n",
        "    - 이러한 희소 행렬 기반에서 문서와 문서 벡터간의 크기에 기반한 유사도 지표(예를 들어 유클리드 거리 기반 지표)는 정확도가 떨어지기 쉬움\n",
        "    - 또한 문서가 매우 긴 경우 단어의 빈도수가 더 많을 것이기 때문에 이러한 빈도수에만 기반해서는 공정한 비교를 할 수 없음\n",
        "\n",
        "\n",
        "\n",
        "\n",
        "\n",
        "- 간단한 문서에 대해서 서로 간의 문서 유사도를 코사인 유사도 기반으로 구해 보겠음"
      ],
      "metadata": {
        "id": "H--hxrSqK8VQ"
      }
    },
    {
      "cell_type": "code",
      "source": [
        "import numpy as np\n",
        "\n",
        "def cos_similarity(v1, v2) :\n",
        "    dot_product = np.dot(v1, v2)\n",
        "    l2_norm = (np.sqrt(sum(np.square(v1))) * np.sqrt(sum(np.square(v2))))\n",
        "    similarity = dot_product / l2_norm\n",
        "\n",
        "    return similarity"
      ],
      "metadata": {
        "id": "m6JMRp6PK78A"
      },
      "execution_count": 1,
      "outputs": []
    },
    {
      "cell_type": "markdown",
      "source": [
        "- doc_list 로 정의된 3개의 간단한 문서의  유사도를 비교하기 위해 TF-IDF 벡터화된 행렬로 변환"
      ],
      "metadata": {
        "id": "1R2WeYk_MbS2"
      }
    },
    {
      "cell_type": "code",
      "execution_count": 2,
      "metadata": {
        "colab": {
          "base_uri": "https://localhost:8080/"
        },
        "id": "ahI23OJAKdAT",
        "outputId": "f4ae6909-1463-454b-a4c7-5f9d727646de"
      },
      "outputs": [
        {
          "output_type": "stream",
          "name": "stdout",
          "text": [
            "(3, 18)\n"
          ]
        }
      ],
      "source": [
        "from sklearn.feature_extraction.text import TfidfVectorizer\n",
        "\n",
        "doc_list = ['if you take the blue pill, the story ends',\n",
        "            'if you take the red pill, you stay in Wonderland',\n",
        "            'if you take red pill, I show you how deep the rabbit hole goes']\n",
        "\n",
        "tfidf_vect_simple = TfidfVectorizer()\n",
        "feature_vect_simple = tfidf_vect_simple.fit_transform(doc_list)\n",
        "print(feature_vect_simple.shape)"
      ]
    },
    {
      "cell_type": "markdown",
      "source": [
        "p.530 아래 부분(output 이후 부터)"
      ],
      "metadata": {
        "id": "VC5cqNz5NFrh"
      }
    }
  ]
}