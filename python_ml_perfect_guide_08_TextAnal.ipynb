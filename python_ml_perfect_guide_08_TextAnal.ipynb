{
  "nbformat": 4,
  "nbformat_minor": 0,
  "metadata": {
    "colab": {
      "provenance": [],
      "collapsed_sections": [],
      "authorship_tag": "ABX9TyOd/shl5N9qwU8o8jFGL+zV",
      "include_colab_link": true
    },
    "kernelspec": {
      "name": "python3",
      "display_name": "Python 3"
    },
    "language_info": {
      "name": "python"
    }
  },
  "cells": [
    {
      "cell_type": "markdown",
      "metadata": {
        "id": "view-in-github",
        "colab_type": "text"
      },
      "source": [
        "<a href=\"https://colab.research.google.com/github/johyunkang/python-ml-guide/blob/main/python_ml_perfect_guide_08_TextAnal.ipynb\" target=\"_parent\"><img src=\"https://colab.research.google.com/assets/colab-badge.svg\" alt=\"Open In Colab\"/></a>"
      ]
    },
    {
      "cell_type": "markdown",
      "source": [
        "## 08 텍스트 분석\n"
      ],
      "metadata": {
        "id": "1MpQ9jP71fp-"
      }
    },
    {
      "cell_type": "markdown",
      "source": [
        "### 01 텍스트 분석 이해"
      ],
      "metadata": {
        "id": "KgjYieCL1jC_"
      }
    },
    {
      "cell_type": "markdown",
      "source": [
        "- 텍스트 분석 수행 프로세스\n",
        "    1. 텍스트 사전 준비작업 (텍스트 전처리)\n",
        "    2. 피처 벡터화/추출\n",
        "    3. ML 모델 수립 및 학습/예측/평가"
      ],
      "metadata": {
        "id": "sM9mvsFG1sD6"
      }
    },
    {
      "cell_type": "markdown",
      "source": [
        "### 02 텍스트 사전 준비 작업(텍스트 전처리) - 텍스트 정규화"
      ],
      "metadata": {
        "id": "36_Pvkh514ka"
      }
    },
    {
      "cell_type": "markdown",
      "source": [
        "- 문장 토큰화"
      ],
      "metadata": {
        "id": "oJi9XFUy3bHW"
      }
    },
    {
      "cell_type": "code",
      "source": [
        "from nltk import sent_tokenize\n",
        "import nltk\n",
        "nltk.download('punkt')\n",
        "\n",
        "text_sample = 'The Matrix is everywhere its all around us, here even in this room. \\\n",
        "                You can see it out your window or on your television. \\\n",
        "                You feel it when you go to work, or go to church or pay your taxes.'\n",
        "sentences = sent_tokenize(text=text_sample)"
      ],
      "metadata": {
        "colab": {
          "base_uri": "https://localhost:8080/"
        },
        "id": "xIIF2RsA2Aev",
        "outputId": "8cdbcd78-784c-427b-a7f2-1e751901a915"
      },
      "execution_count": 1,
      "outputs": [
        {
          "output_type": "stream",
          "name": "stderr",
          "text": [
            "[nltk_data] Downloading package punkt to /root/nltk_data...\n",
            "[nltk_data]   Unzipping tokenizers/punkt.zip.\n"
          ]
        }
      ]
    },
    {
      "cell_type": "code",
      "source": [
        "print('타입 :', type(sentences), ' , 길이:', len(sentences))\n",
        "print(sentences)"
      ],
      "metadata": {
        "colab": {
          "base_uri": "https://localhost:8080/"
        },
        "id": "2PPBOBw63I63",
        "outputId": "06f3531f-a1d4-4a96-e4b0-e60e954e3add"
      },
      "execution_count": 2,
      "outputs": [
        {
          "output_type": "stream",
          "name": "stdout",
          "text": [
            "타입 : <class 'list'>  , 길이: 3\n",
            "['The Matrix is everywhere its all around us, here even in this room.', 'You can see it out your window or on your television.', 'You feel it when you go to work, or go to church or pay your taxes.']\n"
          ]
        }
      ]
    },
    {
      "cell_type": "markdown",
      "source": [
        "- 단어 토큰화"
      ],
      "metadata": {
        "id": "pptX_OxV3c53"
      }
    },
    {
      "cell_type": "code",
      "source": [
        "from nltk import word_tokenize\n",
        "\n",
        "sentence = \"The Matrix is everywhere its all around us, here even in this room.\"\n",
        "words = word_tokenize(sentence)\n",
        "\n",
        "print('타입 :', type(words), ' , 길이:', len(words))\n",
        "print(words)"
      ],
      "metadata": {
        "colab": {
          "base_uri": "https://localhost:8080/"
        },
        "id": "G0x-43q43e2_",
        "outputId": "fa64b998-8f9a-4cce-f05e-d43dd843c230"
      },
      "execution_count": 3,
      "outputs": [
        {
          "output_type": "stream",
          "name": "stdout",
          "text": [
            "타입 : <class 'list'>  , 길이: 15\n",
            "['The', 'Matrix', 'is', 'everywhere', 'its', 'all', 'around', 'us', ',', 'here', 'even', 'in', 'this', 'room', '.']\n"
          ]
        }
      ]
    },
    {
      "cell_type": "code",
      "source": [
        "from nltk import word_tokenize, sent_tokenize\n",
        "\n",
        "# 여러 개의 문장으로 된 입력 데이터를 문장별로 단어 토큰화하게 만드는 함수 생성\n",
        "def tokenize_text(text) :\n",
        "    # 문장별로 분리 토큰\n",
        "    sentences = sent_tokenize(text)\n",
        "    # 분리된 문장별 단어 토큰화\n",
        "    word_tokens = [word_tokenize(sentence) for sentence in sentences]\n",
        "    return word_tokens\n",
        "\n",
        "# 여러 문장에 대해 문장별로 단어 토큰화 수행\n",
        "word_tokens = tokenize_text(text_sample)\n",
        "\n",
        "\n",
        "print('타입 :', type(word_tokens), ' , 길이:', len(word_tokens))\n",
        "print(word_tokens)"
      ],
      "metadata": {
        "colab": {
          "base_uri": "https://localhost:8080/"
        },
        "id": "EGxFfoSV3438",
        "outputId": "1ea786ea-aebf-49a0-935f-6376152bc760"
      },
      "execution_count": 4,
      "outputs": [
        {
          "output_type": "stream",
          "name": "stdout",
          "text": [
            "타입 : <class 'list'>  , 길이: 3\n",
            "[['The', 'Matrix', 'is', 'everywhere', 'its', 'all', 'around', 'us', ',', 'here', 'even', 'in', 'this', 'room', '.'], ['You', 'can', 'see', 'it', 'out', 'your', 'window', 'or', 'on', 'your', 'television', '.'], ['You', 'feel', 'it', 'when', 'you', 'go', 'to', 'work', ',', 'or', 'go', 'to', 'church', 'or', 'pay', 'your', 'taxes', '.']]\n"
          ]
        }
      ]
    },
    {
      "cell_type": "markdown",
      "source": [
        "- 스톱 워드 제거"
      ],
      "metadata": {
        "id": "CHCAk0I45KzK"
      }
    },
    {
      "cell_type": "code",
      "source": [
        "import nltk\n",
        "nltk.download('stopwords')"
      ],
      "metadata": {
        "colab": {
          "base_uri": "https://localhost:8080/"
        },
        "id": "bJq2NXML5ODo",
        "outputId": "6fe2c1e2-bad9-428b-90d4-17172d7493d5"
      },
      "execution_count": 5,
      "outputs": [
        {
          "output_type": "stream",
          "name": "stderr",
          "text": [
            "[nltk_data] Downloading package stopwords to /root/nltk_data...\n",
            "[nltk_data]   Unzipping corpora/stopwords.zip.\n"
          ]
        },
        {
          "output_type": "execute_result",
          "data": {
            "text/plain": [
              "True"
            ]
          },
          "metadata": {},
          "execution_count": 5
        }
      ]
    },
    {
      "cell_type": "code",
      "source": [
        "print('영어 stop words 개수:', len(nltk.corpus.stopwords.words('english')))\n",
        "print(nltk.corpus.stopwords.words('english')[:20])"
      ],
      "metadata": {
        "colab": {
          "base_uri": "https://localhost:8080/"
        },
        "id": "RoqtsTEK5Sli",
        "outputId": "1ace2c62-604d-4ee9-f0d5-c9dc78ee8095"
      },
      "execution_count": 6,
      "outputs": [
        {
          "output_type": "stream",
          "name": "stdout",
          "text": [
            "영어 stop words 개수: 179\n",
            "['i', 'me', 'my', 'myself', 'we', 'our', 'ours', 'ourselves', 'you', \"you're\", \"you've\", \"you'll\", \"you'd\", 'your', 'yours', 'yourself', 'yourselves', 'he', 'him', 'his']\n"
          ]
        }
      ]
    },
    {
      "cell_type": "code",
      "source": [
        "import nltk\n",
        "\n",
        "stopwords = nltk.corpus.stopwords.words('english')\n",
        "all_tokens = []\n",
        "\n",
        "# 위 예제에서 3개의 문장별로 얻은 word_tokens list에 대해 스톱 워드를 제거하는 반복문\n",
        "for sentence in word_tokens:\n",
        "    filtered_words=[]\n",
        "\n",
        "    #개별 문장별로 토큰화된 문장 list에 대해 스톱 워드를 제거하는 반복문\n",
        "    for word in sentence:\n",
        "        #소문자로 모두 변환\n",
        "        word = word.lower()\n",
        "        # 토큰화된 개별 단어가 스톱 워드의 단어에 포함되지 않으면 word_tokens에 추가\n",
        "        if word not in stopwords:\n",
        "            filtered_words.append(word)\n",
        "    all_tokens.append(filtered_words)\n",
        "\n",
        "print(all_tokens)"
      ],
      "metadata": {
        "colab": {
          "base_uri": "https://localhost:8080/"
        },
        "id": "kIxyOYdZ5iKV",
        "outputId": "dd77a24a-dfed-4301-8845-924e8387a02b"
      },
      "execution_count": 7,
      "outputs": [
        {
          "output_type": "stream",
          "name": "stdout",
          "text": [
            "[['matrix', 'everywhere', 'around', 'us', ',', 'even', 'room', '.'], ['see', 'window', 'television', '.'], ['feel', 'go', 'work', ',', 'go', 'church', 'pay', 'taxes', '.']]\n"
          ]
        }
      ]
    },
    {
      "cell_type": "markdown",
      "source": [
        "- is, this 와 같은 스톱 워드가 필터링을 통해 제거됐음을 알 수 있음"
      ],
      "metadata": {
        "id": "BNgKLE0E6SW_"
      }
    },
    {
      "cell_type": "markdown",
      "source": [
        "-  Stemming 과 Lemmatization"
      ],
      "metadata": {
        "id": "XTMjoDG66XrX"
      }
    },
    {
      "cell_type": "code",
      "source": [
        "from nltk.stem import LancasterStemmer\n",
        "stemmer = LancasterStemmer()\n",
        "\n",
        "print(stemmer.stem('working'), stemmer.stem('works'), stemmer.stem('worked'))\n",
        "print(stemmer.stem('amusing'), stemmer.stem('amuses'), stemmer.stem('amused'))\n",
        "print(stemmer.stem('happier'), stemmer.stem('happiest'))\n",
        "print(stemmer.stem('fancier'), stemmer.stem('fanciest'))"
      ],
      "metadata": {
        "colab": {
          "base_uri": "https://localhost:8080/"
        },
        "id": "s9ym032z6hm0",
        "outputId": "5ee21f9e-6667-40ba-f64a-f6433fc47de0"
      },
      "execution_count": 8,
      "outputs": [
        {
          "output_type": "stream",
          "name": "stdout",
          "text": [
            "work work work\n",
            "amus amus amus\n",
            "happy happiest\n",
            "fant fanciest\n"
          ]
        }
      ]
    },
    {
      "cell_type": "markdown",
      "source": [
        "- work는 진행형, 3인칭 단수, 과거형 모두 기본 단어인 work 원형으로 제대로 인식\n",
        "- amuse의 경우 amus에 ing, s, ed 가 붙으므로 정확한 단어인 amuse 가 아닌 amus를 원형 단어로 인식\n",
        "- 형용사인 happy, fancy의 경우도, 비교형, 최상급 단어의 정확한 원형을 찾지 못함  \n",
        "\n",
        "\n",
        "\n",
        "\n"
      ],
      "metadata": {
        "id": "lHz6eKJ565Tz"
      }
    },
    {
      "cell_type": "markdown",
      "source": [
        "\n",
        "- WordNetLemmatizer"
      ],
      "metadata": {
        "id": "r2SEhVcx7UEg"
      }
    },
    {
      "cell_type": "code",
      "source": [
        "from nltk.stem import WordNetLemmatizer\n",
        "import nltk\n",
        "\n",
        "# nltk.download('wordnet')\n",
        "# 책의 내용은 위의 wordnet 만 다운 받으면 된다 하였으나 오류가 발생하여 모든 패키지 다 다운받게 수정\n",
        "# 참조 : https://stackoverflow.com/questions/35861482/nltk-lookup-error\n",
        "nltk.download('all')\n",
        "\n",
        "\n",
        "lemma = WordNetLemmatizer()\n"
      ],
      "metadata": {
        "id": "Yo9MYbx076O2"
      },
      "execution_count": null,
      "outputs": []
    },
    {
      "cell_type": "code",
      "source": [
        "\n",
        "print(lemma.lemmatize('amusing', 'v'), lemma.lemmatize('amuses', 'v'), lemma.lemmatize('amused', 'v'))\n",
        "print(lemma.lemmatize('happier', 'a'), lemma.lemmatize('happiest', 'a'))\n",
        "print(lemma.lemmatize('fancier', 'a'), lemma.lemmatize('fanciest', 'a'))"
      ],
      "metadata": {
        "colab": {
          "base_uri": "https://localhost:8080/"
        },
        "id": "moTnIITz8kd2",
        "outputId": "10668ad4-b404-44df-aa43-1ab3cab7dc18"
      },
      "execution_count": 21,
      "outputs": [
        {
          "output_type": "stream",
          "name": "stdout",
          "text": [
            "amuse amuse amuse\n",
            "happy happy\n",
            "fancy fancy\n"
          ]
        }
      ]
    },
    {
      "cell_type": "markdown",
      "source": [
        "### 03 Bag of Words - BOW"
      ],
      "metadata": {
        "id": "iGoykmRGMGWD"
      }
    },
    {
      "cell_type": "markdown",
      "source": [
        "- 장점\n",
        "    - 쉽고 빠른 구축\n",
        "    - 단어의 발생 횟수에 기반하고 있지만, 예상보다 문서의 특징을 잘 나타냄\n",
        "- 단점\n",
        "    - 문맥 의미(Semantic Context) 반영 부족 : 단어의 문맥적인 의미가 무시됨\n",
        "    - 희소 행렬(Sparse Matrix) 문제(희소성, 희소 행렬) : 대부분의 데이터가 0 값으로 채워지는 문제\n",
        "    > 밀집 행렬(Dense Matrix) : 대부분의 값이 의미있는 값으로 채워지는 행렬. 희소 행렬과 반대 의미"
      ],
      "metadata": {
        "id": "ykwAX1-JMolt"
      }
    },
    {
      "cell_type": "markdown",
      "source": [
        "#### BOW 피처 벡터화\n",
        "- 머신러닝 알고리즘은 숫자형 피처를 데이터로 입력 받아 동작함\n",
        "- 텍스트는 머신러닝 알고리즘에 바로 입력할 수가 없음\n",
        "- 텍스트를 숫자형 값인 벡터 값으로 변환하는 걸 **피처 벡터화**라고 함\n",
        "\n",
        "\n",
        "- 피처 벡터화 방식\n",
        "    - 카운트 기반 벡터화\n",
        "    - TF-IDF (Term Frequency - Inverse Document Frequency) 기반의 벡터화\n",
        "        - 개별 문서에서 자주 나타나는 단어에 높은 가중치\n",
        "        - 다른 모든 문서에서 전반적으로 자주 나타나는 범용적인 단어에 대해서는 패널티"
      ],
      "metadata": {
        "id": "_JMv733DNfRj"
      }
    },
    {
      "cell_type": "markdown",
      "source": [
        "$TFIDF_i = TF_i * log \\dfrac {N} {DF_i}$\n",
        "- $TF_i$ : 개별 문서에서의 단어 i 빈도\n",
        "- $DF_i$ : 단어 i를 가지고 있는 문서 개수\n",
        "- N : 전체 문서 개수"
      ],
      "metadata": {
        "id": "8X2Ird_wPKRb"
      }
    },
    {
      "cell_type": "markdown",
      "source": [
        "#### 사이킷런의 Count 및 TF-IDF 벡터화 구현 : CountVectorizer, TfidfVectorizer"
      ],
      "metadata": {
        "id": "bQ2p3n0CPzrh"
      }
    },
    {
      "cell_type": "markdown",
      "source": [
        "- CountVectorizer 클래스를 이용한 텍스트의 피처 벡터화 방법\n",
        "    1. 영어의 경우 소문자로 변경 하는 등의 전처리 작업 수행\n",
        "    2. 디폴트로 단어 기준으로 n_gram_range를 반영해 각 단어를 토큰화\n",
        "    3. 텍스트를 정규화 수행\n",
        "    4. max_df, min_df, max_features 등 파라미터를 이용해 토큰화된 단어를 피처로 추출하고 단어 빈도수 벡터 값을 적용\n",
        "\n",
        "    ![count-vectorizer](https://user-images.githubusercontent.com/291782/190590620-25849c80-92ae-43f0-971c-f9203f43335c.png)\n",
        "    "
      ],
      "metadata": {
        "id": "v_Hv3sVuWN1S"
      }
    },
    {
      "cell_type": "markdown",
      "source": [
        "#### 희소행렬 - COO 형식\n",
        "- COO (Coordinate: 좌표) 형식은 0이 아닌 데이터만 별도의 데이터 배열에 저장하고, 그 데이터가 가리키는 행과 열의 위치를 별도의 배열에 저장하는 방식\n",
        "- 희소행렬은 주로 사이파이(Scipy)를 이용"
      ],
      "metadata": {
        "id": "ka0OW9jLZl8Z"
      }
    },
    {
      "cell_type": "code",
      "source": [
        "import numpy as np\n",
        "\n",
        "dense = np.array([[3, 0, 1], [0, 2, 0]])\n",
        "\n",
        "from scipy import sparse\n",
        "\n",
        "# 0이 아닌 데이터 추출\n",
        "data = np.array([3, 1, 2])\n",
        "\n",
        "# 행 위치와 열 위치를 각 각 배열로 생성\n",
        "row_pos = np.array([0, 0, 1])\n",
        "col_pos = np.array([0, 2, 1])\n",
        "\n",
        "# sparse 패키지의 coo_matrix를 이용해 COO 형식으로 희소행렬 생성\n",
        "sparse_coo = sparse.coo_matrix((data, (row_pos, col_pos)))\n",
        "\n",
        "\n",
        "# sparse_coo 는 COO 형식의 희소행렬 객체\n",
        "# toarray() 메서드를 이용해 다시 밀집형태 행렬로 출력\n",
        "sparse_coo.toarray()"
      ],
      "metadata": {
        "colab": {
          "base_uri": "https://localhost:8080/"
        },
        "id": "HVWkZ0p_aKvt",
        "outputId": "fc48e3b6-ea2d-427e-a7ba-8e69d4c1154e"
      },
      "execution_count": 23,
      "outputs": [
        {
          "output_type": "execute_result",
          "data": {
            "text/plain": [
              "array([[3, 0, 1],\n",
              "       [0, 2, 0]])"
            ]
          },
          "metadata": {},
          "execution_count": 23
        }
      ]
    },
    {
      "cell_type": "markdown",
      "source": [
        "#### 희소행렬 - CSR 형식\n",
        "- CSR (Compressed Sparse Row) 형식은 COO 형식이 행과 열의 위치를 나타내기 위해서 반복적인 위치 데이터를 사용해야 하는 문제점을 해결한 방식"
      ],
      "metadata": {
        "id": "-V0o6fTmbEAM"
      }
    },
    {
      "cell_type": "code",
      "source": [
        "from scipy import sparse\n",
        "\n",
        "dense2 = np.array([[0, 0, 1, 0, 5, 5],\n",
        "                   [1, 4, 0, 3, 2, 5],\n",
        "                   [0, 6, 0, 3, 0, 0],\n",
        "                   [2, 0, 0, 0, 0, 0],\n",
        "                   [0, 0, 0, 7, 0, 8],\n",
        "                   [1, 0, 0, 0, 0, 0]])\n",
        "\n",
        "# 0이 아닌 데이터 추출\n",
        "data2 = np.array([1, 5, 1, 4, 3, 2, 5, 6, 3, 2, 7, 8, 1])\n",
        "\n",
        "# 행 위치와 열 위치를 각각 array로 생성\n",
        "row_pos = np.array([0, 0, 1, 1, 1, 1, 1, 2, 2, 3, 4, 4, 5])\n",
        "col_pos = np.array([2, 5, 0, 1, 3, 4, 5, 1, 3, 0, 3, 5, 0])\n",
        "\n",
        "# COO 형식으로 변환\n",
        "sparse_coo = sparse.coo_matrix((data2, (row_pos, col_pos)))\n",
        "\n",
        "# 행 위치 배열의 고유한 값의 시작 위치 인덱스를 배열로 생성\n",
        "row_pos_ind = np.array([0, 2, 7, 9, 10, 12, 13]) # 0이 좌표2 까지, 1이 좌표 7까지, 2가 9까지...\n",
        "\n",
        "# CSR 형식으로 변환\n",
        "sparse_csr = sparse.csr_matrix((data2, col_pos, row_pos_ind))\n",
        "\n",
        "print('COO 변환된 데이터가 제대로 되었는지 다시 Dense로 출력 확인')\n",
        "print(sparse_coo.toarray())\n",
        "\n",
        "print('CSR 변환된 데이터가 제대로 되었는지 다시 Dense로 출력 확인')\n",
        "print(sparse_csr.toarray())"
      ],
      "metadata": {
        "colab": {
          "base_uri": "https://localhost:8080/"
        },
        "id": "hOqAp7z4bphm",
        "outputId": "2566193c-5ac2-48d9-b2f4-a0d86608fcad"
      },
      "execution_count": 24,
      "outputs": [
        {
          "output_type": "stream",
          "name": "stdout",
          "text": [
            "COO 변환된 데이터가 제대로 되었는지 다시 Dense로 출력 확인\n",
            "[[0 0 1 0 0 5]\n",
            " [1 4 0 3 2 5]\n",
            " [0 6 0 3 0 0]\n",
            " [2 0 0 0 0 0]\n",
            " [0 0 0 7 0 8]\n",
            " [1 0 0 0 0 0]]\n",
            "CSR 변환된 데이터가 제대로 되었는지 다시 Dense로 출력 확인\n",
            "[[0 0 1 0 0 5]\n",
            " [1 4 0 3 2 5]\n",
            " [0 6 0 3 0 0]\n",
            " [2 0 0 0 0 0]\n",
            " [0 0 0 7 0 8]\n",
            " [1 0 0 0 0 0]]\n"
          ]
        }
      ]
    },
    {
      "cell_type": "code",
      "source": [
        "# COO, CSR 실제 사용 방법\n",
        "dense3 = np.array([[0, 0, 1, 0, 5, 5],\n",
        "                   [1, 4, 0, 3, 2, 5],\n",
        "                   [0, 6, 0, 3, 0, 0],\n",
        "                   [2, 0, 0, 0, 0, 0],\n",
        "                   [0, 0, 0, 7, 0, 8],\n",
        "                   [1, 0, 0, 0, 0, 0]])\n",
        "\n",
        "coo = sparse.coo_matrix(dense3)\n",
        "csr = sparse.csr_matrix(dense3)\n",
        "print('COO 출력')\n",
        "print(coo)\n",
        "\n",
        "print('\\n\\n COO toarray 출력')\n",
        "print(coo.toarray())\n",
        "\n",
        "print('\\n\\n CSR 출력')\n",
        "print(csr)\n",
        "\n",
        "print('\\n\\n CSR toarray 출력')\n",
        "print(csr.toarray())"
      ],
      "metadata": {
        "colab": {
          "base_uri": "https://localhost:8080/"
        },
        "id": "9Kr5PGN5duUw",
        "outputId": "b8bbc682-194e-4368-cc08-b0f1056ea7e6"
      },
      "execution_count": 29,
      "outputs": [
        {
          "output_type": "stream",
          "name": "stdout",
          "text": [
            "COO 출력\n",
            "  (0, 2)\t1\n",
            "  (0, 4)\t5\n",
            "  (0, 5)\t5\n",
            "  (1, 0)\t1\n",
            "  (1, 1)\t4\n",
            "  (1, 3)\t3\n",
            "  (1, 4)\t2\n",
            "  (1, 5)\t5\n",
            "  (2, 1)\t6\n",
            "  (2, 3)\t3\n",
            "  (3, 0)\t2\n",
            "  (4, 3)\t7\n",
            "  (4, 5)\t8\n",
            "  (5, 0)\t1\n",
            "\n",
            "\n",
            " COO toarray 출력\n",
            "[[0 0 1 0 5 5]\n",
            " [1 4 0 3 2 5]\n",
            " [0 6 0 3 0 0]\n",
            " [2 0 0 0 0 0]\n",
            " [0 0 0 7 0 8]\n",
            " [1 0 0 0 0 0]]\n",
            "\n",
            "\n",
            " CSR 출력\n",
            "  (0, 2)\t1\n",
            "  (0, 4)\t5\n",
            "  (0, 5)\t5\n",
            "  (1, 0)\t1\n",
            "  (1, 1)\t4\n",
            "  (1, 3)\t3\n",
            "  (1, 4)\t2\n",
            "  (1, 5)\t5\n",
            "  (2, 1)\t6\n",
            "  (2, 3)\t3\n",
            "  (3, 0)\t2\n",
            "  (4, 3)\t7\n",
            "  (4, 5)\t8\n",
            "  (5, 0)\t1\n",
            "\n",
            "\n",
            " CSR toarray 출력\n",
            "[[0 0 1 0 5 5]\n",
            " [1 4 0 3 2 5]\n",
            " [0 6 0 3 0 0]\n",
            " [2 0 0 0 0 0]\n",
            " [0 0 0 7 0 8]\n",
            " [1 0 0 0 0 0]]\n"
          ]
        }
      ]
    }
  ]
}