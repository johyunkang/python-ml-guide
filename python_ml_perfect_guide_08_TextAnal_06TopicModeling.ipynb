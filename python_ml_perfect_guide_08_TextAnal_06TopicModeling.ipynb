{
  "nbformat": 4,
  "nbformat_minor": 0,
  "metadata": {
    "colab": {
      "provenance": [],
      "collapsed_sections": [],
      "authorship_tag": "ABX9TyOMCZm+eeOflEXxo9ENmUrL",
      "include_colab_link": true
    },
    "kernelspec": {
      "name": "python3",
      "display_name": "Python 3"
    },
    "language_info": {
      "name": "python"
    }
  },
  "cells": [
    {
      "cell_type": "markdown",
      "metadata": {
        "id": "view-in-github",
        "colab_type": "text"
      },
      "source": [
        "<a href=\"https://colab.research.google.com/github/johyunkang/python-ml-guide/blob/main/python_ml_perfect_guide_08_TextAnal_06TopicModeling.ipynb\" target=\"_parent\"><img src=\"https://colab.research.google.com/assets/colab-badge.svg\" alt=\"Open In Colab\"/></a>"
      ]
    },
    {
      "cell_type": "markdown",
      "source": [
        "### 06 토픽 모델링(Topic Modeling) - 20 뉴스 그룹"
      ],
      "metadata": {
        "id": "LzKnTCfjuldc"
      }
    },
    {
      "cell_type": "markdown",
      "source": [
        "- 토픽 모델링이란 문서 집합에 숨어 있는 주제를 찾아내는 것\n",
        "- 머신러닝 기반의 토픽 모델링에 자주 사용되는 기법은\n",
        "    - LAS (Latent Semantic Analysis)\n",
        "    - LDA (Latent Dirichlet Allocation)"
      ],
      "metadata": {
        "id": "Ybwsrga9usfs"
      }
    },
    {
      "cell_type": "code",
      "execution_count": 11,
      "metadata": {
        "colab": {
          "base_uri": "https://localhost:8080/"
        },
        "id": "srGIymvouc65",
        "outputId": "75f9e3a8-2623-4dea-833f-7ced2a87cbcf"
      },
      "outputs": [
        {
          "output_type": "stream",
          "name": "stdout",
          "text": [
            "\n",
            "\n",
            " CountVectorizers shape: (7862, 1000)\n"
          ]
        }
      ],
      "source": [
        "from sklearn.datasets import fetch_20newsgroups\n",
        "from sklearn.feature_extraction.text import CountVectorizer\n",
        "from sklearn.decomposition import LatentDirichletAllocation\n",
        "\n",
        "# 모토사이클, 야구, 그래픽스, 윈도우즈, 중동, 기독교, 전자공학, 의학 8개 주제를 추출\n",
        "cats = ['rec.motorcycles', 'rec.sport.baseball', 'comp.graphics', 'comp.windows.x',\n",
        "        'talk.politics.mideast', 'soc.religion.christian', 'sci.electronics', 'sci.med']\n",
        "\n",
        "# 위에서 cats 변수로 기재된 카테고리만 추출. featch_20newsgroups() 의 categories에 cats 입력\n",
        "news_df = fetch_20newsgroups(subset='all', remove=('headers', 'footers', 'quotes'), categories=cats, random_state=0)\n",
        "\n",
        "# LDA는 Count 기반의 벡터화만 적용합니다.\n",
        "count_vect = CountVectorizer(max_df=0.95, max_features=1000, min_df=2, stop_words='english', ngram_range=(1, 2))\n",
        "feat_vect = count_vect.fit_transform(news_df.data)\n",
        "\n",
        "# print('#### DF data \\n', news_df.data)\n",
        "print('\\n\\n CountVectorizers shape:', feat_vect.shape)"
      ]
    },
    {
      "cell_type": "code",
      "source": [
        "lda = LatentDirichletAllocation(n_components=8, random_state=0)\n",
        "lda.fit(feat_vect)"
      ],
      "metadata": {
        "colab": {
          "base_uri": "https://localhost:8080/"
        },
        "id": "KbS1ar_UL_qJ",
        "outputId": "93e55614-dd53-45d1-e4e0-6f35217959a6"
      },
      "execution_count": 12,
      "outputs": [
        {
          "output_type": "execute_result",
          "data": {
            "text/plain": [
              "LatentDirichletAllocation(n_components=8, random_state=0)"
            ]
          },
          "metadata": {},
          "execution_count": 12
        }
      ]
    },
    {
      "cell_type": "markdown",
      "source": [
        "- components_ : 개별 토픽별로 각 word 피처가 얼마나 많이 그 토픽에 할당됐는지에 대한 수치를 가지고 있음. 높은 값일수록 해당 word 피처는 그 토픽의 중심 word 가 됨."
      ],
      "metadata": {
        "id": "zHjjtSXfMNNQ"
      }
    },
    {
      "cell_type": "code",
      "source": [
        "print(lda.components_.shape)\n",
        "print('## components ##')\n",
        "lda.components_"
      ],
      "metadata": {
        "colab": {
          "base_uri": "https://localhost:8080/"
        },
        "id": "BQXkLHOaMbn3",
        "outputId": "bebe9d10-8257-4b06-8207-a6238f77684b"
      },
      "execution_count": 13,
      "outputs": [
        {
          "output_type": "stream",
          "name": "stdout",
          "text": [
            "(8, 1000)\n",
            "## components ##\n"
          ]
        },
        {
          "output_type": "execute_result",
          "data": {
            "text/plain": [
              "array([[3.60992018e+01, 1.35626798e+02, 2.15751867e+01, ...,\n",
              "        3.02911688e+01, 8.66830093e+01, 6.79285199e+01],\n",
              "       [1.25199920e-01, 1.44401815e+01, 1.25045596e-01, ...,\n",
              "        1.81506995e+02, 1.25097844e-01, 9.39593286e+01],\n",
              "       [3.34762663e+02, 1.25176265e-01, 1.46743299e+02, ...,\n",
              "        1.25105772e-01, 3.63689741e+01, 1.25025218e-01],\n",
              "       ...,\n",
              "       [3.60204965e+01, 2.08640688e+01, 4.29606813e+00, ...,\n",
              "        1.45056650e+01, 8.33854413e+00, 1.55690009e+01],\n",
              "       [1.25128711e-01, 1.25247756e-01, 1.25005143e-01, ...,\n",
              "        9.17278769e+01, 1.25177668e-01, 3.74575887e+01],\n",
              "       [5.49258690e+01, 4.47009532e+00, 9.88524814e+00, ...,\n",
              "        4.87048440e+01, 1.25034678e-01, 1.25074632e-01]])"
            ]
          },
          "metadata": {},
          "execution_count": 13
        }
      ]
    },
    {
      "cell_type": "markdown",
      "source": [
        "- lda_model.components_ 값 만으로는 각 토픽별 word 연관도를 보기가 어려움\n",
        "- display_topics() 함수를 만들어 각 토픽별로 연관도가 높은 순으로 word를 나열해 보겠음"
      ],
      "metadata": {
        "id": "DsF17J09MvgW"
      }
    },
    {
      "cell_type": "code",
      "source": [
        "def display_topics(model, feature_names, no_top_words) :\n",
        "    for topic_index, topic in enumerate(model.components_) :\n",
        "        print('Topic #', topic_index)\n",
        "\n",
        "        # components_array에서 가장 값이 큰 순으로 정렬했을 때, 그 값의 array 인덱스를 반환\n",
        "        topic_word_indexes = topic.argsort()[::-1]\n",
        "        top_indexes = topic_word_indexes[:no_top_words]\n",
        "\n",
        "        # top_indexes 대상인 인덱스별로 feature_names에 해당하는 word_feature 추출 후 join 으로 concat\n",
        "        feature_concat = ' '.join([feature_names[i] for i in top_indexes])\n",
        "        print(feature_concat)\n",
        "        print('\\n\\n')"
      ],
      "metadata": {
        "id": "csHuL6pRM7bp"
      },
      "execution_count": 21,
      "outputs": []
    },
    {
      "cell_type": "code",
      "source": [
        "# CountVectorizer 객체 내의 전체 word 명칭을 get_features_names()를 통해 추출\n",
        "feature_names = count_vect.get_feature_names()\n",
        "\n",
        "# 토픽별 가장 연관도가 높은 word 15개만 추출\n",
        "display_topics(lda, feature_names, 15)"
      ],
      "metadata": {
        "colab": {
          "base_uri": "https://localhost:8080/"
        },
        "id": "S1Jgjkd4NwIj",
        "outputId": "7507e1e5-58dd-4239-dcb0-6cabd45fed99"
      },
      "execution_count": 22,
      "outputs": [
        {
          "output_type": "stream",
          "name": "stdout",
          "text": [
            "Topic # 0\n",
            "year 10 game medical health team 12 20 disease cancer 1993 games years patients good\n",
            "\n",
            "\n",
            "\n",
            "Topic # 1\n",
            "don just like know people said think time ve didn right going say ll way\n",
            "\n",
            "\n",
            "\n",
            "Topic # 2\n",
            "image file jpeg program gif images output format files color entry 00 use bit 03\n",
            "\n",
            "\n",
            "\n",
            "Topic # 3\n",
            "like know don think use does just good time book read information people used post\n",
            "\n",
            "\n",
            "\n",
            "Topic # 4\n",
            "armenian israel armenians jews turkish people israeli jewish government war dos dos turkey arab armenia 000\n",
            "\n",
            "\n",
            "\n",
            "Topic # 5\n",
            "edu com available graphics ftp data pub motif mail widget software mit information version sun\n",
            "\n",
            "\n",
            "\n",
            "Topic # 6\n",
            "god people jesus church believe christ does christian say think christians bible faith sin life\n",
            "\n",
            "\n",
            "\n",
            "Topic # 7\n",
            "use dos thanks windows using window does display help like problem server need know run\n",
            "\n",
            "\n",
            "\n"
          ]
        }
      ]
    }
  ]
}