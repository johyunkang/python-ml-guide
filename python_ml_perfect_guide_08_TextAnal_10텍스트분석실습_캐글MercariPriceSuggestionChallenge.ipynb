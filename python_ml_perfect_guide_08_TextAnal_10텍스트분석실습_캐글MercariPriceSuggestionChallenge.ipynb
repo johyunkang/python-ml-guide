{
  "cells": [
    {
      "cell_type": "markdown",
      "metadata": {
        "id": "view-in-github",
        "colab_type": "text"
      },
      "source": [
        "<a href=\"https://colab.research.google.com/github/johyunkang/python-ml-guide/blob/main/python_ml_perfect_guide_08_TextAnal_10%ED%85%8D%EC%8A%A4%ED%8A%B8%EB%B6%84%EC%84%9D%EC%8B%A4%EC%8A%B5_%EC%BA%90%EA%B8%80MercariPriceSuggestionChallenge.ipynb\" target=\"_parent\"><img src=\"https://colab.research.google.com/assets/colab-badge.svg\" alt=\"Open In Colab\"/></a>"
      ]
    },
    {
      "cell_type": "markdown",
      "metadata": {
        "id": "rgjxc6czmJyj"
      },
      "source": [
        "### 10 텍스트 분석 실습 - 캐글 Mercari Price Suggestion Challenge"
      ]
    },
    {
      "cell_type": "markdown",
      "metadata": {
        "id": "XpQM4xEWmJyl"
      },
      "source": [
        "- Data\n",
        "    - url : https://www.kaggle.com/c/mercari-price-suggestion-challenge/data\n",
        "    - data file : train.tsv\n",
        "    \n",
        "\n",
        "- 필드 속성\n",
        "    - traind_id : 데이터id\n",
        "    - name : 제품명\n",
        "    - item_condition_id : 판매자가 제공하는 제품 상태\n",
        "    - category_name : 카테고리명\n",
        "    - brand_name : 브랜드 이름\n",
        "    - price : 제품가격. 예측을 위한 타깃 속성\n",
        "    - shipping : 배송비 무료 여부, 1이면 무료(판매자가 지불), 0이면 유료 (구매자가 지불)\n",
        "    - item_description : 제품에 대한 설명\n",
        "    "
      ]
    },
    {
      "cell_type": "markdown",
      "metadata": {
        "id": "FX2dJinLmJym"
      },
      "source": [
        "#### 데이터 전처리"
      ]
    },
    {
      "cell_type": "code",
      "execution_count": null,
      "metadata": {
        "id": "qVQl1JYSmJym",
        "outputId": "0330c666-5388-4c37-dc96-ae38a18c7e9b"
      },
      "outputs": [
        {
          "name": "stdout",
          "output_type": "stream",
          "text": [
            "(1482535, 8)\n"
          ]
        },
        {
          "data": {
            "text/html": [
              "<div>\n",
              "<style scoped>\n",
              "    .dataframe tbody tr th:only-of-type {\n",
              "        vertical-align: middle;\n",
              "    }\n",
              "\n",
              "    .dataframe tbody tr th {\n",
              "        vertical-align: top;\n",
              "    }\n",
              "\n",
              "    .dataframe thead th {\n",
              "        text-align: right;\n",
              "    }\n",
              "</style>\n",
              "<table border=\"1\" class=\"dataframe\">\n",
              "  <thead>\n",
              "    <tr style=\"text-align: right;\">\n",
              "      <th></th>\n",
              "      <th>train_id</th>\n",
              "      <th>name</th>\n",
              "      <th>item_condition_id</th>\n",
              "      <th>category_name</th>\n",
              "      <th>brand_name</th>\n",
              "      <th>price</th>\n",
              "      <th>shipping</th>\n",
              "      <th>item_description</th>\n",
              "    </tr>\n",
              "  </thead>\n",
              "  <tbody>\n",
              "    <tr>\n",
              "      <th>0</th>\n",
              "      <td>0</td>\n",
              "      <td>MLB Cincinnati Reds T Shirt Size XL</td>\n",
              "      <td>3</td>\n",
              "      <td>Men/Tops/T-shirts</td>\n",
              "      <td>NaN</td>\n",
              "      <td>10.0</td>\n",
              "      <td>1</td>\n",
              "      <td>No description yet</td>\n",
              "    </tr>\n",
              "    <tr>\n",
              "      <th>1</th>\n",
              "      <td>1</td>\n",
              "      <td>Razer BlackWidow Chroma Keyboard</td>\n",
              "      <td>3</td>\n",
              "      <td>Electronics/Computers &amp; Tablets/Components &amp; P...</td>\n",
              "      <td>Razer</td>\n",
              "      <td>52.0</td>\n",
              "      <td>0</td>\n",
              "      <td>This keyboard is in great condition and works ...</td>\n",
              "    </tr>\n",
              "    <tr>\n",
              "      <th>2</th>\n",
              "      <td>2</td>\n",
              "      <td>AVA-VIV Blouse</td>\n",
              "      <td>1</td>\n",
              "      <td>Women/Tops &amp; Blouses/Blouse</td>\n",
              "      <td>Target</td>\n",
              "      <td>10.0</td>\n",
              "      <td>1</td>\n",
              "      <td>Adorable top with a hint of lace and a key hol...</td>\n",
              "    </tr>\n",
              "  </tbody>\n",
              "</table>\n",
              "</div>"
            ],
            "text/plain": [
              "   train_id                                 name  item_condition_id  \\\n",
              "0         0  MLB Cincinnati Reds T Shirt Size XL                  3   \n",
              "1         1     Razer BlackWidow Chroma Keyboard                  3   \n",
              "2         2                       AVA-VIV Blouse                  1   \n",
              "\n",
              "                                       category_name brand_name  price  \\\n",
              "0                                  Men/Tops/T-shirts        NaN   10.0   \n",
              "1  Electronics/Computers & Tablets/Components & P...      Razer   52.0   \n",
              "2                        Women/Tops & Blouses/Blouse     Target   10.0   \n",
              "\n",
              "   shipping                                   item_description  \n",
              "0         1                                 No description yet  \n",
              "1         0  This keyboard is in great condition and works ...  \n",
              "2         1  Adorable top with a hint of lace and a key hol...  "
            ]
          },
          "execution_count": 3,
          "metadata": {},
          "output_type": "execute_result"
        }
      ],
      "source": [
        "from sklearn.linear_model import Ridge, LogisticRegression\n",
        "from sklearn.model_selection import train_test_split, cross_val_score\n",
        "from sklearn.feature_extraction.text import CountVectorizer, TfidfVectorizer\n",
        "import pandas as pd\n",
        "\n",
        "mercari_df = pd.read_csv('data/text-anal/10-MercariPriceSuugestionChallenge/train.tsv', sep='\\t')\n",
        "print(mercari_df.shape)\n",
        "mercari_df.head(3)"
      ]
    },
    {
      "cell_type": "code",
      "execution_count": null,
      "metadata": {
        "id": "Uho5AjgamJyo",
        "outputId": "7240f7ff-b0b3-417b-d648-03de6e46b494"
      },
      "outputs": [
        {
          "name": "stdout",
          "output_type": "stream",
          "text": [
            "<class 'pandas.core.frame.DataFrame'>\n",
            "RangeIndex: 1482535 entries, 0 to 1482534\n",
            "Data columns (total 8 columns):\n",
            " #   Column             Non-Null Count    Dtype  \n",
            "---  ------             --------------    -----  \n",
            " 0   train_id           1482535 non-null  int64  \n",
            " 1   name               1482535 non-null  object \n",
            " 2   item_condition_id  1482535 non-null  int64  \n",
            " 3   category_name      1476208 non-null  object \n",
            " 4   brand_name         849853 non-null   object \n",
            " 5   price              1482535 non-null  float64\n",
            " 6   shipping           1482535 non-null  int64  \n",
            " 7   item_description   1482531 non-null  object \n",
            "dtypes: float64(1), int64(3), object(4)\n",
            "memory usage: 90.5+ MB\n",
            "None\n"
          ]
        }
      ],
      "source": [
        "# NULL 여부 확인\n",
        "print(mercari_df.info())"
      ]
    },
    {
      "cell_type": "code",
      "execution_count": null,
      "metadata": {
        "id": "W9C5jq31mJyo",
        "outputId": "6625c70b-de85-448a-fef4-80ee52d8eb35"
      },
      "outputs": [
        {
          "name": "stderr",
          "output_type": "stream",
          "text": [
            "C:\\ProgramData\\Anaconda3\\lib\\site-packages\\seaborn\\distributions.py:2551: FutureWarning: `distplot` is a deprecated function and will be removed in a future version. Please adapt your code to use either `displot` (a figure-level function with similar flexibility) or `histplot` (an axes-level function for histograms).\n",
            "  warnings.warn(msg, FutureWarning)\n"
          ]
        },
        {
          "data": {
            "text/plain": [
              "<AxesSubplot:xlabel='price'>"
            ]
          },
          "execution_count": 5,
          "metadata": {},
          "output_type": "execute_result"
        },
        {
          "data": {
            "image/png": "[encoded data removed]",
            "text/plain": [
              "<Figure size 432x288 with 1 Axes>"
            ]
          },
          "metadata": {
            "needs_background": "light"
          },
          "output_type": "display_data"
        }
      ],
      "source": [
        "# brand_name 은 Null 값을 많이 가지고 있음. 전체 1,482,535건 중 849,853건만 Not Null 임\n",
        "# category 는 6300 건의 Null 데이터\n",
        "# item_description 은 4건 null\n",
        "\n",
        "# price 컬럼의 분포도 살펴보겠음\n",
        "import matplotlib.pyplot as plt\n",
        "import seaborn as sns\n",
        "%matplotlib inline\n",
        "\n",
        "y_train_df = mercari_df['price']\n",
        "plt.figure(figsize=(6, 4))\n",
        "sns.distplot(y_train_df, kde=False) # kde (Kernel Density Estimator; 커널밀도추정, True 면 스무딩해서 그려줌)"
      ]
    },
    {
      "cell_type": "code",
      "execution_count": null,
      "metadata": {
        "id": "drQb1bdDmJyp",
        "outputId": "d7d932c0-de25-464d-c1b0-e4c87e21f1b6"
      },
      "outputs": [
        {
          "data": {
            "text/plain": [
              "<AxesSubplot:xlabel='price', ylabel='Density'>"
            ]
          },
          "execution_count": 6,
          "metadata": {},
          "output_type": "execute_result"
        },
        {
          "data": {
            "image/png": "[encoded data removed]",
            "text/plain": [
              "<Figure size 432x288 with 1 Axes>"
            ]
          },
          "metadata": {
            "needs_background": "light"
          },
          "output_type": "display_data"
        }
      ],
      "source": [
        "sns.distplot(y_train_df, kde=True) # kde (Kernel Density Estimator; 커널밀도추정)"
      ]
    },
    {
      "cell_type": "code",
      "execution_count": null,
      "metadata": {
        "id": "aA7px00nmJyp",
        "outputId": "70287e5d-87ba-4838-a157-369cb3f17648"
      },
      "outputs": [
        {
          "data": {
            "text/plain": [
              "<seaborn.axisgrid.FacetGrid at 0x2b119436790>"
            ]
          },
          "execution_count": 7,
          "metadata": {},
          "output_type": "execute_result"
        },
        {
          "data": {
            "image/png": "[encoded data removed]",
            "text/plain": [
              "<Figure size 360x360 with 1 Axes>"
            ]
          },
          "metadata": {
            "needs_background": "light"
          },
          "output_type": "display_data"
        }
      ],
      "source": [
        "# price 컬럼을 로그 값으로 변환한 뒤 분포도 다시 살펴봄\n",
        "import numpy as np\n",
        "\n",
        "y_train_df = np.log1p(y_train_df)\n",
        "sns.displot(y_train_df, kde=False)"
      ]
    },
    {
      "cell_type": "code",
      "execution_count": null,
      "metadata": {
        "id": "sfkC6_J9mJyq",
        "outputId": "499b3ef4-d1e6-44c5-88ef-0e22f6114221"
      },
      "outputs": [
        {
          "data": {
            "text/plain": [
              "<seaborn.axisgrid.FacetGrid at 0x2b1195c6400>"
            ]
          },
          "execution_count": 8,
          "metadata": {},
          "output_type": "execute_result"
        },
        {
          "data": {
            "image/png": "[encoded data removed]",
            "text/plain": [
              "<Figure size 360x360 with 1 Axes>"
            ]
          },
          "metadata": {
            "needs_background": "light"
          },
          "output_type": "display_data"
        }
      ],
      "source": [
        "sns.displot(y_train_df, kde=True)"
      ]
    },
    {
      "cell_type": "code",
      "execution_count": null,
      "metadata": {
        "id": "UlOQcLKimJyq",
        "outputId": "e528e8db-aa3b-4c9f-adb5-c146bd3dd598"
      },
      "outputs": [
        {
          "data": {
            "text/plain": [
              "0    2.397895\n",
              "1    3.970292\n",
              "2    2.397895\n",
              "3    3.583519\n",
              "4    3.806662\n",
              "Name: price, dtype: float64"
            ]
          },
          "execution_count": 9,
          "metadata": {},
          "output_type": "execute_result"
        }
      ],
      "source": [
        "# 로그로 변환 시 price 값이 비교적 정규분포에 가깝기에 price 값을 로그로 변환하겠음\n",
        "mercari_df['price'] = np.log1p(mercari_df['price'])\n",
        "mercari_df['price'].head()"
      ]
    },
    {
      "cell_type": "code",
      "execution_count": null,
      "metadata": {
        "id": "pBBmjvvTmJyr",
        "outputId": "ed1f8e81-59af-4f65-ea80-d0d987dd8132"
      },
      "outputs": [
        {
          "name": "stdout",
          "output_type": "stream",
          "text": [
            "Shipping 값 유형:\n",
            " 0    819435\n",
            "1    663100\n",
            "Name: shipping, dtype: int64\n",
            "\n",
            "\n",
            " item_condition_id 값 유형:\n",
            " 1    640549\n",
            "3    432161\n",
            "2    375479\n",
            "4     31962\n",
            "5      2384\n",
            "Name: item_condition_id, dtype: int64\n"
          ]
        }
      ],
      "source": [
        "# 다른 피처, shipping 과 item_condition_id 값의 유형\n",
        "print('Shipping 값 유형:\\n', mercari_df['shipping'].value_counts())\n",
        "print('\\n\\n item_condition_id 값 유형:\\n', mercari_df['item_condition_id'].value_counts())"
      ]
    },
    {
      "cell_type": "code",
      "execution_count": null,
      "metadata": {
        "id": "Y7nNbj9PmJyr",
        "outputId": "cf9e9345-35e5-42f7-9634-3adb15deaa96"
      },
      "outputs": [
        {
          "data": {
            "text/plain": [
              "82489"
            ]
          },
          "execution_count": 11,
          "metadata": {},
          "output_type": "execute_result"
        }
      ],
      "source": [
        "# shipping 컬럼은 비교적 균일\n",
        "# item_condition_id 는 판매자가 제공한느 제품 상태로서 각 값의 의미는 기재되어 있지 않음. 1, 2, 3 값이 주를 이룸\n",
        "\n",
        "# item_description의 Null 컬럼은 별로 없지만, 별도 설명이 없는 경우 'No description yet' 값으로 돼 있음\n",
        "boolean_cond = mercari_df['item_description'] == 'No description yet'\n",
        "mercari_df[boolean_cond]['item_description'].count()"
      ]
    },
    {
      "cell_type": "code",
      "execution_count": null,
      "metadata": {
        "id": "5pOg4D-1mJys"
      },
      "outputs": [],
      "source": [
        "# 'No description yet' 값이 82,489 건. Null 과 마찬가지로 적절한 값으로 변경해야함"
      ]
    },
    {
      "cell_type": "markdown",
      "metadata": {
        "id": "DgviRwAfmJys"
      },
      "source": [
        "- category_name을 살펴보겠음\n",
        "    - category_name 은 '/'로 분리된 카테고리를 하나의 문자열로 나타내고 있음\n",
        "    - Men/Tops/T-shirts 는 대분류 Men, 중분류 Tops, 소분류 T-shirts\n",
        "    - category_name은 텍스트이므로 tokenizer를 '/'로 하여 단어를 분리해 벡터화 할 수 있음.\n",
        "    - 그러나 여기서는 '/'를 기준으로 단어를 토큰화해 각각 별도의 피처로 저장하고 이를 이용해 알고리즘을 학습시키겠음\n",
        "    - '/'를 기준으로 분리하기 위해 별도의 split_cat() 함수 생성"
      ]
    },
    {
      "cell_type": "code",
      "execution_count": null,
      "metadata": {
        "id": "OQP0ElZamJys",
        "outputId": "3ba31fb2-6e02-4e79-a96f-6ca636d3ccfc"
      },
      "outputs": [
        {
          "name": "stdout",
          "output_type": "stream",
          "text": [
            "대분류 유형 :\n",
            " Women                     664385\n",
            "Beauty                    207828\n",
            "Kids                      171689\n",
            "Electronics               122690\n",
            "Men                        93680\n",
            "Home                       67871\n",
            "Vintage & Collectibles     46530\n",
            "Other                      45351\n",
            "Handmade                   30842\n",
            "Sports & Outdoors          25342\n",
            "Other_Null                  6327\n",
            "Name: cat_dae, dtype: int64\n",
            "중분류 개수 :\n",
            " 114\n",
            "소분류 개수 :\n",
            " 871\n"
          ]
        }
      ],
      "source": [
        "# apply lambda 에서 호출되는 대, 중, 소 분할 함수 생성. 대, 중, 소 값을 리스트로 반환\n",
        "def split_cat(category_name) :\n",
        "    try :\n",
        "        return category_name.split('/')\n",
        "    except :\n",
        "        return ['Other_Null', 'Other_Null', 'Other_Null'] # category_name 이 Null 일 경우 이를 위해 대, 중, 소 모두 Other_Null 반환\n",
        "    \n",
        "# 위의 split_cat 을 apply lambda 에서 호출해 대, 중, 소 칼럼을 mercari_df 에 생성\n",
        "mercari_df['cat_dae'], mercari_df['cat_jung'], mercari_df['cat_so'] = \\\n",
        "    zip(*mercari_df['category_name'].apply(lambda x : split_cat(x)))\n",
        "\n",
        "# 대분류만 값의 유형과 건수를 살펴보고, 중 소 분류는 값의 유형이 많으므로 분류 개수만 추출\n",
        "print('대분류 유형 :\\n', mercari_df['cat_dae'].value_counts())\n",
        "print('중분류 개수 :\\n', mercari_df['cat_jung'].nunique())\n",
        "print('소분류 개수 :\\n', mercari_df['cat_so'].nunique())"
      ]
    },
    {
      "cell_type": "markdown",
      "metadata": {
        "id": "xo2SgZh-mJyt"
      },
      "source": [
        "- brand_name, category_name, item_description 의 Null 은 일괄적으로 'Other_Null' 로 변경"
      ]
    },
    {
      "cell_type": "code",
      "execution_count": null,
      "metadata": {
        "id": "YWTN85v4mJyt",
        "outputId": "ae91e8c5-7fe8-4b52-b258-fa62d4014884"
      },
      "outputs": [
        {
          "data": {
            "text/plain": [
              "train_id             0\n",
              "name                 0\n",
              "item_condition_id    0\n",
              "category_name        0\n",
              "brand_name           0\n",
              "price                0\n",
              "shipping             0\n",
              "item_description     0\n",
              "cat_dae              0\n",
              "cat_jung             0\n",
              "cat_so               0\n",
              "dtype: int64"
            ]
          },
          "execution_count": 14,
          "metadata": {},
          "output_type": "execute_result"
        }
      ],
      "source": [
        "fillna_str = 'Other_Null'\n",
        "mercari_df['brand_name'] = mercari_df['brand_name'].fillna(value=fillna_str)\n",
        "mercari_df['category_name'] = mercari_df['category_name'].fillna(value=fillna_str)\n",
        "mercari_df['item_description'] = mercari_df['item_description'].fillna(value=fillna_str)\n",
        "\n",
        "# 각 컬럼별 Null 값 건수 확인. 모두 0 나와야 함\n",
        "mercari_df.isnull().sum()"
      ]
    },
    {
      "cell_type": "markdown",
      "metadata": {
        "id": "F41NmtXomJyt"
      },
      "source": [
        "#### 피처 인코딩과 피처 벡터화"
      ]
    },
    {
      "cell_type": "markdown",
      "metadata": {
        "id": "wsmea1xLmJyt"
      },
      "source": [
        "- 선형회귀의 경우 **원-핫 인코딩 적용이 훨씬 선호되므로** 인코딩할 피처는 모두 원-핫 인코딩을 적용하겠음\n",
        "- 피처 벡터화의 경우는 짧은 텍스트는 Count 기반의 벡터화, 긴 텍스트는 TD-IDF 기반의 벡터화를 적용"
      ]
    },
    {
      "cell_type": "markdown",
      "metadata": {
        "id": "D5gi-d4gmJyu"
      },
      "source": [
        "- 첫 번째로 검토할 컬럼은 brand_name"
      ]
    },
    {
      "cell_type": "code",
      "execution_count": null,
      "metadata": {
        "id": "C4jd0hUsmJyu",
        "outputId": "9f605aca-9fe1-4aeb-b742-180d23ef7b68"
      },
      "outputs": [
        {
          "name": "stdout",
          "output_type": "stream",
          "text": [
            "brand name 의 유형 건수: 4810\n",
            "brand name sample 5건:\n",
            " Other_Null           632682\n",
            "PINK                  54088\n",
            "Nike                  54043\n",
            "Victoria's Secret     48036\n",
            "LuLaRoe               31024\n",
            "Name: brand_name, dtype: int64\n"
          ]
        }
      ],
      "source": [
        "print('brand name 의 유형 건수:', mercari_df['brand_name'].nunique())\n",
        "print('brand name sample 5건:\\n', mercari_df['brand_name'].value_counts()[:5])"
      ]
    },
    {
      "cell_type": "markdown",
      "metadata": {
        "id": "o2jCzcJimJyu"
      },
      "source": [
        "- brand_name 의 경우 대부분 명료한 문자열로 돼 있어, 별도 피처 벡터화 없이 인코딩을 적용하겠음\n",
        "- brand_name 의 종류가 4810건으로 원-핫 인코딩 변환하기에 다소 많아 보이나, 본 예제의 ML 모델 구축상 큰 문제는 없음\n",
        "\n",
        "- 상품병을 의미하는 name 속성이 어떤 유형으로 돼 있는지 건수와 상품명 7개만 출력"
      ]
    },
    {
      "cell_type": "code",
      "execution_count": null,
      "metadata": {
        "id": "a2kuFwvcmJyu",
        "outputId": "a4232dd7-f083-4bb6-e53d-5c573b628442"
      },
      "outputs": [
        {
          "name": "stdout",
          "output_type": "stream",
          "text": [
            "name 의 종류 개수: 1225273\n",
            "name sample 7건:\n",
            " Bundle                 2232\n",
            "Reserved                453\n",
            "Converse                445\n",
            "BUNDLE                  418\n",
            "Dress                   410\n",
            "Coach purse             404\n",
            "Lularoe TC leggings     396\n",
            "Name: name, dtype: int64\n"
          ]
        }
      ],
      "source": [
        "print('name 의 종류 개수:', mercari_df['name'].nunique())\n",
        "print('name sample 7건:\\n', mercari_df['name'].value_counts()[:7])"
      ]
    },
    {
      "cell_type": "markdown",
      "metadata": {
        "id": "fNzG29aSmJyu"
      },
      "source": [
        "- name 의 속성 종류가 무려 1,225,273 종류나 됨.\n",
        "- 전체 데이터가 1,482, 535 개 이므로 거의 고유한 상품명을 가지고 있음\n",
        "- name 속성은 유형이 매우 많고, 적은 단어 위주의 텍스트 형태로 돼 있으므로 Count 기반의 피처 벡터화를 적용"
      ]
    },
    {
      "cell_type": "markdown",
      "metadata": {
        "id": "a0kAC1PSmJyu"
      },
      "source": [
        "- category_name 컬럼은 이전에 전처리를 통해 대, 중, 소 분류 세 개의 컬럼인 cat_dae, cat_jung, cat_so 분리\n",
        "- cat_dae, cat_jung, cat_so 컬럼도 원-핫 인코딩을 적용\n",
        "\n",
        "- shipping 컬럼은 배송비 무료 여부로 0, 1 두 유형의 값을 가지고 있음\n",
        "- item_condition_id 는 상품 상태로서 1, 2, 3, 4, 5 다섯가지 유형의 값을 가지고 있음\n",
        "- shipping, item_condition_id 는 모두 원-핫 인코딩을 적용"
      ]
    },
    {
      "cell_type": "markdown",
      "metadata": {
        "id": "K0mk_uA4mJyv"
      },
      "source": [
        "- item_description은 상품에 대한 간단 설명으로 가장 긴 텍스트를 가지고 있음\n",
        "- 해당 컬럼의 평균 문자열 크기와 2개 정도의 텍스트만 추출해 보겠음"
      ]
    },
    {
      "cell_type": "code",
      "execution_count": null,
      "metadata": {
        "id": "7oeE4q6-mJyv",
        "outputId": "ce85e3ff-456b-40cf-9a34-d4df9e747be9"
      },
      "outputs": [
        {
          "name": "stdout",
          "output_type": "stream",
          "text": [
            "item_description 평균 문자열 크기: 145.7113889385411\n"
          ]
        },
        {
          "data": {
            "text/plain": [
              "0                                                                                                                                                                              No description yet\n",
              "1    This keyboard is in great condition and works like it came out of the box. All of the ports are tested and work perfectly. The lights are customizable via the Razer Synapse app on your PC.\n",
              "Name: item_description, dtype: object"
            ]
          },
          "execution_count": 17,
          "metadata": {},
          "output_type": "execute_result"
        }
      ],
      "source": [
        "pd.set_option('max_colwidth', 200)\n",
        "\n",
        "# item_description의 평균 문자열 크기\n",
        "print('item_description 평균 문자열 크기:', mercari_df['item_description'].str.len().mean())\n",
        "\n",
        "mercari_df['item_description'][:2]"
      ]
    },
    {
      "cell_type": "markdown",
      "metadata": {
        "id": "cCAhATgHmJyv"
      },
      "source": [
        "- 평균 문자열이 145자로 비교적 크므로 TF-IDF로 변환하겠음\n",
        "\n",
        "- 이제 주요 컬럼을 인코딩 및 피처 벡터화 변화해 보겠음\n",
        "- name : CountVectorizer\n",
        "- item_description : TfidfVectorizer"
      ]
    },
    {
      "cell_type": "code",
      "execution_count": null,
      "metadata": {
        "id": "Di-EEvPsmJyv",
        "outputId": "3514b91d-4571-4375-eec4-fa57eb2985e2"
      },
      "outputs": [
        {
          "name": "stdout",
          "output_type": "stream",
          "text": [
            "name_vectorization shape: (1482535, 105757)\n",
            "item_description vectorization shape: (1482535, 50000)\n"
          ]
        }
      ],
      "source": [
        "# name 속성에 대한 피처 벡터화\n",
        "cnt_vec = CountVectorizer()\n",
        "x_name = cnt_vec.fit_transform(mercari_df.name)\n",
        "\n",
        "# item_description 에 대한 피처 벡터화\n",
        "tfidf_descp = TfidfVectorizer(max_features=50000, ngram_range=(1, 3), stop_words='english')\n",
        "x_descp = tfidf_descp.fit_transform(mercari_df['item_description'])\n",
        "\n",
        "print('name_vectorization shape:', x_name.shape)\n",
        "print('item_description vectorization shape:', x_descp.shape)"
      ]
    },
    {
      "cell_type": "markdown",
      "metadata": {
        "id": "Qck_R1hHmJyv"
      },
      "source": [
        "- CountVectorizer, TfidfVectorizer 가 fit_transform()을 통해 반환하는 데이터는 **희소행렬**\n",
        "- 희소행렬 객체 변수인 x_name, x_descp를 새로 결합해 새로운 데이터 세트를 구성해야 하고\n",
        "- 앞으로 인코딩 될 cat_dae, cat_jung, cat_so, brand_name, shipping, item_condition_id 도 모두 x_name, x_descp 와 결합 돼 ML 모델을 실행하는 기반 데이터 세트로 재구성되어야 함\n",
        "\n",
        "- 이를 위해 인코딩 대상 컬럼도 밀집 행렬 형태가 아닌 희소 행렬 형태로 인코딩을 적용한 뒤, 함께 결합하도록 하겠음\n",
        "- 사이킷런은 원-핫 인코딩을 위해 OneHotEncoder 와 LabelBinarizer 클래스를 제공\n",
        "- 이 중 LabelBinarizer 클래스는 희소행렬 형태의 원-핫 인코딩 변환을 지원함\n",
        "- 생성 시 **sparse_output=True** 로 파라미터를 설정해주기만 하면 됨\n",
        "- 개별 컬럼으로 만들어진 **희소 행렬은 사이파이 패키지 sparse 모듈의 hstack() 함수를 이용해 결합**하겠음\n",
        "- **hstack() 함수는 희소 행렬을 손쉽게 컬럼 레벨로 결합**할 수 있게 해줌"
      ]
    },
    {
      "cell_type": "markdown",
      "metadata": {
        "id": "cBSB6qakmJyv"
      },
      "source": [
        "![sparse-hatck](https://user-images.githubusercontent.com/291782/193435461-6cf91939-a380-4aa9-9e47-695de8edd413.png)"
      ]
    },
    {
      "cell_type": "markdown",
      "metadata": {
        "id": "lM6349rEmJyv"
      },
      "source": [
        "- 먼저 인코딩된 대상 컬럼을 모두 LabelBinarizer 로 원-핫 인코딩 변환하겠음\n",
        "- 다음 예제는 저자의 책에서 약 5분 정도 시간 걸림"
      ]
    },
    {
      "cell_type": "code",
      "execution_count": null,
      "metadata": {
        "id": "q5DvMv2pmJyw",
        "outputId": "72c5f031-77a0-4c93-9c2e-5acdf09f702a"
      },
      "outputs": [
        {
          "name": "stdout",
          "output_type": "stream",
          "text": [
            "시작시간: 2022-10-04 23:42:11.390443\n",
            "수행시간 (sec): 139.3782229423523\n",
            "종료시간: 2022-10-04 23:44:30.768666\n"
          ]
        }
      ],
      "source": [
        "import time\n",
        "from datetime import datetime\n",
        "from sklearn.preprocessing import LabelBinarizer\n",
        "\n",
        "# 수행 시간 설정 : 시작 시간 설정\n",
        "now = datetime.now()\n",
        "start = time.time() # 시작시간\n",
        "print('시작시간:', datetime.now())\n",
        "\n",
        "# brand_name, item_condition_id, shipping 각 피처들을 희소행렬 원-핫 인코딩 변환\n",
        "lb_brand_name = LabelBinarizer(sparse_output=True)\n",
        "x_brand = lb_brand_name.fit_transform(mercari_df['brand_name'])\n",
        "\n",
        "lb_item_cond_id = LabelBinarizer(sparse_output=True)\n",
        "x_item_cond_id = lb_item_cond_id.fit_transform(mercari_df['item_condition_id'])\n",
        "\n",
        "lb_shipping = LabelBinarizer(sparse_output=True)\n",
        "x_shipping = lb_shipping.fit_transform(mercari_df['shipping'])\n",
        "\n",
        "# cat_dae, cat_jung, cat_so 각 피처들을 희소 행렬 원-핫 인코딩 변환\n",
        "lb_cat_dae = LabelBinarizer(sparse_output=True)\n",
        "x_cat_dae = lb_cat_dae.fit_transform(mercari_df['cat_dae'])\n",
        "\n",
        "lb_cat_jung = LabelBinarizer(sparse_output=True)\n",
        "x_cat_jung = lb_cat_jung.fit_transform(mercari_df['cat_jung'])\n",
        "\n",
        "lb_cat_so = LabelBinarizer(sparse_output=True)\n",
        "x_cat_so = lb_cat_so.fit_transform(mercari_df['cat_so'])\n",
        "\n",
        "# 수행시간 설정 : 종료 시간 설정\n",
        "print('수행시간 (sec):', time.time() - start)\n",
        "print('종료시간:', datetime.now())\n"
      ]
    },
    {
      "cell_type": "markdown",
      "metadata": {
        "id": "2YTx29PcmJyw"
      },
      "source": [
        "- 제대로 변환 되었는지 생성된 인코딩 데이터 세트의 타입과 shape을 살펴 보겠음"
      ]
    },
    {
      "cell_type": "code",
      "execution_count": null,
      "metadata": {
        "id": "Nl61khTDmJyw",
        "outputId": "8c5234d9-51ec-4825-9acd-363cac9fb2c7"
      },
      "outputs": [
        {
          "name": "stdout",
          "output_type": "stream",
          "text": [
            "<class 'scipy.sparse.csr.csr_matrix'> <class 'scipy.sparse.csr.csr_matrix'> <class 'scipy.sparse.csr.csr_matrix'>\n",
            "x_brand shape:(1482535, 4810), x_item_cond_id shape:(1482535, 5)\n",
            "x_shipping shape:(1482535, 1), x_cat_dae shape:(1482535, 11)\n",
            "x_cat_jung shape:(1482535, 114), x_cat_so shape:(1482535, 871)\n"
          ]
        }
      ],
      "source": [
        "print(type(x_brand), type(x_item_cond_id), type(x_shipping))\n",
        "print('x_brand shape:{0}, x_item_cond_id shape:{1}'.format(x_brand.shape, x_item_cond_id.shape))\n",
        "print('x_shipping shape:{0}, x_cat_dae shape:{1}'.format(x_shipping.shape, x_cat_dae.shape))\n",
        "print('x_cat_jung shape:{0}, x_cat_so shape:{1}'.format(x_cat_jung.shape, x_cat_so.shape))"
      ]
    },
    {
      "cell_type": "markdown",
      "metadata": {
        "id": "8RcMf2LKmJyw"
      },
      "source": [
        "- 인코딩 변환된 데이터 세트가 CSR 형태로 변환된 csr_matrix 타입임\n",
        "- brand_name 컬럼의 경우 값의 유형이 4810개이므로 이를 원-핫 인코딩으로 변환한 x_brand_shape 의 경우 4810개의 인코딩 컬럼을 가지게 되었음\n",
        "- 인코딩 컬럼이 매우 많이 생겼지만, 피처 벡터화로 텍스트 형태의 문자열이 가지는 벡터 형태의 매우 많은 컬럼과 함께 결합되므로 크게 문제될 것은 없음"
      ]
    },
    {
      "cell_type": "markdown",
      "metadata": {
        "id": "uEKkfk6-mJyw"
      },
      "source": [
        "- 이번에는 피처 벡터화 변환된 데이터 세트와 희소 인코딩 변환된 데이터 세트를 hstack()을 이용해 모두 결합해 보겠음\n",
        "- 만들어진 결합 데이터가 비교적 많은 메모리를 잡아먹기 때문에 PC에서 메모리 오류가 발생할 수 있기에 **del '객체 변수망' 과 gc.collect()**로 결합 데이터를 메모리에서 삭제"
      ]
    },
    {
      "cell_type": "code",
      "execution_count": null,
      "metadata": {
        "id": "BzFh2hZVmJyw",
        "outputId": "8bbcf60f-91d3-411c-8d42-9ddcf84e3892"
      },
      "outputs": [
        {
          "name": "stdout",
          "output_type": "stream",
          "text": [
            "<class 'scipy.sparse.csr.csr_matrix'> (1482535, 161569)\n"
          ]
        }
      ],
      "source": [
        "from scipy.sparse import hstack\n",
        "import gc\n",
        "\n",
        "sparse_matrix_list = (x_name, x_descp, x_brand, x_item_cond_id, \\\n",
        "                     x_shipping, x_cat_dae, x_cat_jung, x_cat_so)\n",
        "\n",
        "# hstack 함수를 이용해 인코딩과 벡터화를 수행한 데이터 세트를 모두 결합\n",
        "x_features_sparse = hstack(sparse_matrix_list).tocsr()\n",
        "print(type(x_features_sparse), x_features_sparse.shape)\n",
        "\n"
      ]
    },
    {
      "cell_type": "code",
      "execution_count": null,
      "metadata": {
        "id": "CCyuKlrFmJyx",
        "outputId": "3304ca68-48d8-4f2c-c729-2469e55caebc"
      },
      "outputs": [
        {
          "data": {
            "text/plain": [
              "80"
            ]
          },
          "execution_count": 22,
          "metadata": {},
          "output_type": "execute_result"
        }
      ],
      "source": [
        "# 데이터 세트가 메모리를 많이 차지하므로 사용 목적이 끝났으면 메모리에서 삭제\n",
        "del x_features_sparse\n",
        "gc.collect()"
      ]
    },
    {
      "cell_type": "markdown",
      "metadata": {
        "id": "pa2v5RsdmJyx"
      },
      "source": [
        "- hstack() 으로 결합한 데이터 세트는 csr_matrix 타입이며, 총 161,569개의 피처를 가지게 되었음\n",
        "- 이제 이렇게 만들어진 데이터 세트에 회귀를 적용해 price 값을 예측할 수 있도록 모델을 만들 차례임"
      ]
    },
    {
      "cell_type": "markdown",
      "metadata": {
        "id": "StGw4lRQmJyx"
      },
      "source": [
        "#### 릿지회귀모델 구축 및 평가"
      ]
    },
    {
      "cell_type": "markdown",
      "metadata": {
        "id": "2v_9drk2mJyx"
      },
      "source": [
        "- 예측 성능을 비교하면서 테스트를 수행할 것이므로 수행에 필요한 로직을 함수화하겠음\n",
        "- 모델을 평가(Evaluation)하는 로직을 함수화\n",
        "- 적용할 지표는 캐글에서 제시한 RMSLE (Root Mean Square Logarithmic Error) 방식으로 하겠음\n",
        "- **RMSLE**는 **RMSE**와 유사하나 오류 값에 로그를 취해 RMSE를 구하는 방식\n",
        "- 낮은 가격보다 높은 가격에서 오류가 발생할 경우 오류 값이 더 커지는 것을 억제하기 위해서 이 방식을 도입\n",
        "\n",
        "$\\epsilon = \\displaystyle \\sqrt {\\dfrac {1}{n} \\sum_{i=1}^n (log(p_i + 1) - log(\\alpha_i + 1))^2}$\n",
        "\n",
        "- 별도의 **RMSLE**를 구하는 함수를 **rmsle((y, y_pred))** 로 생성하겠음\n",
        "- 학습할 모델이 사용할 price 값은 **로그 값으로 변환된 price 값**이므로, 예측도 당연히 로그로 변환한 데이터 값 수준의 price 값을 예측할 것 임\n",
        "- 따라서 예측된 price 값은 다시 로그의 역변환인 지수(Exponential) 변환을 수행해 원복해야함\n",
        "- 이렇게 원복된 데이터를 기반으로 RMSLE를 적용할 수 있도록 **evaluate_org_price(y_test, preds)** 함수를 생성"
      ]
    },
    {
      "cell_type": "code",
      "execution_count": null,
      "metadata": {
        "id": "ubblapNimJyx"
      },
      "outputs": [],
      "source": [
        "def rmsle(y, y_pred) :\n",
        "    # underflow, overflow 를 막기 위해 log 가 아닌 log1p로 rmsle 계산\n",
        "    return np.sqrt( np.mean( np.power( np.log1p(y) - np.log1p(y_pred), 2) ) )\n",
        "\n",
        "def evaluate_org_price(y_test, preds) :\n",
        "    \n",
        "    # 원본 데이터는 log1p로 변환되었으므로 exmpm1로 원복 필요\n",
        "    preds_exmpm = np.expm1(preds)\n",
        "    y_test_exmpm = np.expm1(y_test)\n",
        "    \n",
        "    # rmsle로 RMSLE 값 추출\n",
        "    rmsle_result = rmsle(y_test_exmpm, preds_exmpm)\n",
        "    return rmsle_result\n"
      ]
    },
    {
      "cell_type": "markdown",
      "metadata": {
        "id": "1UpL3hE7mJyx"
      },
      "source": [
        "- 학습용 데이터를 생성하고, 모델을 학습 / 예측하는 로직을 별도의 함수로 만들겠음\n",
        "- model_train_predict() 함수는 model 인자로 사이킷런의 회귀 estimator 객체를, matrix_list 인자로 최종 데이터 세트로 결합할 희소 행렬 리스트를 가짐"
      ]
    },
    {
      "cell_type": "code",
      "execution_count": null,
      "metadata": {
        "id": "yKt5N-N5mJyx"
      },
      "outputs": [],
      "source": [
        "import gc\n",
        "from scipy.sparse import hstack\n",
        "\n",
        "def model_train_predict(model, matrix_list) :\n",
        "    # scipy.sparse 모듈의 hstack을 이용해 희소 행렬 결합\n",
        "    x = hstack(matrix_list).tocsr()\n",
        "    \n",
        "    x_train, x_test, y_train, y_test = train_test_split(x, mercari_df['price'], \n",
        "                                                        test_size=0.2, random_state=156)\n",
        "    \n",
        "    # 모델 학습 및 예측\n",
        "    model.fit(x_train, y_train)\n",
        "    preds = model.predict(x_test)\n",
        "    \n",
        "    del x, x_train, x_test, y_train\n",
        "    gc.collect()\n",
        "    \n",
        "    return preds, y_test"
      ]
    },
    {
      "cell_type": "markdown",
      "metadata": {
        "id": "fZ8Rc4NlmJyy"
      },
      "source": [
        "- 함수 수행 전 Mercari 상품 가격 예측에 item_description 과 같은 텍스트 형태의 속성이 얼마나 영향을 미치는지 알아보겠음\n",
        "- item_description 속성 피처 벡터화 데이터가 포함 / 비포함 되었을 때 예측 성능을 비교해 보겠음"
      ]
    },
    {
      "cell_type": "code",
      "execution_count": null,
      "metadata": {
        "id": "C-CGLTfwmJyy",
        "outputId": "403e2a36-0649-4d0f-f6fb-af1c8a65dc0e"
      },
      "outputs": [
        {
          "name": "stdout",
          "output_type": "stream",
          "text": [
            "Item Description을 제외했을 때 rmsle 값: 0.5021634408234568\n",
            "Item Description을 포함한 rmsle 값: 0.47122035359384046\n"
          ]
        }
      ],
      "source": [
        "linear_model = Ridge(solver='lsqr', fit_intercept=False)\n",
        "\n",
        "sparse_matrix_list = (x_name, x_brand, x_item_cond_id, \n",
        "                     x_shipping, x_cat_dae, x_cat_jung, x_cat_so)\n",
        "\n",
        "linear_preds, y_test = model_train_predict(model=linear_model, matrix_list=sparse_matrix_list)\n",
        "print('Item Description을 제외했을 때 rmsle 값:', evaluate_org_price(y_test, linear_preds))\n",
        "\n",
        "sparse_matrix_list = (x_descp, x_name, x_brand, x_item_cond_id,\n",
        "                     x_shipping, x_cat_dae, x_cat_jung, x_cat_so)\n",
        "\n",
        "linear_preds, y_test = model_train_predict(model=linear_model, matrix_list=sparse_matrix_list)\n",
        "print('Item Description을 포함한 rmsle 값:', evaluate_org_price(y_test, linear_preds))\n"
      ]
    },
    {
      "cell_type": "markdown",
      "metadata": {
        "id": "Xcn52O0emJyy"
      },
      "source": [
        "- Item Description 을 포함했을 떄 rmsle 값이 많이 감소했음\n",
        "- Item Description 영향이 중요함을 알 수 있음"
      ]
    },
    {
      "cell_type": "markdown",
      "metadata": {
        "id": "3Vf-BPXpmJyy"
      },
      "source": [
        "#### LightGBM 회귀 모델 구축과 앙상블을 이용한 최종 예측 평가"
      ]
    },
    {
      "cell_type": "markdown",
      "metadata": {
        "id": "8BD7SA0fmJyy"
      },
      "source": [
        "- LightGBM 을 이용해 회귀를 수행한 뒤, 위에서 구한 릿지 모델 예측값과 LightGBM 모델 예측값을 앙상블(Ensemble) 방식으로 섞어서 최종 회귀 예측값을 평가하겠음"
      ]
    },
    {
      "cell_type": "code",
      "execution_count": null,
      "metadata": {
        "id": "586F-GROmJyy",
        "outputId": "c9b8d8a9-3732-4193-d0dd-93e61c24813b"
      },
      "outputs": [
        {
          "name": "stdout",
          "output_type": "stream",
          "text": [
            "Collecting lightgbm\n",
            "  Downloading lightgbm-3.3.2-py3-none-win_amd64.whl (1.0 MB)\n",
            "Requirement already satisfied: scikit-learn!=0.22.0 in c:\\programdata\\anaconda3\\lib\\site-packages (from lightgbm) (0.23.2)\n",
            "Requirement already satisfied: scipy in c:\\programdata\\anaconda3\\lib\\site-packages (from lightgbm) (1.5.2)\n",
            "Requirement already satisfied: wheel in c:\\programdata\\anaconda3\\lib\\site-packages (from lightgbm) (0.35.1)\n",
            "Requirement already satisfied: numpy in c:\\programdata\\anaconda3\\lib\\site-packages (from lightgbm) (1.19.2)\n",
            "Requirement already satisfied: joblib>=0.11 in c:\\programdata\\anaconda3\\lib\\site-packages (from scikit-learn!=0.22.0->lightgbm) (0.17.0)\n",
            "Requirement already satisfied: threadpoolctl>=2.0.0 in c:\\programdata\\anaconda3\\lib\\site-packages (from scikit-learn!=0.22.0->lightgbm) (2.1.0)\n",
            "Installing collected packages: lightgbm\n",
            "Successfully installed lightgbm-3.3.2\n"
          ]
        }
      ],
      "source": [
        "#!pip install lightgbm  # 아래 lightgbm 수행을 위해 lightgbm 패키지 설치"
      ]
    },
    {
      "cell_type": "code",
      "execution_count": null,
      "metadata": {
        "id": "HsrMTO1vmJyy",
        "outputId": "3385606c-e7c2-4b52-f3ea-fced84fc87aa"
      },
      "outputs": [
        {
          "name": "stdout",
          "output_type": "stream",
          "text": [
            "시작시간: 2022-10-05 00:13:58.799692\n",
            "LightGBM rmsle 값: 0.4565182126498302\n",
            "수행시간 (sec): 473.29084753990173\n",
            "종료시간: 2022-10-05 00:21:52.090540\n"
          ]
        }
      ],
      "source": [
        "from lightgbm import LGBMRegressor\n",
        "\n",
        "import time\n",
        "from datetime import datetime\n",
        "\n",
        "# 수행 시간 설정 : 시작 시간 설정\n",
        "now = datetime.now()\n",
        "start = time.time() # 시작시간\n",
        "print('시작시간:', datetime.now())\n",
        "\n",
        "sparse_matrix_list = (x_descp, x_name, x_brand, x_item_cond_id,\n",
        "                     x_shipping, x_cat_dae, x_cat_jung, x_cat_so)\n",
        "\n",
        "\n",
        "# n_estimators= 200 수행시간 : 473초.\n",
        "'''\n",
        "시작시간: 2022-10-05 00:13:58.799692\n",
        "LightGBM rmsle 값: 0.4565182126498302\n",
        "수행시간 (sec): 473.29084753990173\n",
        "종료시간: 2022-10-05 00:21:52.090540\n",
        "'''\n",
        "lgbm_model = LGBMRegressor(n_estimators=200, learning_rate=0.5, num_leaves=125, random_state=156)\n",
        "lgbm_preds, y_test = model_train_predict(model=lgbm_model, matrix_list=sparse_matrix_list)\n",
        "\n",
        "print('LightGBM rmsle 값:', evaluate_org_price(y_test, lgbm_preds))\n",
        "\n",
        "# 수행시간 설정 : 종료 시간 설정\n",
        "print('수행시간 (sec):', time.time() - start)\n",
        "print('종료시간:', datetime.now())"
      ]
    },
    {
      "cell_type": "markdown",
      "metadata": {
        "id": "9hd7rQF1mJyz"
      },
      "source": [
        "- 앞 예제의 Ridge 보다 예측 성능이 조금 더 나아졌음\n",
        "- 이렇게 구한 LightGBM 결과값과 위에서 구한 Ridge 예측 결괏값을 서로 앙상블해 최종 예측 결괏값을 도출하겠음\n",
        "- **LightGBM 결과값에 0.45를 곱하고, Ridge 결과값에 0.55를 곱한 값을 서로 합해 최종 예측 결과값**으로 하겠음\n",
        "- (0.45와 0.55의 비율은 저자 임의 산정. 최적의 결과값을 도출하도록 배합 비율을 여러 가지로 해서 직접 수행해 보기 바람)\n",
        "- Ridge 예측 데이터 세트인 linear_preds 에 일괄적으로 0.55를 곱하고, LightGBM 예측 세트인 lgbm_preds 에 일괄적으로 0.45를 곱한 뒤 합한 결과 데이터 세트로 예측 성능을 다시 측정해 보겠음"
      ]
    },
    {
      "cell_type": "code",
      "execution_count": null,
      "metadata": {
        "id": "8pIqQqYqmJyz",
        "outputId": "69db1015-3578-4280-fdf0-04ac0e53d94b"
      },
      "outputs": [
        {
          "name": "stdout",
          "output_type": "stream",
          "text": [
            "LigthGBM 과 Ridge를 앙상블한 최종 예측값: 0.45048177897380093\n"
          ]
        }
      ],
      "source": [
        "preds = lgbm_preds * 0.45 + linear_preds * 0.55\n",
        "print('LigthGBM 과 Ridge를 앙상블한 최종 예측값:', evaluate_org_price(y_test, preds))"
      ]
    },
    {
      "cell_type": "markdown",
      "metadata": {
        "id": "Rhyam3hCmJyz"
      },
      "source": [
        "- 간단한 앙상블 방식으로 예측 성능을 더 개선했음\n",
        "- 완료"
      ]
    },
    {
      "cell_type": "code",
      "execution_count": null,
      "metadata": {
        "id": "tyeFAj8FmJyz"
      },
      "outputs": [],
      "source": []
    },
    {
      "cell_type": "code",
      "execution_count": null,
      "metadata": {
        "id": "2wLY9-qhmJyz"
      },
      "outputs": [],
      "source": []
    },
    {
      "cell_type": "code",
      "execution_count": null,
      "metadata": {
        "id": "u3urnf_wmJyz"
      },
      "outputs": [],
      "source": []
    },
    {
      "cell_type": "code",
      "execution_count": null,
      "metadata": {
        "id": "siBchFgpmJyz"
      },
      "outputs": [],
      "source": []
    },
    {
      "cell_type": "code",
      "execution_count": null,
      "metadata": {
        "id": "38Aa0fBJmJyz"
      },
      "outputs": [],
      "source": []
    },
    {
      "cell_type": "code",
      "execution_count": null,
      "metadata": {
        "id": "KlU5J65ZmJyz"
      },
      "outputs": [],
      "source": []
    },
    {
      "cell_type": "code",
      "execution_count": null,
      "metadata": {
        "id": "iwDDUihimJyz"
      },
      "outputs": [],
      "source": []
    },
    {
      "cell_type": "code",
      "execution_count": null,
      "metadata": {
        "id": "pTd4DGzBmJyz"
      },
      "outputs": [],
      "source": []
    },
    {
      "cell_type": "code",
      "execution_count": null,
      "metadata": {
        "id": "u2OAx_86mJy0"
      },
      "outputs": [],
      "source": []
    },
    {
      "cell_type": "code",
      "execution_count": null,
      "metadata": {
        "id": "NhUKK9OHmJy0"
      },
      "outputs": [],
      "source": []
    }
  ],
  "metadata": {
    "kernelspec": {
      "display_name": "Python 3",
      "language": "python",
      "name": "python3"
    },
    "language_info": {
      "codemirror_mode": {
        "name": "ipython",
        "version": 3
      },
      "file_extension": ".py",
      "mimetype": "text/x-python",
      "name": "python",
      "nbconvert_exporter": "python",
      "pygments_lexer": "ipython3",
      "version": "3.8.5"
    },
    "colab": {
      "provenance": [],
      "include_colab_link": true
    }
  },
  "nbformat": 4,
  "nbformat_minor": 0
}